{
  "nbformat": 4,
  "nbformat_minor": 0,
  "metadata": {
    "colab": {
      "name": "wordembedding_glove.ipynb",
      "provenance": [],
      "machine_shape": "hm",
      "background_execution": "on",
      "mount_file_id": "10LVmyELpvxvFlPPO_y4pAqr6GuuZe72y",
      "authorship_tag": "ABX9TyNYyLkq2qiOkVqKIR4Nu5JP",
      "include_colab_link": true
    },
    "kernelspec": {
      "name": "python3",
      "display_name": "Python 3"
    },
    "language_info": {
      "name": "python"
    },
    "accelerator": "GPU"
  },
  "cells": [
    {
      "cell_type": "markdown",
      "metadata": {
        "id": "view-in-github",
        "colab_type": "text"
      },
      "source": [
        "<a href=\"https://colab.research.google.com/github/Hongbi-Kim/Writing_lyrics/blob/master/wordembedding_glove.ipynb\" target=\"_parent\"><img src=\"https://colab.research.google.com/assets/colab-badge.svg\" alt=\"Open In Colab\"/></a>"
      ]
    },
    {
      "cell_type": "code",
      "source": [
        "import pandas as pd\n",
        "import numpy as np"
      ],
      "metadata": {
        "id": "67bkXNJX2h8A"
      },
      "execution_count": null,
      "outputs": []
    },
    {
      "cell_type": "code",
      "source": [
        "df = pd.read_pickle('/content/drive/MyDrive/5조_파이널PJT/코드/data/melon_mecab.pkl')"
      ],
      "metadata": {
        "id": "Y_PSWHyE2m5x"
      },
      "execution_count": null,
      "outputs": []
    },
    {
      "cell_type": "code",
      "source": [
        "df"
      ],
      "metadata": {
        "colab": {
          "base_uri": "https://localhost:8080/",
          "height": 988
        },
        "id": "8kzHco8lEzmr",
        "outputId": "41eded1c-6fe3-42d1-e065-ddf7250c0b7b"
      },
      "execution_count": null,
      "outputs": [
        {
          "output_type": "execute_result",
          "data": {
            "text/plain": [
              "       pages   rank                                              title  \\\n",
              "0          1      1                                             사랑인가 봐   \n",
              "1          1      2                                               취중고백   \n",
              "2          1      3                                             듣고 싶을까   \n",
              "3          1      4                                          사랑은 늘 도망가   \n",
              "4          1      5                                            언제나 사랑해   \n",
              "...      ...    ...                                                ...   \n",
              "94608  26101  26146                              음주운전 하지마 (하지마송part.1)   \n",
              "94609  26101  26147  All I Want for Christmas Is You (Feat. Edward ...   \n",
              "94610  26101  26148                                  Starlight (inst.)   \n",
              "94611  26101  26149                                        사막별 (inst.)   \n",
              "94612  26101  26150                                    힘내라 친구야 (Inst.)   \n",
              "\n",
              "                                                   lyric  \\\n",
              "0      너와 함께 하고 싶은 일들을\\n상상하는 게\\n요즘 내 일상이 되고\\n너의 즐거워하는...   \n",
              "1      뭐하고 있었니 늦었지만\\n잠시 나올래\\n너의 집 골목에 있는\\n놀이터에 앉아 있어\\...   \n",
              "2      우리 함께 듣던 그 노랠 듣고 싶을까\\n듣고 나서 잠시 날 생각은 할까\\n아주 혹시...   \n",
              "3      눈물이 난다 이 길을 걸으면\\n그 사람 손길이 자꾸 생각이 난다\\n붙잡지 못하고 가...   \n",
              "4      둘이 손잡고 걸을 때\\n마주 보며 또 웃을 때\\n사랑한다 말하지 않아도 알아\\n널 ...   \n",
              "...                                                  ...   \n",
              "94608  하지마 하지마 음주운전 하지마\\n하지마 하지마 음주운전 하지마\\n술먹고 운전했었어\\...   \n",
              "94609  Merry christmas\\n큰마음 먹고 널 위해 준비한 데이트\\n나 홀로 집에 ...   \n",
              "94610  저 떨어지는 별에 빌었어\\n지금 네 맘도 나와 똑같기를\\n잠든 밤이 지나고 네가 떠...   \n",
              "94611  소중한 무언가를 난 또 쫓고 있어\\n어떤 모양인지조차\\n생각해 볼 순간도 없고\\n너...   \n",
              "94612  마시자 잔을 들어 친구야\\n사느라고 고생이 많다\\n막힌 현실에 갇혀 살아도\\n잘 버...   \n",
              "\n",
              "                                artist      genres                 writer  \\\n",
              "0                                 멜로망스  발라드, 국내드라마             김민석 (멜로망스)   \n",
              "1                           김민석 (멜로망스)         발라드                    김희탐   \n",
              "2                        MSG워너비(M.O.M)         발라드                  Dr.JO   \n",
              "3                                  임영웅  발라드, 국내드라마                    강태규   \n",
              "4                          케이시 (Kassy)         발라드                    조영수   \n",
              "...                                ...         ...                    ...   \n",
              "94608                               강건          댄스                     강건   \n",
              "94609  커플다이어리, 아우라 (AOORA), $milli, 윤제    댄스, 인디음악            아우라 (AOORA)   \n",
              "94610                             ENOi          댄스                  JYMON   \n",
              "94611                             ENOi          댄스  페이퍼플래닛 (Paper Planet)   \n",
              "94612                        코드 (KOHD)          댄스                    유해준   \n",
              "\n",
              "                                             lyric_mecab  \\\n",
              "0      [(너, NP), (와, JKB), (함께, MAG), (하, VV), (고, EC...   \n",
              "1      [(뭐, IC), (하, VV), (고, EC), (있, VX), (었, EP), ...   \n",
              "2      [(우리, NP), (함께, MAG), (듣, VV), (던, ETM), (그, M...   \n",
              "3      [(눈물, NNG), (이, JKS), (난다, VV+EF), (이, MM), (길...   \n",
              "4      [(둘, NR), (이, JKS), (손잡, VV), (고, EC), (걸, VV)...   \n",
              "...                                                  ...   \n",
              "94608  [(하, VV), (지, EC), (마, VX+EC), (하, VV), (지, EC...   \n",
              "94609  [(Merry, SL), (christmas, SL), (큰, VA+ETM), (마...   \n",
              "94610  [(저, NP), (떨어지, VV), (는, ETM), (별, NNG), (에, J...   \n",
              "94611  [(소중, XR), (한, XSA+ETM), (무언가, NNG), (를, JKO),...   \n",
              "94612  [(마시, VV), (자, EC), (잔, NNG), (을, JKO), (들, VV...   \n",
              "\n",
              "                                                    word  \n",
              "0      [너, 와, 함께, 하, 고, 싶, 은, 일, 들, 을, 상상, 하, 는, 게, 요...  \n",
              "1      [뭐, 하, 고, 있, 었, 니, 늦, 었, 지만, 잠시, 나올래, 너, 의, 집,...  \n",
              "2      [우리, 함께, 듣, 던, 그, 노랠, 듣, 고, 싶, 을까, 듣, 고, 나, 서,...  \n",
              "3      [눈물, 이, 난다, 이, 길, 을, 걸으면, 그, 사람, 손길, 이, 자꾸, 생각...  \n",
              "4      [둘, 이, 손잡, 고, 걸, 을, 때, 마주, 보, 며, 또, 웃, 을, 때, 사...  \n",
              "...                                                  ...  \n",
              "94608  [하, 지, 마, 하, 지, 마, 음주운전, 하, 지, 마, 하, 지, 마, 하, ...  \n",
              "94609  [Merry, christmas, 큰, 마음, 먹, 고, 널, 위해, 준비, 한, ...  \n",
              "94610  [저, 떨어지, 는, 별, 에, 빌, 었, 어, 지금, 네, 맘, 도, 나, 와, ...  \n",
              "94611  [소중, 한, 무언가, 를, 난, 또, 쫓, 고, 있, 어, 어떤, 모양, 인지, ...  \n",
              "94612  [마시, 자, 잔, 을, 들, 어, 친구, 야, 사, 느라고, 고생, 이, 많, 다...  \n",
              "\n",
              "[94613 rows x 9 columns]"
            ],
            "text/html": [
              "\n",
              "  <div id=\"df-b6a63460-657e-476c-bace-94c99737eb8f\">\n",
              "    <div class=\"colab-df-container\">\n",
              "      <div>\n",
              "<style scoped>\n",
              "    .dataframe tbody tr th:only-of-type {\n",
              "        vertical-align: middle;\n",
              "    }\n",
              "\n",
              "    .dataframe tbody tr th {\n",
              "        vertical-align: top;\n",
              "    }\n",
              "\n",
              "    .dataframe thead th {\n",
              "        text-align: right;\n",
              "    }\n",
              "</style>\n",
              "<table border=\"1\" class=\"dataframe\">\n",
              "  <thead>\n",
              "    <tr style=\"text-align: right;\">\n",
              "      <th></th>\n",
              "      <th>pages</th>\n",
              "      <th>rank</th>\n",
              "      <th>title</th>\n",
              "      <th>lyric</th>\n",
              "      <th>artist</th>\n",
              "      <th>genres</th>\n",
              "      <th>writer</th>\n",
              "      <th>lyric_mecab</th>\n",
              "      <th>word</th>\n",
              "    </tr>\n",
              "  </thead>\n",
              "  <tbody>\n",
              "    <tr>\n",
              "      <th>0</th>\n",
              "      <td>1</td>\n",
              "      <td>1</td>\n",
              "      <td>사랑인가 봐</td>\n",
              "      <td>너와 함께 하고 싶은 일들을\\n상상하는 게\\n요즘 내 일상이 되고\\n너의 즐거워하는...</td>\n",
              "      <td>멜로망스</td>\n",
              "      <td>발라드, 국내드라마</td>\n",
              "      <td>김민석 (멜로망스)</td>\n",
              "      <td>[(너, NP), (와, JKB), (함께, MAG), (하, VV), (고, EC...</td>\n",
              "      <td>[너, 와, 함께, 하, 고, 싶, 은, 일, 들, 을, 상상, 하, 는, 게, 요...</td>\n",
              "    </tr>\n",
              "    <tr>\n",
              "      <th>1</th>\n",
              "      <td>1</td>\n",
              "      <td>2</td>\n",
              "      <td>취중고백</td>\n",
              "      <td>뭐하고 있었니 늦었지만\\n잠시 나올래\\n너의 집 골목에 있는\\n놀이터에 앉아 있어\\...</td>\n",
              "      <td>김민석 (멜로망스)</td>\n",
              "      <td>발라드</td>\n",
              "      <td>김희탐</td>\n",
              "      <td>[(뭐, IC), (하, VV), (고, EC), (있, VX), (었, EP), ...</td>\n",
              "      <td>[뭐, 하, 고, 있, 었, 니, 늦, 었, 지만, 잠시, 나올래, 너, 의, 집,...</td>\n",
              "    </tr>\n",
              "    <tr>\n",
              "      <th>2</th>\n",
              "      <td>1</td>\n",
              "      <td>3</td>\n",
              "      <td>듣고 싶을까</td>\n",
              "      <td>우리 함께 듣던 그 노랠 듣고 싶을까\\n듣고 나서 잠시 날 생각은 할까\\n아주 혹시...</td>\n",
              "      <td>MSG워너비(M.O.M)</td>\n",
              "      <td>발라드</td>\n",
              "      <td>Dr.JO</td>\n",
              "      <td>[(우리, NP), (함께, MAG), (듣, VV), (던, ETM), (그, M...</td>\n",
              "      <td>[우리, 함께, 듣, 던, 그, 노랠, 듣, 고, 싶, 을까, 듣, 고, 나, 서,...</td>\n",
              "    </tr>\n",
              "    <tr>\n",
              "      <th>3</th>\n",
              "      <td>1</td>\n",
              "      <td>4</td>\n",
              "      <td>사랑은 늘 도망가</td>\n",
              "      <td>눈물이 난다 이 길을 걸으면\\n그 사람 손길이 자꾸 생각이 난다\\n붙잡지 못하고 가...</td>\n",
              "      <td>임영웅</td>\n",
              "      <td>발라드, 국내드라마</td>\n",
              "      <td>강태규</td>\n",
              "      <td>[(눈물, NNG), (이, JKS), (난다, VV+EF), (이, MM), (길...</td>\n",
              "      <td>[눈물, 이, 난다, 이, 길, 을, 걸으면, 그, 사람, 손길, 이, 자꾸, 생각...</td>\n",
              "    </tr>\n",
              "    <tr>\n",
              "      <th>4</th>\n",
              "      <td>1</td>\n",
              "      <td>5</td>\n",
              "      <td>언제나 사랑해</td>\n",
              "      <td>둘이 손잡고 걸을 때\\n마주 보며 또 웃을 때\\n사랑한다 말하지 않아도 알아\\n널 ...</td>\n",
              "      <td>케이시 (Kassy)</td>\n",
              "      <td>발라드</td>\n",
              "      <td>조영수</td>\n",
              "      <td>[(둘, NR), (이, JKS), (손잡, VV), (고, EC), (걸, VV)...</td>\n",
              "      <td>[둘, 이, 손잡, 고, 걸, 을, 때, 마주, 보, 며, 또, 웃, 을, 때, 사...</td>\n",
              "    </tr>\n",
              "    <tr>\n",
              "      <th>...</th>\n",
              "      <td>...</td>\n",
              "      <td>...</td>\n",
              "      <td>...</td>\n",
              "      <td>...</td>\n",
              "      <td>...</td>\n",
              "      <td>...</td>\n",
              "      <td>...</td>\n",
              "      <td>...</td>\n",
              "      <td>...</td>\n",
              "    </tr>\n",
              "    <tr>\n",
              "      <th>94608</th>\n",
              "      <td>26101</td>\n",
              "      <td>26146</td>\n",
              "      <td>음주운전 하지마 (하지마송part.1)</td>\n",
              "      <td>하지마 하지마 음주운전 하지마\\n하지마 하지마 음주운전 하지마\\n술먹고 운전했었어\\...</td>\n",
              "      <td>강건</td>\n",
              "      <td>댄스</td>\n",
              "      <td>강건</td>\n",
              "      <td>[(하, VV), (지, EC), (마, VX+EC), (하, VV), (지, EC...</td>\n",
              "      <td>[하, 지, 마, 하, 지, 마, 음주운전, 하, 지, 마, 하, 지, 마, 하, ...</td>\n",
              "    </tr>\n",
              "    <tr>\n",
              "      <th>94609</th>\n",
              "      <td>26101</td>\n",
              "      <td>26147</td>\n",
              "      <td>All I Want for Christmas Is You (Feat. Edward ...</td>\n",
              "      <td>Merry christmas\\n큰마음 먹고 널 위해 준비한 데이트\\n나 홀로 집에 ...</td>\n",
              "      <td>커플다이어리, 아우라 (AOORA), $milli, 윤제</td>\n",
              "      <td>댄스, 인디음악</td>\n",
              "      <td>아우라 (AOORA)</td>\n",
              "      <td>[(Merry, SL), (christmas, SL), (큰, VA+ETM), (마...</td>\n",
              "      <td>[Merry, christmas, 큰, 마음, 먹, 고, 널, 위해, 준비, 한, ...</td>\n",
              "    </tr>\n",
              "    <tr>\n",
              "      <th>94610</th>\n",
              "      <td>26101</td>\n",
              "      <td>26148</td>\n",
              "      <td>Starlight (inst.)</td>\n",
              "      <td>저 떨어지는 별에 빌었어\\n지금 네 맘도 나와 똑같기를\\n잠든 밤이 지나고 네가 떠...</td>\n",
              "      <td>ENOi</td>\n",
              "      <td>댄스</td>\n",
              "      <td>JYMON</td>\n",
              "      <td>[(저, NP), (떨어지, VV), (는, ETM), (별, NNG), (에, J...</td>\n",
              "      <td>[저, 떨어지, 는, 별, 에, 빌, 었, 어, 지금, 네, 맘, 도, 나, 와, ...</td>\n",
              "    </tr>\n",
              "    <tr>\n",
              "      <th>94611</th>\n",
              "      <td>26101</td>\n",
              "      <td>26149</td>\n",
              "      <td>사막별 (inst.)</td>\n",
              "      <td>소중한 무언가를 난 또 쫓고 있어\\n어떤 모양인지조차\\n생각해 볼 순간도 없고\\n너...</td>\n",
              "      <td>ENOi</td>\n",
              "      <td>댄스</td>\n",
              "      <td>페이퍼플래닛 (Paper Planet)</td>\n",
              "      <td>[(소중, XR), (한, XSA+ETM), (무언가, NNG), (를, JKO),...</td>\n",
              "      <td>[소중, 한, 무언가, 를, 난, 또, 쫓, 고, 있, 어, 어떤, 모양, 인지, ...</td>\n",
              "    </tr>\n",
              "    <tr>\n",
              "      <th>94612</th>\n",
              "      <td>26101</td>\n",
              "      <td>26150</td>\n",
              "      <td>힘내라 친구야 (Inst.)</td>\n",
              "      <td>마시자 잔을 들어 친구야\\n사느라고 고생이 많다\\n막힌 현실에 갇혀 살아도\\n잘 버...</td>\n",
              "      <td>코드 (KOHD)</td>\n",
              "      <td>댄스</td>\n",
              "      <td>유해준</td>\n",
              "      <td>[(마시, VV), (자, EC), (잔, NNG), (을, JKO), (들, VV...</td>\n",
              "      <td>[마시, 자, 잔, 을, 들, 어, 친구, 야, 사, 느라고, 고생, 이, 많, 다...</td>\n",
              "    </tr>\n",
              "  </tbody>\n",
              "</table>\n",
              "<p>94613 rows × 9 columns</p>\n",
              "</div>\n",
              "      <button class=\"colab-df-convert\" onclick=\"convertToInteractive('df-b6a63460-657e-476c-bace-94c99737eb8f')\"\n",
              "              title=\"Convert this dataframe to an interactive table.\"\n",
              "              style=\"display:none;\">\n",
              "        \n",
              "  <svg xmlns=\"http://www.w3.org/2000/svg\" height=\"24px\"viewBox=\"0 0 24 24\"\n",
              "       width=\"24px\">\n",
              "    <path d=\"M0 0h24v24H0V0z\" fill=\"none\"/>\n",
              "    <path d=\"M18.56 5.44l.94 2.06.94-2.06 2.06-.94-2.06-.94-.94-2.06-.94 2.06-2.06.94zm-11 1L8.5 8.5l.94-2.06 2.06-.94-2.06-.94L8.5 2.5l-.94 2.06-2.06.94zm10 10l.94 2.06.94-2.06 2.06-.94-2.06-.94-.94-2.06-.94 2.06-2.06.94z\"/><path d=\"M17.41 7.96l-1.37-1.37c-.4-.4-.92-.59-1.43-.59-.52 0-1.04.2-1.43.59L10.3 9.45l-7.72 7.72c-.78.78-.78 2.05 0 2.83L4 21.41c.39.39.9.59 1.41.59.51 0 1.02-.2 1.41-.59l7.78-7.78 2.81-2.81c.8-.78.8-2.07 0-2.86zM5.41 20L4 18.59l7.72-7.72 1.47 1.35L5.41 20z\"/>\n",
              "  </svg>\n",
              "      </button>\n",
              "      \n",
              "  <style>\n",
              "    .colab-df-container {\n",
              "      display:flex;\n",
              "      flex-wrap:wrap;\n",
              "      gap: 12px;\n",
              "    }\n",
              "\n",
              "    .colab-df-convert {\n",
              "      background-color: #E8F0FE;\n",
              "      border: none;\n",
              "      border-radius: 50%;\n",
              "      cursor: pointer;\n",
              "      display: none;\n",
              "      fill: #1967D2;\n",
              "      height: 32px;\n",
              "      padding: 0 0 0 0;\n",
              "      width: 32px;\n",
              "    }\n",
              "\n",
              "    .colab-df-convert:hover {\n",
              "      background-color: #E2EBFA;\n",
              "      box-shadow: 0px 1px 2px rgba(60, 64, 67, 0.3), 0px 1px 3px 1px rgba(60, 64, 67, 0.15);\n",
              "      fill: #174EA6;\n",
              "    }\n",
              "\n",
              "    [theme=dark] .colab-df-convert {\n",
              "      background-color: #3B4455;\n",
              "      fill: #D2E3FC;\n",
              "    }\n",
              "\n",
              "    [theme=dark] .colab-df-convert:hover {\n",
              "      background-color: #434B5C;\n",
              "      box-shadow: 0px 1px 3px 1px rgba(0, 0, 0, 0.15);\n",
              "      filter: drop-shadow(0px 1px 2px rgba(0, 0, 0, 0.3));\n",
              "      fill: #FFFFFF;\n",
              "    }\n",
              "  </style>\n",
              "\n",
              "      <script>\n",
              "        const buttonEl =\n",
              "          document.querySelector('#df-b6a63460-657e-476c-bace-94c99737eb8f button.colab-df-convert');\n",
              "        buttonEl.style.display =\n",
              "          google.colab.kernel.accessAllowed ? 'block' : 'none';\n",
              "\n",
              "        async function convertToInteractive(key) {\n",
              "          const element = document.querySelector('#df-b6a63460-657e-476c-bace-94c99737eb8f');\n",
              "          const dataTable =\n",
              "            await google.colab.kernel.invokeFunction('convertToInteractive',\n",
              "                                                     [key], {});\n",
              "          if (!dataTable) return;\n",
              "\n",
              "          const docLinkHtml = 'Like what you see? Visit the ' +\n",
              "            '<a target=\"_blank\" href=https://colab.research.google.com/notebooks/data_table.ipynb>data table notebook</a>'\n",
              "            + ' to learn more about interactive tables.';\n",
              "          element.innerHTML = '';\n",
              "          dataTable['output_type'] = 'display_data';\n",
              "          await google.colab.output.renderOutput(dataTable, element);\n",
              "          const docLink = document.createElement('div');\n",
              "          docLink.innerHTML = docLinkHtml;\n",
              "          element.appendChild(docLink);\n",
              "        }\n",
              "      </script>\n",
              "    </div>\n",
              "  </div>\n",
              "  "
            ]
          },
          "metadata": {},
          "execution_count": 36
        }
      ]
    },
    {
      "cell_type": "code",
      "source": [
        "df['word'][94612]"
      ],
      "metadata": {
        "colab": {
          "base_uri": "https://localhost:8080/"
        },
        "id": "YxzACWyKE3i1",
        "outputId": "a696bffc-ac36-41b4-c215-9c4a4148e0e0"
      },
      "execution_count": null,
      "outputs": [
        {
          "output_type": "execute_result",
          "data": {
            "text/plain": [
              "['마시',\n",
              " '자',\n",
              " '잔',\n",
              " '을',\n",
              " '들',\n",
              " '어',\n",
              " '친구',\n",
              " '야',\n",
              " '사',\n",
              " '느라고',\n",
              " '고생',\n",
              " '이',\n",
              " '많',\n",
              " '다',\n",
              " '막힌',\n",
              " '현실',\n",
              " '에',\n",
              " '갇혀',\n",
              " '살',\n",
              " '아도',\n",
              " '잘',\n",
              " '버티',\n",
              " '고',\n",
              " '있',\n",
              " '다',\n",
              " '울',\n",
              " '어라',\n",
              " '맘껏',\n",
              " '울',\n",
              " '어',\n",
              " '친구',\n",
              " '야',\n",
              " '실컷',\n",
              " '울',\n",
              " '고',\n",
              " '다시',\n",
              " '일어나',\n",
              " '슬픔',\n",
              " '을',\n",
              " '비워',\n",
              " '걱정',\n",
              " '을',\n",
              " '비워',\n",
              " '힘내',\n",
              " '라',\n",
              " '친구',\n",
              " '야',\n",
              " '사랑',\n",
              " '때문',\n",
              " '에',\n",
              " '상처',\n",
              " '받',\n",
              " '아도',\n",
              " '너무',\n",
              " '슬퍼마라',\n",
              " '그리움',\n",
              " '으로',\n",
              " '괴롭',\n",
              " '겠',\n",
              " '지만',\n",
              " '시간',\n",
              " '이',\n",
              " '잊',\n",
              " '어',\n",
              " '준다',\n",
              " '돈',\n",
              " '땜',\n",
              " '에',\n",
              " '울',\n",
              " '고',\n",
              " '상처',\n",
              " '받',\n",
              " '아도',\n",
              " '너무',\n",
              " '슬퍼마라',\n",
              " '김밥',\n",
              " '한',\n",
              " '줄',\n",
              " '로',\n",
              " '배',\n",
              " '를',\n",
              " '채워도',\n",
              " '행복',\n",
              " '이란',\n",
              " '있',\n",
              " '다',\n",
              " '마시',\n",
              " '자',\n",
              " '잔',\n",
              " '을',\n",
              " '들',\n",
              " '어',\n",
              " '친구',\n",
              " '야',\n",
              " '사',\n",
              " '느라고',\n",
              " '고생',\n",
              " '이',\n",
              " '많',\n",
              " '다',\n",
              " '막힌',\n",
              " '현실',\n",
              " '에',\n",
              " '갇혀',\n",
              " '살',\n",
              " '아도',\n",
              " '잘',\n",
              " '버티',\n",
              " '고',\n",
              " '있',\n",
              " '다',\n",
              " '울',\n",
              " '어라',\n",
              " '맘껏',\n",
              " '울',\n",
              " '어',\n",
              " '친구',\n",
              " '야',\n",
              " '실컷',\n",
              " '울',\n",
              " '고',\n",
              " '다시',\n",
              " '일어나',\n",
              " '슬픔',\n",
              " '을',\n",
              " '비워',\n",
              " '걱정',\n",
              " '을',\n",
              " '비워',\n",
              " '힘내',\n",
              " '라',\n",
              " '친구',\n",
              " '야',\n",
              " '일어나',\n",
              " '지',\n",
              " '도',\n",
              " '않',\n",
              " '은',\n",
              " '일',\n",
              " '들',\n",
              " '로',\n",
              " '미리',\n",
              " '걱정',\n",
              " '마라',\n",
              " '걱정',\n",
              " '한다고',\n",
              " '뭐',\n",
              " '가',\n",
              " '변하',\n",
              " '나',\n",
              " '편하',\n",
              " '게',\n",
              " '생각',\n",
              " '해라',\n",
              " '하',\n",
              " '는',\n",
              " '일',\n",
              " '들',\n",
              " '이',\n",
              " '안',\n",
              " '풀린다고',\n",
              " '너무',\n",
              " '걱정',\n",
              " '마라',\n",
              " '사람',\n",
              " '앞일',\n",
              " '은',\n",
              " '모르',\n",
              " '는',\n",
              " '거',\n",
              " '야',\n",
              " '너',\n",
              " '는',\n",
              " '해낼',\n",
              " '거',\n",
              " '야',\n",
              " '마시',\n",
              " '자',\n",
              " '잔',\n",
              " '을',\n",
              " '들',\n",
              " '어',\n",
              " '친구',\n",
              " '야',\n",
              " '사',\n",
              " '느라고',\n",
              " '고생',\n",
              " '이',\n",
              " '많',\n",
              " '다',\n",
              " '막힌',\n",
              " '현실',\n",
              " '에',\n",
              " '갇혀',\n",
              " '살',\n",
              " '아도',\n",
              " '잘',\n",
              " '버티',\n",
              " '고',\n",
              " '있',\n",
              " '다',\n",
              " '울',\n",
              " '어라',\n",
              " '맘껏',\n",
              " '울',\n",
              " '어',\n",
              " '친구',\n",
              " '야',\n",
              " '실컷',\n",
              " '울',\n",
              " '고',\n",
              " '다시',\n",
              " '일어나',\n",
              " '슬픔',\n",
              " '을',\n",
              " '비워',\n",
              " '걱정',\n",
              " '을',\n",
              " '비워',\n",
              " '힘내',\n",
              " '라',\n",
              " '친구',\n",
              " '야',\n",
              " '세상사',\n",
              " '는',\n",
              " '일',\n",
              " '내',\n",
              " '맘',\n",
              " '같',\n",
              " '지',\n",
              " '않',\n",
              " '아도',\n",
              " '모든',\n",
              " '것',\n",
              " '들',\n",
              " '은',\n",
              " '때',\n",
              " '가',\n",
              " '있',\n",
              " '는',\n",
              " '거',\n",
              " '야',\n",
              " '결국',\n",
              " '잘',\n",
              " '될',\n",
              " '거',\n",
              " '야',\n",
              " '다',\n",
              " '잊',\n",
              " '고',\n",
              " '잔',\n",
              " '을',\n",
              " '들',\n",
              " '어',\n",
              " '친구',\n",
              " '야',\n",
              " '건배',\n",
              " '하',\n",
              " '자',\n",
              " '내일',\n",
              " '을',\n",
              " '위해',\n",
              " '장담',\n",
              " '하',\n",
              " '는',\n",
              " '데',\n",
              " '오늘',\n",
              " '보다',\n",
              " '는',\n",
              " '더',\n",
              " '나아질',\n",
              " '거',\n",
              " '야',\n",
              " '힘내',\n",
              " '라',\n",
              " '멋진',\n",
              " '나',\n",
              " '의',\n",
              " '친구',\n",
              " '야',\n",
              " '너',\n",
              " '는',\n",
              " '이미',\n",
              " '행복',\n",
              " '한',\n",
              " '거',\n",
              " '야',\n",
              " '함께',\n",
              " '슬퍼해',\n",
              " '줄',\n",
              " '친구',\n",
              " '가',\n",
              " '있',\n",
              " '다',\n",
              " '웃',\n",
              " '어라',\n",
              " '친구',\n",
              " '야',\n",
              " '함께',\n",
              " '슬퍼해',\n",
              " '줄',\n",
              " '친구',\n",
              " '가',\n",
              " '있',\n",
              " '다',\n",
              " '웃',\n",
              " '어라',\n",
              " '친구',\n",
              " '야']"
            ]
          },
          "metadata": {},
          "execution_count": 39
        }
      ]
    },
    {
      "cell_type": "markdown",
      "source": [
        "# 1. GloVe\n",
        "* Word2Vec과 동일한  말뭉치 (corpus)사용\n",
        "- https://jxnjxn.tistory.com/49\n",
        "- https://heung-bae-lee.github.io/2020/01/16/NLP_01/"
      ],
      "metadata": {
        "id": "GeTFL20c1xXj"
      }
    },
    {
      "cell_type": "code",
      "execution_count": null,
      "metadata": {
        "colab": {
          "base_uri": "https://localhost:8080/"
        },
        "id": "4FIk6rRUzAuY",
        "outputId": "34b417fb-303c-4252-ba56-37b3b2cac317"
      },
      "outputs": [
        {
          "output_type": "stream",
          "name": "stdout",
          "text": [
            "Collecting glove_python_binary\n",
            "  Downloading glove_python_binary-0.2.0-cp37-cp37m-manylinux1_x86_64.whl (948 kB)\n",
            "\u001b[?25l\r\u001b[K     |▍                               | 10 kB 28.6 MB/s eta 0:00:01\r\u001b[K     |▊                               | 20 kB 35.0 MB/s eta 0:00:01\r\u001b[K     |█                               | 30 kB 27.1 MB/s eta 0:00:01\r\u001b[K     |█▍                              | 40 kB 14.0 MB/s eta 0:00:01\r\u001b[K     |█▊                              | 51 kB 13.6 MB/s eta 0:00:01\r\u001b[K     |██                              | 61 kB 15.9 MB/s eta 0:00:01\r\u001b[K     |██▍                             | 71 kB 14.7 MB/s eta 0:00:01\r\u001b[K     |██▊                             | 81 kB 14.4 MB/s eta 0:00:01\r\u001b[K     |███                             | 92 kB 15.9 MB/s eta 0:00:01\r\u001b[K     |███▌                            | 102 kB 14.3 MB/s eta 0:00:01\r\u001b[K     |███▉                            | 112 kB 14.3 MB/s eta 0:00:01\r\u001b[K     |████▏                           | 122 kB 14.3 MB/s eta 0:00:01\r\u001b[K     |████▌                           | 133 kB 14.3 MB/s eta 0:00:01\r\u001b[K     |████▉                           | 143 kB 14.3 MB/s eta 0:00:01\r\u001b[K     |█████▏                          | 153 kB 14.3 MB/s eta 0:00:01\r\u001b[K     |█████▌                          | 163 kB 14.3 MB/s eta 0:00:01\r\u001b[K     |█████▉                          | 174 kB 14.3 MB/s eta 0:00:01\r\u001b[K     |██████▏                         | 184 kB 14.3 MB/s eta 0:00:01\r\u001b[K     |██████▋                         | 194 kB 14.3 MB/s eta 0:00:01\r\u001b[K     |███████                         | 204 kB 14.3 MB/s eta 0:00:01\r\u001b[K     |███████▎                        | 215 kB 14.3 MB/s eta 0:00:01\r\u001b[K     |███████▋                        | 225 kB 14.3 MB/s eta 0:00:01\r\u001b[K     |████████                        | 235 kB 14.3 MB/s eta 0:00:01\r\u001b[K     |████████▎                       | 245 kB 14.3 MB/s eta 0:00:01\r\u001b[K     |████████▋                       | 256 kB 14.3 MB/s eta 0:00:01\r\u001b[K     |█████████                       | 266 kB 14.3 MB/s eta 0:00:01\r\u001b[K     |█████████▎                      | 276 kB 14.3 MB/s eta 0:00:01\r\u001b[K     |█████████▊                      | 286 kB 14.3 MB/s eta 0:00:01\r\u001b[K     |██████████                      | 296 kB 14.3 MB/s eta 0:00:01\r\u001b[K     |██████████▍                     | 307 kB 14.3 MB/s eta 0:00:01\r\u001b[K     |██████████▊                     | 317 kB 14.3 MB/s eta 0:00:01\r\u001b[K     |███████████                     | 327 kB 14.3 MB/s eta 0:00:01\r\u001b[K     |███████████▍                    | 337 kB 14.3 MB/s eta 0:00:01\r\u001b[K     |███████████▊                    | 348 kB 14.3 MB/s eta 0:00:01\r\u001b[K     |████████████                    | 358 kB 14.3 MB/s eta 0:00:01\r\u001b[K     |████████████▍                   | 368 kB 14.3 MB/s eta 0:00:01\r\u001b[K     |████████████▊                   | 378 kB 14.3 MB/s eta 0:00:01\r\u001b[K     |█████████████▏                  | 389 kB 14.3 MB/s eta 0:00:01\r\u001b[K     |█████████████▌                  | 399 kB 14.3 MB/s eta 0:00:01\r\u001b[K     |█████████████▉                  | 409 kB 14.3 MB/s eta 0:00:01\r\u001b[K     |██████████████▏                 | 419 kB 14.3 MB/s eta 0:00:01\r\u001b[K     |██████████████▌                 | 430 kB 14.3 MB/s eta 0:00:01\r\u001b[K     |██████████████▉                 | 440 kB 14.3 MB/s eta 0:00:01\r\u001b[K     |███████████████▏                | 450 kB 14.3 MB/s eta 0:00:01\r\u001b[K     |███████████████▌                | 460 kB 14.3 MB/s eta 0:00:01\r\u001b[K     |███████████████▉                | 471 kB 14.3 MB/s eta 0:00:01\r\u001b[K     |████████████████▎               | 481 kB 14.3 MB/s eta 0:00:01\r\u001b[K     |████████████████▋               | 491 kB 14.3 MB/s eta 0:00:01\r\u001b[K     |█████████████████               | 501 kB 14.3 MB/s eta 0:00:01\r\u001b[K     |█████████████████▎              | 512 kB 14.3 MB/s eta 0:00:01\r\u001b[K     |█████████████████▋              | 522 kB 14.3 MB/s eta 0:00:01\r\u001b[K     |██████████████████              | 532 kB 14.3 MB/s eta 0:00:01\r\u001b[K     |██████████████████▎             | 542 kB 14.3 MB/s eta 0:00:01\r\u001b[K     |██████████████████▋             | 552 kB 14.3 MB/s eta 0:00:01\r\u001b[K     |███████████████████             | 563 kB 14.3 MB/s eta 0:00:01\r\u001b[K     |███████████████████▍            | 573 kB 14.3 MB/s eta 0:00:01\r\u001b[K     |███████████████████▊            | 583 kB 14.3 MB/s eta 0:00:01\r\u001b[K     |████████████████████            | 593 kB 14.3 MB/s eta 0:00:01\r\u001b[K     |████████████████████▍           | 604 kB 14.3 MB/s eta 0:00:01\r\u001b[K     |████████████████████▊           | 614 kB 14.3 MB/s eta 0:00:01\r\u001b[K     |█████████████████████           | 624 kB 14.3 MB/s eta 0:00:01\r\u001b[K     |█████████████████████▍          | 634 kB 14.3 MB/s eta 0:00:01\r\u001b[K     |█████████████████████▊          | 645 kB 14.3 MB/s eta 0:00:01\r\u001b[K     |██████████████████████          | 655 kB 14.3 MB/s eta 0:00:01\r\u001b[K     |██████████████████████▌         | 665 kB 14.3 MB/s eta 0:00:01\r\u001b[K     |██████████████████████▉         | 675 kB 14.3 MB/s eta 0:00:01\r\u001b[K     |███████████████████████▏        | 686 kB 14.3 MB/s eta 0:00:01\r\u001b[K     |███████████████████████▌        | 696 kB 14.3 MB/s eta 0:00:01\r\u001b[K     |███████████████████████▉        | 706 kB 14.3 MB/s eta 0:00:01\r\u001b[K     |████████████████████████▏       | 716 kB 14.3 MB/s eta 0:00:01\r\u001b[K     |████████████████████████▌       | 727 kB 14.3 MB/s eta 0:00:01\r\u001b[K     |████████████████████████▉       | 737 kB 14.3 MB/s eta 0:00:01\r\u001b[K     |█████████████████████████▏      | 747 kB 14.3 MB/s eta 0:00:01\r\u001b[K     |█████████████████████████▌      | 757 kB 14.3 MB/s eta 0:00:01\r\u001b[K     |██████████████████████████      | 768 kB 14.3 MB/s eta 0:00:01\r\u001b[K     |██████████████████████████▎     | 778 kB 14.3 MB/s eta 0:00:01\r\u001b[K     |██████████████████████████▋     | 788 kB 14.3 MB/s eta 0:00:01\r\u001b[K     |███████████████████████████     | 798 kB 14.3 MB/s eta 0:00:01\r\u001b[K     |███████████████████████████▎    | 808 kB 14.3 MB/s eta 0:00:01\r\u001b[K     |███████████████████████████▋    | 819 kB 14.3 MB/s eta 0:00:01\r\u001b[K     |████████████████████████████    | 829 kB 14.3 MB/s eta 0:00:01\r\u001b[K     |████████████████████████████▎   | 839 kB 14.3 MB/s eta 0:00:01\r\u001b[K     |████████████████████████████▋   | 849 kB 14.3 MB/s eta 0:00:01\r\u001b[K     |█████████████████████████████   | 860 kB 14.3 MB/s eta 0:00:01\r\u001b[K     |█████████████████████████████▍  | 870 kB 14.3 MB/s eta 0:00:01\r\u001b[K     |█████████████████████████████▊  | 880 kB 14.3 MB/s eta 0:00:01\r\u001b[K     |██████████████████████████████  | 890 kB 14.3 MB/s eta 0:00:01\r\u001b[K     |██████████████████████████████▍ | 901 kB 14.3 MB/s eta 0:00:01\r\u001b[K     |██████████████████████████████▊ | 911 kB 14.3 MB/s eta 0:00:01\r\u001b[K     |███████████████████████████████ | 921 kB 14.3 MB/s eta 0:00:01\r\u001b[K     |███████████████████████████████▍| 931 kB 14.3 MB/s eta 0:00:01\r\u001b[K     |███████████████████████████████▊| 942 kB 14.3 MB/s eta 0:00:01\r\u001b[K     |████████████████████████████████| 948 kB 14.3 MB/s \n",
            "\u001b[?25hRequirement already satisfied: numpy in /usr/local/lib/python3.7/dist-packages (from glove_python_binary) (1.21.5)\n",
            "Requirement already satisfied: scipy in /usr/local/lib/python3.7/dist-packages (from glove_python_binary) (1.4.1)\n",
            "Installing collected packages: glove-python-binary\n",
            "Successfully installed glove-python-binary-0.2.0\n"
          ]
        }
      ],
      "source": [
        "# glove 설치\n",
        "!pip install glove_python_binary"
      ]
    },
    {
      "cell_type": "code",
      "source": [
        "from glove import Corpus, Glove\n",
        "corpus = Corpus() "
      ],
      "metadata": {
        "id": "tDzU4MtRzQ44"
      },
      "execution_count": null,
      "outputs": []
    },
    {
      "cell_type": "code",
      "source": [
        "# 훈련 데이터로부터 GloVe에서 사용할 동시 등장 행렬 생성\n",
        "corpus.fit(df['word'], window=10) # window = 8 \n",
        "glove = Glove(no_components=100, learning_rate=0.03) # no_components=100, learning_rate=0.03\n",
        "\n",
        "# parameter 설정 \n",
        "glove.fit(corpus.matrix, epochs=20, no_threads=5, verbose=False) # epochs=20, no_threads=5\n",
        "glove.add_dictionary(corpus.dictionary)"
      ],
      "metadata": {
        "id": "HpUIrCcNzbq4"
      },
      "execution_count": null,
      "outputs": []
    },
    {
      "cell_type": "markdown",
      "source": [
        "설정한 파라미터의 의미는 다음과 같다. \n",
        "\n",
        "* no_components: 몇 차원 백터로 바꿀 것인지\n",
        "* learning_rate: 너무크면 overshooting, 너무 작으면 실행시간이 너무 오래 걸린다. 최적의 값은 여러번 실행하면서 찾는 것.\n",
        "* window: 앞 뒤로 몇개의 단어를 볼 것인지 \n",
        "* epochs: 전체 데이터셋을 몇 번 학습시켜줄 것인지 (학습반복주기) \n",
        "* no_threads: 프로세스 내에서 실행되는 흐름단위의 개수(멀티스레드. 병렬실행) \n",
        "* verbose: 학습진행상황을 보여줄것인지 (1=True, 0=False)"
      ],
      "metadata": {
        "id": "30xQF4x817Pg"
      }
    },
    {
      "cell_type": "code",
      "source": [
        "glove.most_similar('사랑') #learning_rate=0.01"
      ],
      "metadata": {
        "colab": {
          "base_uri": "https://localhost:8080/"
        },
        "id": "84-8DiZW4T8t",
        "outputId": "8585bdf7-85e4-4329-af7d-e729eb675510"
      },
      "execution_count": null,
      "outputs": [
        {
          "output_type": "execute_result",
          "data": {
            "text/plain": [
              "[('할래요', 0.9982713701239959),\n",
              " ('해줘요', 0.9978093167990646),\n",
              " ('할께요', 0.9972969561413758),\n",
              " ('게요', 0.9971905783369304)]"
            ]
          },
          "metadata": {},
          "execution_count": 28
        }
      ]
    },
    {
      "cell_type": "code",
      "source": [
        "glove.most_similar('사랑') #learning_rate=0.03"
      ],
      "metadata": {
        "colab": {
          "base_uri": "https://localhost:8080/"
        },
        "id": "SV4TEe59-YPY",
        "outputId": "59c0c733-bcbc-4ab0-9714-1351729e2adf"
      },
      "execution_count": null,
      "outputs": [
        {
          "output_type": "execute_result",
          "data": {
            "text/plain": [
              "[('한다고', 0.821894007010279),\n",
              " ('한다', 0.8179662835002792),\n",
              " ('한다는', 0.8034026948737262),\n",
              " ('한다면', 0.7883668710943327)]"
            ]
          },
          "metadata": {},
          "execution_count": 32
        }
      ]
    },
    {
      "cell_type": "code",
      "source": [
        "glove.most_similar('사랑') #window=10, learning_rate=0.03"
      ],
      "metadata": {
        "colab": {
          "base_uri": "https://localhost:8080/"
        },
        "id": "4uFiCKke_6PM",
        "outputId": "6730762a-97f4-4d71-82fa-3784ce27daed"
      },
      "execution_count": null,
      "outputs": [
        {
          "output_type": "execute_result",
          "data": {
            "text/plain": [
              "[('한다', 0.829050011195137),\n",
              " ('한다고', 0.8233450421209932),\n",
              " ('한다는', 0.810641723078519),\n",
              " ('한단', 0.7975477367210444)]"
            ]
          },
          "metadata": {},
          "execution_count": 34
        }
      ]
    },
    {
      "cell_type": "code",
      "source": [
        "glove.most_similar('사랑') #learning_rate=0.05"
      ],
      "metadata": {
        "colab": {
          "base_uri": "https://localhost:8080/"
        },
        "id": "g1nA-HVF-SLw",
        "outputId": "bb5504f0-3c1d-42a9-e220-f99b0b932fcd"
      },
      "execution_count": null,
      "outputs": [
        {
          "output_type": "execute_result",
          "data": {
            "text/plain": [
              "[('한다', 0.7565790879022791),\n",
              " ('한다고', 0.745687907700494),\n",
              " ('한다는', 0.7162856747859455),\n",
              " ('Qu', 0.7087674279527009)]"
            ]
          },
          "metadata": {},
          "execution_count": 30
        }
      ]
    },
    {
      "cell_type": "code",
      "source": [
        "# word dict 생성\n",
        "word_dict = {}\n",
        "for word in  glove.dictionary.keys():\n",
        "    word_dict[word] = glove.word_vectors[glove.dictionary[word]]\n",
        "print('[Success !] Lengh of word dict... : ', len(word_dict))\n",
        "\n",
        "# save word_dict\n",
        "#with open(DATA_DIR + '/glove_word_dict_128.pickle', 'wb') as f:\n",
        "#    pickle.dump(word_dict, f)\n",
        "#print('[Success !] Save word dict!...')"
      ],
      "metadata": {
        "colab": {
          "base_uri": "https://localhost:8080/"
        },
        "id": "os2IA8HM5Wdy",
        "outputId": "a298fa26-63c4-49ca-fb74-53671bebbd37"
      },
      "execution_count": null,
      "outputs": [
        {
          "output_type": "stream",
          "name": "stdout",
          "text": [
            "[Success !] Lengh of word dict... :  73474\n"
          ]
        }
      ]
    },
    {
      "cell_type": "code",
      "source": [
        "len(word_dict)"
      ],
      "metadata": {
        "colab": {
          "base_uri": "https://localhost:8080/"
        },
        "id": "GHy7NGfuEqt0",
        "outputId": "b3a28fbc-14bf-4f13-874c-41212721ae09"
      },
      "execution_count": null,
      "outputs": [
        {
          "output_type": "execute_result",
          "data": {
            "text/plain": [
              "73474"
            ]
          },
          "metadata": {},
          "execution_count": 41
        }
      ]
    },
    {
      "cell_type": "code",
      "source": [
        "# 임베딩된 단어 벡터 확인\n",
        "word_dict['사랑']"
      ],
      "metadata": {
        "colab": {
          "base_uri": "https://localhost:8080/"
        },
        "id": "xbmZHQOf5iaN",
        "outputId": "f8ddd91e-1c51-465f-9115-0430af3b13f8"
      },
      "execution_count": null,
      "outputs": [
        {
          "output_type": "execute_result",
          "data": {
            "text/plain": [
              "array([-0.23085911, -0.27285497, -0.01832203, -0.36549405, -0.36093352,\n",
              "        0.09358964, -0.42645682,  0.15173922,  0.04683451, -0.25474305,\n",
              "       -0.36916312,  0.19005568,  0.1509075 , -0.31086217,  0.0154911 ,\n",
              "        0.21218717, -0.34191749,  0.31429561, -0.13259925,  0.33595365,\n",
              "        0.40241021,  0.08792217,  0.11385064, -0.33019692,  0.22591248,\n",
              "        0.42169026,  0.27624265,  0.11622167,  0.09216847, -0.22551717,\n",
              "        0.25164072, -0.34821093, -0.36902686,  0.37055027, -0.1766486 ,\n",
              "        0.1154849 , -0.10810884,  0.01396482,  0.30068954, -0.31186392,\n",
              "       -0.3994939 ,  0.30385659, -0.39843349, -0.37647362,  0.01317316,\n",
              "        0.45205283,  0.55080715, -0.13812738,  0.55392868, -0.39088722,\n",
              "       -0.34941008,  0.55000388, -0.37937277,  0.07421363, -0.2074617 ,\n",
              "        0.20005309, -0.31174327,  0.23431445, -0.27415065,  0.31849702,\n",
              "       -0.44958251,  0.38964761, -0.46787662, -0.34313638, -0.05707925,\n",
              "        0.42165483, -0.17024729,  0.21266628,  0.33622093,  0.36631452,\n",
              "       -0.31319136, -0.37261787, -0.20514118, -0.0132045 , -0.44697983,\n",
              "        0.45730226, -0.43630754,  0.01152691, -0.39615948, -0.11269492,\n",
              "       -0.06644318,  0.25491161,  0.42788075,  0.33189947, -0.40509815,\n",
              "       -0.3481214 , -0.36794818,  0.04957269, -0.26767722,  0.32689465,\n",
              "        0.40593851, -0.2471188 , -0.45443445,  0.39851423,  0.22797422,\n",
              "        0.8548915 , -0.28534873, -0.43916216,  0.51324479,  0.35868777])"
            ]
          },
          "metadata": {},
          "execution_count": 19
        }
      ]
    },
    {
      "cell_type": "code",
      "source": [
        "# test데이터 워드 임베딩\n",
        "# word dict : train데이터의 임베딩 사전\n",
        "total_word_dict = {}\n",
        "cnt = 0\n",
        "\n",
        "for word in df['word']:\n",
        "    if word in word_dict.keys():\n",
        "        total_word_dict[word] = word_dict[word]\n",
        "    else:\n",
        "        word_dict[word] = np.zeros((128))\n",
        "        cnt += 1  # 처음 본 단어 갯수 세기\n",
        "\n",
        "print('no train word -> 0....', cnt)\n",
        "print('token -> word embedding....!',len(unique_tokens))"
      ],
      "metadata": {
        "id": "yuyzCGQj5soK"
      },
      "execution_count": null,
      "outputs": []
    },
    {
      "cell_type": "markdown",
      "source": [
        "- 워드 임베딩 된 벡터로 문장 단위 임베딩"
      ],
      "metadata": {
        "id": "H058T1CN5JdU"
      }
    },
    {
      "cell_type": "code",
      "source": [
        "def sent2vec_glove(tokens, embedding_dim=100):\n",
        "    '''문장 token 리스트를 받아서 임베딩 시킨다.'''\n",
        "  \n",
        "    size = len(tokens)\n",
        "    matrix = np.zeros((size, embedding_dim))\n",
        "    word_table = word_dict     # glove word_dict\n",
        "\n",
        "    for i, token in enumerate(tokens):\n",
        "        vector = np.array([\n",
        "            word_table[t] for t in token\n",
        "            if t in word_table\n",
        "        ])\n",
        "\n",
        "        if vector.size != 0:\n",
        "            final_vector = np.mean(vector, axis=0)\n",
        "            matrix[i] = final_vector\n",
        "\n",
        "    return matrix"
      ],
      "metadata": {
        "id": "9oRySiU05IY-"
      },
      "execution_count": null,
      "outputs": []
    },
    {
      "cell_type": "code",
      "source": [
        "sent2vec_glove(df['lyric'])"
      ],
      "metadata": {
        "colab": {
          "base_uri": "https://localhost:8080/"
        },
        "id": "1UbYttWx6QVp",
        "outputId": "e6cebb0f-54a3-4070-f29c-a00ed40c9645"
      },
      "execution_count": null,
      "outputs": [
        {
          "output_type": "execute_result",
          "data": {
            "text/plain": [
              "array([[-0.20185774, -0.21043426, -0.06482552, ..., -0.24471681,\n",
              "         0.21637077,  0.19484078],\n",
              "       [-0.19653386, -0.20034704, -0.08714043, ..., -0.23649193,\n",
              "         0.21977896,  0.19858562],\n",
              "       [-0.17407586, -0.14958178, -0.12674395, ..., -0.19100651,\n",
              "         0.09450491,  0.17269734],\n",
              "       ...,\n",
              "       [-0.18875318, -0.1628793 , -0.10908315, ..., -0.21421123,\n",
              "         0.16627586,  0.18674032],\n",
              "       [-0.19080852, -0.15609216, -0.07466703, ..., -0.19679086,\n",
              "         0.10694066,  0.19732301],\n",
              "       [-0.17996869, -0.18274506, -0.08509674, ..., -0.21472538,\n",
              "         0.19515836,  0.1824993 ]])"
            ]
          },
          "metadata": {},
          "execution_count": 24
        }
      ]
    },
    {
      "cell_type": "code",
      "source": [
        "len(sent2vec_glove(df['lyric']))"
      ],
      "metadata": {
        "colab": {
          "base_uri": "https://localhost:8080/"
        },
        "id": "iYgVW896FoAg",
        "outputId": "b5a95406-16cb-411c-ef89-3270a8c591c7"
      },
      "execution_count": null,
      "outputs": [
        {
          "output_type": "execute_result",
          "data": {
            "text/plain": [
              "94613"
            ]
          },
          "metadata": {},
          "execution_count": 48
        }
      ]
    },
    {
      "cell_type": "markdown",
      "source": [
        "# 2. Word2Vec"
      ],
      "metadata": {
        "id": "YCCp9pwt4IUM"
      }
    },
    {
      "cell_type": "code",
      "source": [
        "from gensim.models import Word2Vec"
      ],
      "metadata": {
        "id": "YucLEXy13Lc_"
      },
      "execution_count": null,
      "outputs": []
    },
    {
      "cell_type": "code",
      "source": [
        "model = Word2Vec(df['word'], min_count = 1) "
      ],
      "metadata": {
        "id": "KCGmK6ZN2BGE"
      },
      "execution_count": null,
      "outputs": []
    },
    {
      "cell_type": "code",
      "source": [
        "model.wv.most_similar('사랑', topn = 20)"
      ],
      "metadata": {
        "colab": {
          "base_uri": "https://localhost:8080/"
        },
        "id": "CFmtiaNj3KWD",
        "outputId": "fdacc4b2-d40e-451b-a653-fa41e7e63c19"
      },
      "execution_count": null,
      "outputs": [
        {
          "output_type": "execute_result",
          "data": {
            "text/plain": [
              "[('행복', 0.6516521573066711),\n",
              " ('이별', 0.6254322528839111),\n",
              " ('옹아', 0.6234909892082214),\n",
              " ('미안', 0.5984020233154297),\n",
              " ('원망', 0.5958678126335144),\n",
              " ('말', 0.5914985537528992),\n",
              " ('약속', 0.582221269607544),\n",
              " ('용서', 0.5737311840057373),\n",
              " ('기억', 0.5690634846687317),\n",
              " ('새로워야', 0.5533201694488525),\n",
              " ('이해', 0.5519946813583374),\n",
              " ('후회', 0.5371491312980652),\n",
              " ('결혼', 0.534673810005188),\n",
              " ('소중', 0.5323776602745056),\n",
              " ('스윗소로우', 0.5233602523803711),\n",
              " ('고백', 0.5229283571243286),\n",
              " ('불행', 0.5206862092018127),\n",
              " ('나', 0.5194368362426758),\n",
              " ('배신', 0.515627384185791),\n",
              " ('생각', 0.5116546750068665)]"
            ]
          },
          "metadata": {},
          "execution_count": 12
        }
      ]
    },
    {
      "cell_type": "code",
      "source": [
        "# word dict 생성\n",
        "word_dict_wv = {}\n",
        "for word in  model.dictionary.keys():\n",
        "    word_dict_wv[word] = model.word_vectors[model.dictionary[word]]\n",
        "print('[Success !] Lengh of word dict... : ', len(word_dict))"
      ],
      "metadata": {
        "colab": {
          "base_uri": "https://localhost:8080/",
          "height": 243
        },
        "id": "tMBJwF85ITMi",
        "outputId": "0eebf3b1-f5ac-4d59-c415-b6622115ac67"
      },
      "execution_count": null,
      "outputs": [
        {
          "output_type": "error",
          "ename": "AttributeError",
          "evalue": "ignored",
          "traceback": [
            "\u001b[0;31m---------------------------------------------------------------------------\u001b[0m",
            "\u001b[0;31mAttributeError\u001b[0m                            Traceback (most recent call last)",
            "\u001b[0;32m<ipython-input-49-9a804ef43b18>\u001b[0m in \u001b[0;36m<module>\u001b[0;34m()\u001b[0m\n\u001b[1;32m      1\u001b[0m \u001b[0;31m# word dict 생성\u001b[0m\u001b[0;34m\u001b[0m\u001b[0;34m\u001b[0m\u001b[0;34m\u001b[0m\u001b[0m\n\u001b[1;32m      2\u001b[0m \u001b[0mword_dict_wv\u001b[0m \u001b[0;34m=\u001b[0m \u001b[0;34m{\u001b[0m\u001b[0;34m}\u001b[0m\u001b[0;34m\u001b[0m\u001b[0;34m\u001b[0m\u001b[0m\n\u001b[0;32m----> 3\u001b[0;31m \u001b[0;32mfor\u001b[0m \u001b[0mword\u001b[0m \u001b[0;32min\u001b[0m  \u001b[0mmodel\u001b[0m\u001b[0;34m.\u001b[0m\u001b[0mdictionary\u001b[0m\u001b[0;34m.\u001b[0m\u001b[0mkeys\u001b[0m\u001b[0;34m(\u001b[0m\u001b[0;34m)\u001b[0m\u001b[0;34m:\u001b[0m\u001b[0;34m\u001b[0m\u001b[0;34m\u001b[0m\u001b[0m\n\u001b[0m\u001b[1;32m      4\u001b[0m     \u001b[0mword_dict_wv\u001b[0m\u001b[0;34m[\u001b[0m\u001b[0mword\u001b[0m\u001b[0;34m]\u001b[0m \u001b[0;34m=\u001b[0m \u001b[0mmodel\u001b[0m\u001b[0;34m.\u001b[0m\u001b[0mword_vectors\u001b[0m\u001b[0;34m[\u001b[0m\u001b[0mmodel\u001b[0m\u001b[0;34m.\u001b[0m\u001b[0mdictionary\u001b[0m\u001b[0;34m[\u001b[0m\u001b[0mword\u001b[0m\u001b[0;34m]\u001b[0m\u001b[0;34m]\u001b[0m\u001b[0;34m\u001b[0m\u001b[0;34m\u001b[0m\u001b[0m\n\u001b[1;32m      5\u001b[0m \u001b[0mprint\u001b[0m\u001b[0;34m(\u001b[0m\u001b[0;34m'[Success !] Lengh of word dict... : '\u001b[0m\u001b[0;34m,\u001b[0m \u001b[0mlen\u001b[0m\u001b[0;34m(\u001b[0m\u001b[0mword_dict\u001b[0m\u001b[0;34m)\u001b[0m\u001b[0;34m)\u001b[0m\u001b[0;34m\u001b[0m\u001b[0;34m\u001b[0m\u001b[0m\n",
            "\u001b[0;31mAttributeError\u001b[0m: 'Word2Vec' object has no attribute 'dictionary'"
          ]
        }
      ]
    },
    {
      "cell_type": "markdown",
      "source": [
        "설정한 파라미터의미는 다음과 같다. \n",
        "- sentences: 토큰화된 리스트 이름\n",
        "- size(vector_size): 몇 차원의 벡터로 바꿀 것인지\n",
        "- window: 앞 뒤 몇 단어를 볼 것인지\n",
        "- min_count: 최소 출현빈도 (이하인 것은 삭제하기)\n",
        "- workers: 몇 가지 병렬 방식으로 훈련할지 (멀티코어. 동시에 처리할 작업 수)\n",
        "- iter(epochs): 몇 번 반복학습할 것인지\n",
        "- sg=1: skip-gram을 사용해라 (sg=0이면 CBOW사용)"
      ],
      "metadata": {
        "id": "_cEbFk6r2JBl"
      }
    },
    {
      "cell_type": "code",
      "source": [
        "from gensim.models.word2vec import Word2Vec\n",
        "model = Word2Vec(sentences = tokenized_data, vector_size = 100, window = 8, min_count = 10, workers = 4, epochs=100, sg = 0) #skip-gram사용"
      ],
      "metadata": {
        "id": "783XfYoI2Jbj"
      },
      "execution_count": null,
      "outputs": []
    }
  ]
}