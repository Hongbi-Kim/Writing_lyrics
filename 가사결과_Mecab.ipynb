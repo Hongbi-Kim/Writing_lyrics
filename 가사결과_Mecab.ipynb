{
 "cells": [
  {
   "cell_type": "code",
   "execution_count": 1,
   "id": "132a28fc",
   "metadata": {},
   "outputs": [],
   "source": [
    "from eunjeon import Mecab\n",
    "mecab = Mecab()"
   ]
  },
  {
   "cell_type": "code",
   "execution_count": 5,
   "id": "8bd621c7",
   "metadata": {},
   "outputs": [],
   "source": [
    "text = \"요즘 학교가기 전에 강아지랑 아침 산책을 하기 시작했어요!\\\n",
    "원래 5분만 더... 하고 잠들어있던 시간인데 강아지랑 아침 일찍 산책을 하니 수업도 더 또렷한 정신으로 듣게 되고,\\\n",
    "뭔가 뿌듯한 기분이에요. 무엇보다 강아지 기분이 좋아보여서 저까지 기분이 좋아요!ㅎ\\\n",
    "오늘은 강아지와 함께 출근하는 언니를 배웅해줬는데, 마침 정거장 옆을 지나가던 강아지가 있었어요.\\\n",
    "보호자분과 이런저런 얘기를 하는데 그 강아지가 이번 생일만 지나면 20살이라는 거예요!\\\n",
    "발랄해서 어린 강아지인 줄 알았는데 한참 선배였다니 놀라기도 잠시, 건강하고 밝은 모습에 마음이 따뜻해졌어요.\\\n",
    "저도 우리강아지가 건강하게 오래오래 살 수 있도록 더 노력하고 도와줘야겠단 생각을 했습니다 ㅎㅎ\\\n",
    "세상 모든 강아지 고양이 털복숭이들이 건강하고 행복했으면 좋겠어요~!\""
   ]
  },
  {
   "cell_type": "code",
   "execution_count": null,
   "id": "b970ee6b",
   "metadata": {},
   "outputs": [],
   "source": [
    "results = []\n",
    "\n",
    "    fullDes = mecab.pos(i)\n",
    "    words_all = []\n",
    "    for j in fullDes:\n",
    "        \n",
    "        if (j[1] == 'NNG') | (j[1] == 'NNP'):\n",
    "            words_all.append(j[0])\n",
    "    results.append(words_all)"
   ]
  },
  {
   "cell_type": "code",
   "execution_count": 13,
   "id": "4f5fa414",
   "metadata": {},
   "outputs": [
    {
     "data": {
      "text/plain": [
       "['학교',\n",
       " '전',\n",
       " '강아지',\n",
       " '아침',\n",
       " '산책',\n",
       " '시작',\n",
       " '시간',\n",
       " '수업',\n",
       " '정신',\n",
       " '기분',\n",
       " '좋',\n",
       " 'ㅎ',\n",
       " '출근',\n",
       " '언니',\n",
       " '배웅',\n",
       " '정거장',\n",
       " '옆',\n",
       " '있',\n",
       " '보호자',\n",
       " '분과',\n",
       " '얘기',\n",
       " '이번',\n",
       " '생일',\n",
       " '한참',\n",
       " '선배',\n",
       " '건강',\n",
       " '밝',\n",
       " '모습',\n",
       " '마음',\n",
       " '노력',\n",
       " '생각',\n",
       " 'ㅎㅎ',\n",
       " '세상',\n",
       " '고양이',\n",
       " '털',\n",
       " '복',\n",
       " '숭이',\n",
       " '행복']"
      ]
     },
     "execution_count": 13,
     "metadata": {},
     "output_type": "execute_result"
    }
   ],
   "source": [
    "fullDes = mecab.pos(text)\n",
    "words_all = []\n",
    "for j in fullDes:\n",
    "    if (j[1] == 'NNG') | (j[1] == 'NNP') | (j[1] == 'NR') | (j[1] == 'VA') | (j[1] == 'IC'):\n",
    "        if j[0] not in words_all:\n",
    "            words_all.append(j[0])\n",
    "words_all"
   ]
  },
  {
   "cell_type": "code",
   "execution_count": null,
   "id": "e1f8cde4",
   "metadata": {},
   "outputs": [],
   "source": [
    "words_all"
   ]
  }
 ],
 "metadata": {
  "kernelspec": {
   "display_name": "Python 3",
   "language": "python",
   "name": "python3"
  },
  "language_info": {
   "codemirror_mode": {
    "name": "ipython",
    "version": 3
   },
   "file_extension": ".py",
   "mimetype": "text/x-python",
   "name": "python",
   "nbconvert_exporter": "python",
   "pygments_lexer": "ipython3",
   "version": "3.8.8"
  }
 },
 "nbformat": 4,
 "nbformat_minor": 5
}
