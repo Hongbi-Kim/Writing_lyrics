{
 "cells": [
  {
   "cell_type": "markdown",
   "id": "1534f9be",
   "metadata": {},
   "source": [
    "# 1. 크롤링"
   ]
  },
  {
   "cell_type": "code",
   "execution_count": 1,
   "id": "78929dfd",
   "metadata": {},
   "outputs": [],
   "source": [
    "from selenium import webdriver\n",
    "from selenium.webdriver.chrome.service import Service\n",
    "from bs4 import BeautifulSoup\n",
    "from selenium.webdriver.common.by import By\n",
    "import time\n",
    "import pandas as pd"
   ]
  },
  {
   "cell_type": "code",
   "execution_count": 2,
   "id": "bb441560",
   "metadata": {},
   "outputs": [],
   "source": [
    "import pickle"
   ]
  },
  {
   "cell_type": "code",
   "execution_count": 3,
   "id": "9e3633ca",
   "metadata": {},
   "outputs": [],
   "source": [
    "service = Service('C:/Users/khb16/Desktop/code/PROJECT/Recommandation/chromedriver.exe')\n",
    "driver = webdriver.Chrome(service = service)"
   ]
  },
  {
   "cell_type": "code",
   "execution_count": null,
   "id": "5f56f105",
   "metadata": {},
   "outputs": [],
   "source": [
    "url = \"https://www.melon.com/genre/song_list.htm?gnrCode=GN0200#params%5BgnrCode%5D=GN0200&params%5BdtlGnrCode%5D=&params%5BorderBy%5D=POP&params%5BsteadyYn%5D=N&po=pageObj&startIndex=1\"\n",
    "driver.get(url)"
   ]
  },
  {
   "cell_type": "code",
   "execution_count": 148,
   "id": "51f8ad40",
   "metadata": {},
   "outputs": [],
   "source": [
    "html = driver.page_source\n",
    "soup = BeautifulSoup(html, 'html.parser')"
   ]
  },
  {
   "cell_type": "code",
   "execution_count": 156,
   "id": "08662283",
   "metadata": {},
   "outputs": [],
   "source": [
    "# 가사 창 클릭\n",
    "def click_lyrics(driver):\n",
    "    lyrics = driver.find_element(By.CSS_SELECTOR, 'td div.wrap a.song_info')\n",
    "    lyrics.click()\n",
    "    time.sleep(2)\n",
    "click_lyrics(driver)"
   ]
  },
  {
   "cell_type": "code",
   "execution_count": 177,
   "id": "2765bc73",
   "metadata": {},
   "outputs": [],
   "source": [
    "import re\n",
    "p = re.compile(\"'(\\d+)'\")"
   ]
  },
  {
   "cell_type": "code",
   "execution_count": 185,
   "id": "da81d8bf",
   "metadata": {
    "scrolled": true
   },
   "outputs": [
    {
     "data": {
      "text/plain": [
       "['34772475',\n",
       " '34626109',\n",
       " '34668619',\n",
       " '34538515',\n",
       " '34349913',\n",
       " '34494149',\n",
       " '34808759',\n",
       " '33487342',\n",
       " '33655994',\n",
       " '33372781',\n",
       " '34436674',\n",
       " '32872978',\n",
       " '34041584',\n",
       " '33507137',\n",
       " '33239419',\n",
       " '33666269',\n",
       " '34808386',\n",
       " '33464805',\n",
       " '30287019',\n",
       " '34773088',\n",
       " '34677112',\n",
       " '31737197',\n",
       " '34808760',\n",
       " '33805289',\n",
       " '34808765',\n",
       " '34190739',\n",
       " '34808758',\n",
       " '34539150',\n",
       " '33397561',\n",
       " '32961718',\n",
       " '33749109',\n",
       " '34491913',\n",
       " '33372788',\n",
       " '34614816',\n",
       " '32559782',\n",
       " '34754767',\n",
       " '33331004',\n",
       " '32860397',\n",
       " '32559781',\n",
       " '32720013',\n",
       " '8130796',\n",
       " '34636290',\n",
       " '34682972',\n",
       " '33067476',\n",
       " '33902950',\n",
       " '33559180',\n",
       " '32273582',\n",
       " '34254823',\n",
       " '33999025',\n",
       " '33589260']"
      ]
     },
     "execution_count": 185,
     "metadata": {},
     "output_type": "execute_result"
    }
   ],
   "source": [
    "# 한 페이지에 있는 50개의 songId 추출\n",
    "songid = []\n",
    "\n",
    "for i in range(50):\n",
    "    data = soup.find_all(\"a\", class_= \"btn button_icons type03 song_info\")[i].get('href')\n",
    "    id_ = p.search(str(data)).group(1)\n",
    "    songid.append(id_)\n",
    "songid"
   ]
  },
  {
   "cell_type": "code",
   "execution_count": 187,
   "id": "19cdd89a",
   "metadata": {},
   "outputs": [],
   "source": [
    "# 해당 songId 입력 후 정보 추출\n",
    "lyric_url = 'https://www.melon.com/song/detail.htm?songId=34772475'\n",
    "driver.get(lyric_url)\n",
    "html = driver.page_source\n",
    "soup = BeautifulSoup(html, 'html.parser')"
   ]
  },
  {
   "cell_type": "code",
   "execution_count": 192,
   "id": "223d3a82",
   "metadata": {},
   "outputs": [
    {
     "data": {
      "text/plain": [
       "'Feel My Rhythm'"
      ]
     },
     "execution_count": 192,
     "metadata": {},
     "output_type": "execute_result"
    }
   ],
   "source": [
    "soup.select('div.song_name')[0].text[3:].strip() # 제목"
   ]
  },
  {
   "cell_type": "code",
   "execution_count": 77,
   "id": "a10815d6",
   "metadata": {},
   "outputs": [
    {
     "data": {
      "text/plain": [
       "<div class=\"lyric\" id=\"d_video_summary\"><!-- height:auto; 로 변경시, 확장됨 -->\n",
       "\t\t\t\t\t\t\tRed Velvet<br/><br/>무도회를 뒤집어<br/>작은 소란을 또 일으켜<br/>This is gonna be a crazy night<br/>(To-na-na-na-na-na-night)<br/><br/>등장부터 인사까지 파격적이게<br/>우리 살짝 놀아볼까<br/>솔직하게 Bae bae<br/>지금부터 시작해 볼게<br/>(Feel my vibe and sway)<br/><br/>꽃가루를 날려<br/>폭죽을 더 크게 터트려<br/>우릴 오만과 편견에 가두지 마<br/>자유로워 지금<br/><br/>Feel my rhythm Come with me<br/>상상해 봐 뭐든지<br/>노래를 따라서 저 달빛에 춤을 춰<br/>바로 지금 (Play my rhythm)<br/><br/>Follow follow my heartbeat<br/>해가 떠올 때까지<br/>Feel my rhythm 멈추지 말아 줘<br/>이 순간을 놓지 마 Baby<br/><br/>차는 Old and Classic<br/>(Just ride)<br/>이제 조금 낯선 다른 차원까지<br/>(Get loud)<br/>상상할 수 없던 곳 시간 속<br/>예고 없이 등장해<br/>이 밤은 멋지고 우린<br/>Fun and wild and brave<br/><br/>시선을 끄는 네 Motion<br/>G-give me a new direction<br/>끝없는 Black hole처럼<br/>빠져드는 Sweet emotion<br/>너를 태운 채 (Sway)<br/>어디로든 떠날래 (Way)<br/>온 세상 모든 경계를<br/>다 휘저을래 (Oh yeah)<br/><br/>꽃가루를 날려<br/>(흩날려)<br/>Champagne을 더 크게 터트려<br/>(마음껏)<br/>더는 어제와 내일에 가두지 마<br/>자유로워 지금<br/><br/>Feel my rhythm Come with me<br/>상상해 봐 뭐든지<br/>노래를 따라서 저 달빛에 춤을 춰<br/>바로 지금 (Play my rhythm)<br/><br/>Follow follow my heartbeat<br/>해가 떠올 때까지<br/>Feel my rhythm 멈추지 말아 줘<br/>이 순간을 놓지 마 Baby<br/><br/>온 세상이 멈추는 순간<br/>What a what a feeling<br/>어서 내 손을 잡아<br/>(All right)<br/>본 적 없던 Film<br/>빠져드는 You and I <br/>Next time 시계를 돌려<br/>어디로 가볼까<br/>Come on 또다시 시작해<br/>You and I<br/><br/>Feel my rhythm Come with me<br/>상상해 봐 뭐든지<br/>노래를 따라서 저 달빛에 춤을 춰<br/>바로 지금 (Play my rhythm)<br/><br/>Follow follow my heartbeat<br/>해가 떠올 때까지<br/>Feel my rhythm 끝나지 않는 꿈<br/>이 순간을 놓지 마 Baby\n",
       "\t\t\t\t\t</div>"
      ]
     },
     "execution_count": 77,
     "metadata": {},
     "output_type": "execute_result"
    }
   ],
   "source": [
    "soup.select('div.lyric')[0] # 가사"
   ]
  },
  {
   "cell_type": "code",
   "execution_count": 62,
   "id": "031bf9f1",
   "metadata": {},
   "outputs": [
    {
     "data": {
      "text/plain": [
       "'Red Velvet (레드벨벳)'"
      ]
     },
     "execution_count": 62,
     "metadata": {},
     "output_type": "execute_result"
    }
   ],
   "source": [
    "soup.select('div.artist a.artist_name')[0]['title'] # 가수명"
   ]
  },
  {
   "cell_type": "code",
   "execution_count": 68,
   "id": "30cdea41",
   "metadata": {},
   "outputs": [
    {
     "data": {
      "text/plain": [
       "'댄스'"
      ]
     },
     "execution_count": 68,
     "metadata": {},
     "output_type": "execute_result"
    }
   ],
   "source": [
    "soup.select('dl.list dd')[2].text # 장르"
   ]
  },
  {
   "cell_type": "code",
   "execution_count": 90,
   "id": "2f16e5b0",
   "metadata": {},
   "outputs": [
    {
     "data": {
      "text/plain": [
       "'서지음'"
      ]
     },
     "execution_count": 90,
     "metadata": {},
     "output_type": "execute_result"
    }
   ],
   "source": [
    "soup.select('div.section_prdcr a.artist_name')[0].text # 작사가 1명"
   ]
  },
  {
   "cell_type": "code",
   "execution_count": 45,
   "id": "3d198e66",
   "metadata": {
    "scrolled": true
   },
   "outputs": [],
   "source": [
    "# 한 페이지에 있는 50개의 songId 추출\n",
    "songid = []\n",
    "\n",
    "for i in range(50):\n",
    "    data = soup.find_all(\"a\", class_= \"btn button_icons type03 song_info\")[i].get('href')\n",
    "    id_ = p.search(str(data)).group(1)\n",
    "    songid.append(id_)\n",
    "\n",
    "\n",
    "# 해당 songId 입력 후 정보 추출\n",
    "for song in songid:\n",
    "    lyric_url = 'https://www.melon.com/song/detail.htm?songId={}'.format(song)\n",
    "    driver.get(lyric_url)\n",
    "    html = driver.page_source\n",
    "    soup = BeautifulSoup(html, 'html.parser')"
   ]
  },
  {
   "cell_type": "code",
   "execution_count": null,
   "id": "9a2f3e28",
   "metadata": {},
   "outputs": [],
   "source": []
  },
  {
   "cell_type": "code",
   "execution_count": null,
   "id": "29093235",
   "metadata": {},
   "outputs": [],
   "source": []
  }
 ],
 "metadata": {
  "kernelspec": {
   "display_name": "Python 3",
   "language": "python",
   "name": "python3"
  },
  "language_info": {
   "codemirror_mode": {
    "name": "ipython",
    "version": 3
   },
   "file_extension": ".py",
   "mimetype": "text/x-python",
   "name": "python",
   "nbconvert_exporter": "python",
   "pygments_lexer": "ipython3",
   "version": "3.8.8"
  }
 },
 "nbformat": 4,
 "nbformat_minor": 5
}
