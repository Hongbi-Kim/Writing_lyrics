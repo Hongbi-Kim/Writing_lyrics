{
  "nbformat": 4,
  "nbformat_minor": 0,
  "metadata": {
    "colab": {
      "name": "GPT3 결과 돌려보기.ipynb",
      "provenance": [],
      "collapsed_sections": [],
      "mount_file_id": "1KG1JeEFFt_wN252QYtm-AsSqan0qWjUY",
      "authorship_tag": "ABX9TyP0lZO3ENtjqycTUo49BaZ9",
      "include_colab_link": true
    },
    "kernelspec": {
      "name": "python3",
      "display_name": "Python 3"
    },
    "language_info": {
      "name": "python"
    },
    "accelerator": "GPU"
  },
  "cells": [
    {
      "cell_type": "markdown",
      "metadata": {
        "id": "view-in-github",
        "colab_type": "text"
      },
      "source": [
        "<a href=\"https://colab.research.google.com/github/Hongbi-Kim/Writing_lyrics/blob/master/GPT3_%EA%B2%B0%EA%B3%BC_%EB%8F%8C%EB%A0%A4%EB%B3%B4%EA%B8%B0.ipynb\" target=\"_parent\"><img src=\"https://colab.research.google.com/assets/colab-badge.svg\" alt=\"Open In Colab\"/></a>"
      ]
    },
    {
      "cell_type": "code",
      "execution_count": null,
      "metadata": {
        "colab": {
          "base_uri": "https://localhost:8080/"
        },
        "id": "kWQ5fcNybCQI",
        "outputId": "e2460227-60bc-4489-db15-89f6530ca00f"
      },
      "outputs": [
        {
          "output_type": "stream",
          "name": "stdout",
          "text": [
            "Requirement already satisfied: transformers in /usr/local/lib/python3.7/dist-packages (4.18.0)\n",
            "Requirement already satisfied: filelock in /usr/local/lib/python3.7/dist-packages (from transformers) (3.6.0)\n",
            "Requirement already satisfied: requests in /usr/local/lib/python3.7/dist-packages (from transformers) (2.23.0)\n",
            "Requirement already satisfied: huggingface-hub<1.0,>=0.1.0 in /usr/local/lib/python3.7/dist-packages (from transformers) (0.5.1)\n",
            "Requirement already satisfied: sacremoses in /usr/local/lib/python3.7/dist-packages (from transformers) (0.0.49)\n",
            "Requirement already satisfied: numpy>=1.17 in /usr/local/lib/python3.7/dist-packages (from transformers) (1.21.5)\n",
            "Requirement already satisfied: pyyaml>=5.1 in /usr/local/lib/python3.7/dist-packages (from transformers) (6.0)\n",
            "Requirement already satisfied: packaging>=20.0 in /usr/local/lib/python3.7/dist-packages (from transformers) (21.3)\n",
            "Requirement already satisfied: tqdm>=4.27 in /usr/local/lib/python3.7/dist-packages (from transformers) (4.64.0)\n",
            "Requirement already satisfied: importlib-metadata in /usr/local/lib/python3.7/dist-packages (from transformers) (4.11.3)\n",
            "Requirement already satisfied: regex!=2019.12.17 in /usr/local/lib/python3.7/dist-packages (from transformers) (2019.12.20)\n",
            "Requirement already satisfied: tokenizers!=0.11.3,<0.13,>=0.11.1 in /usr/local/lib/python3.7/dist-packages (from transformers) (0.12.1)\n",
            "Requirement already satisfied: typing-extensions>=3.7.4.3 in /usr/local/lib/python3.7/dist-packages (from huggingface-hub<1.0,>=0.1.0->transformers) (4.1.1)\n",
            "Requirement already satisfied: pyparsing!=3.0.5,>=2.0.2 in /usr/local/lib/python3.7/dist-packages (from packaging>=20.0->transformers) (3.0.8)\n",
            "Requirement already satisfied: zipp>=0.5 in /usr/local/lib/python3.7/dist-packages (from importlib-metadata->transformers) (3.8.0)\n",
            "Requirement already satisfied: urllib3!=1.25.0,!=1.25.1,<1.26,>=1.21.1 in /usr/local/lib/python3.7/dist-packages (from requests->transformers) (1.24.3)\n",
            "Requirement already satisfied: chardet<4,>=3.0.2 in /usr/local/lib/python3.7/dist-packages (from requests->transformers) (3.0.4)\n",
            "Requirement already satisfied: certifi>=2017.4.17 in /usr/local/lib/python3.7/dist-packages (from requests->transformers) (2021.10.8)\n",
            "Requirement already satisfied: idna<3,>=2.5 in /usr/local/lib/python3.7/dist-packages (from requests->transformers) (2.10)\n",
            "Requirement already satisfied: joblib in /usr/local/lib/python3.7/dist-packages (from sacremoses->transformers) (1.1.0)\n",
            "Requirement already satisfied: six in /usr/local/lib/python3.7/dist-packages (from sacremoses->transformers) (1.15.0)\n",
            "Requirement already satisfied: click in /usr/local/lib/python3.7/dist-packages (from sacremoses->transformers) (7.1.2)\n"
          ]
        }
      ],
      "source": [
        "!pip install transformers"
      ]
    },
    {
      "cell_type": "markdown",
      "source": [
        "- gpt3_1 : tokenizer 250, 300으로 학습\n",
        "- gpt3_2 : tokenizer 350으로 학습\n",
        "- gpt3_5000sample : 5000개 데이터, tokenizer 350으로 학습"
      ],
      "metadata": {
        "id": "xRF1IlMObeCr"
      }
    },
    {
      "cell_type": "code",
      "source": [
        "# 구글 드라이브에서 모델, 토크나이저 불러오기\n",
        "import os\n",
        "import time\n",
        "import datetime\n",
        "from google.colab import drive\n",
        "\n",
        "import pandas as pd\n",
        "import seaborn as sns\n",
        "import numpy as np\n",
        "import random\n",
        "import re\n",
        "\n",
        "import torch\n",
        "from torch.utils.data import Dataset, DataLoader, random_split, RandomSampler, SequentialSampler\n",
        "torch.manual_seed(42)\n",
        "\n",
        "from transformers import GPT2LMHeadModel,  GPT2Tokenizer, GPT2Config, GPT2LMHeadModel\n",
        "from transformers import AdamW, get_linear_schedule_with_warmup\n",
        "\n",
        "# gpt3-kor-small_based_on_gpt2\n",
        "from transformers import BertTokenizerFast, GPT2LMHeadModel\n",
        "model = GPT2LMHeadModel.from_pretrained('/content/drive/MyDrive/5조_파이널PJT/코드/model_result/gpt3_2')\n",
        "tokenizer_gpt3 = BertTokenizerFast.from_pretrained('/content/drive/MyDrive/5조_파이널PJT/코드/model_result/gpt3_2')\n",
        "input_ids = tokenizer_gpt3.encode(\"text to tokenize\")[1:]  # remove cls token"
      ],
      "metadata": {
        "id": "F_325GDag1Jx"
      },
      "execution_count": null,
      "outputs": []
    },
    {
      "cell_type": "code",
      "source": [
        "device = torch.device(\"cuda\")\n",
        "model.cuda()\n",
        "\n",
        "seed_val = 42\n",
        "\n",
        "random.seed(seed_val)\n",
        "np.random.seed(seed_val)\n",
        "torch.manual_seed(seed_val)\n",
        "torch.cuda.manual_seed_all(seed_val)\n",
        "model = model.to(device)"
      ],
      "metadata": {
        "id": "ztl0AqXJbOoD"
      },
      "execution_count": null,
      "outputs": []
    },
    {
      "cell_type": "code",
      "source": [
        "model.eval()\n",
        "def lyric_generator(gen, lyric):\n",
        "  prompt = f\"<|startoftext|> <{gen}> {lyric}\"\n",
        "  generated = torch.tensor(tokenizer_gpt3.encode(prompt)[1:]).unsqueeze(0)\n",
        "  generated = generated.to(device)\n",
        "\n",
        "  print(generated)\n",
        "\n",
        "  sample_outputs = model.generate(\n",
        "                                  generated, \n",
        "                                  #bos_token_id=random.randint(1,30000),\n",
        "                                  do_sample=True,   \n",
        "                                  top_k=50, \n",
        "                                  max_length = 350,\n",
        "                                  #max_length = len(lyric) + 350,\n",
        "                                  top_p=0.95, \n",
        "                                  num_return_sequences=1,\n",
        "                                  repetition_penalty=1.1\n",
        "                                  )\n",
        "\n",
        "  for i, sample_output in enumerate(sample_outputs):\n",
        "    result = \"{}: {}\\n\\n\".format(i, tokenizer_gpt3.decode(sample_output, skip_special_tokens=True))\n",
        "    result = re.sub(r\"<br>\", \"\\n\", result)\n",
        "    #result = result[len(lyric)+1:]\n",
        "    print(result)\n",
        "  return"
      ],
      "metadata": {
        "id": "1iRA9Q22cM_S"
      },
      "execution_count": null,
      "outputs": []
    },
    {
      "cell_type": "code",
      "source": [
        "lyric_generator('댄스', '매일 강아지랑 산책해')"
      ],
      "metadata": {
        "id": "kkNe3-UccPJy",
        "colab": {
          "base_uri": "https://localhost:8080/"
        },
        "outputId": "82c7b6f1-519d-4f02-a22e-c2c8445760f7"
      },
      "execution_count": null,
      "outputs": [
        {
          "output_type": "stream",
          "name": "stderr",
          "text": [
            "Setting `pad_token_id` to `eos_token_id`:3 for open-end generation.\n"
          ]
        },
        {
          "output_type": "stream",
          "name": "stdout",
          "text": [
            "tensor([[42000, 42004, 14759, 14971,  8202, 16780,  8010,     3]],\n",
            "       device='cuda:0')\n",
            "0: 매일 강아지랑 산책해 \n",
            " oh oh oh ah ah ah ah ah \n",
            " are you hear me guys \n",
            " 너에게 물었어 왜 이러냐고 \n",
            " what you think about \n",
            " what you gotta do \n",
            " 왜 자꾸 나몰래 널 훔쳐가 \n",
            " 난 알아 난 다 알아 난 다 알아 \n",
            " 넌 내 눈빛에 담긴 표정 말투 말하는 거까지 \n",
            " 알고싶어 미칠 것 같아 \n",
            " 나 혼자 고민하지 마 no way \n",
            " 나 혼자 생각하지 마 no way \n",
            " 내 맘이 들릴지도 몰라 woo \n",
            " 나 혼자 흔들리면 어떡해 나 몰래 \n",
            " woo woo woo woo woo \n",
            " woo woo woo woo woo \n",
            " woo woo woo woo woo woo \n",
            " 날 안아줘 내게 말해줘 \n",
            " 너도 나와 같다고 oh oh oh \n",
            " 매일 고양이랑 산책해줘 \n",
            " 넌 가끔 멍 때리지 \n",
            " 너무 귀여워서 훔쳐봐줘 \n",
            " 장난치는 모습에 \n",
            " 날 미치게 만들어 또 나도 몰래 \n",
            " 자꾸 네게 전화하게 돼 \n",
            " 내 맘 받아줄까 \n",
            " 네 맘을 받아줄까 \n",
            " 사실 난 겁이 났어 \n",
            " 내가 먼저 다가갈까 봐 겁이 났어 \n",
            " 난 알아 난 다 알아 난 다 알아 \n",
            " 넌 너무 매력 있어 baby you and i \n",
            " 나 혼자 고민하지 마 no way \n",
            " 나 혼자 생각하지 마 no way \n",
            " 내 맘이 들릴지도 몰라 woo \n",
            " 나 혼자 흔들리면 어떡해 나 몰래 \n",
            " woo woo woo woo woo \n",
            " woo woo woo woo woo woo \n",
            " 날 안아줘 내게 말해줘 \n",
            " 너도 나와 같다고 oh oh o\n",
            "\n",
            "\n"
          ]
        }
      ]
    },
    {
      "cell_type": "code",
      "source": [
        "lyric_generator('발라드', '매일 강아지랑 산책해')"
      ],
      "metadata": {
        "colab": {
          "base_uri": "https://localhost:8080/"
        },
        "id": "POY7zUi2lXZ2",
        "outputId": "523fe9c8-a8b1-4469-8cad-51c8ded4c9ff"
      },
      "execution_count": null,
      "outputs": [
        {
          "output_type": "stream",
          "name": "stderr",
          "text": [
            "Setting `pad_token_id` to `eos_token_id`:3 for open-end generation.\n"
          ]
        },
        {
          "output_type": "stream",
          "name": "stdout",
          "text": [
            "tensor([[42000, 42003, 14759, 14971,  8202, 16780,  8010,     3]],\n",
            "       device='cuda:0')\n",
            "0: 매일 강아지랑 산책해 \n",
            " 용기 내 전불 걸 수 있는 \n",
            " 용길 줘요 함께해요 \n",
            " 이 넓은 곳에서 우리 둘의 멋진 미래를 봐요 \n",
            " 함께 달려갈래요 서로 손을 잡고서 \n",
            " 우리 모두 함께 달려갈래요 우리 모두 \n",
            " 별이 뜰 때까지 lets go 함께해요 \n",
            " 별이 뜰 때까지 \n",
            " i love you i need you baby \n",
            " 별이 뜰 때까지 lets go 함께해요 \n",
            " 너만의 빛나는 별을 찾아갈래 \n",
            " 널 위한 별자리를 만들래 \n",
            " 난 너만의 반짝이는 별이 될래 \n",
            " 너만의 빛으로 밝게 빛나줘 \n",
            " 너만의 환한 빛으로 \n",
            " 밝게 빛나줘 \n",
            " 너만의 빛나는 별을 찾을래 \n",
            " 널 위한 별자리를 만들래 \n",
            " 넌 날 깨워내는 저 빛의 마법사 \n",
            " 저 높은 곳까지 올라 갈 것 같아 \n",
            " 내 손에 잡힐 듯 말 듯이 잡히지가 않아 \n",
            " 너의 주위를 공전하는 저 달이 \n",
            " 이 어두운 밤하늘에 뜨는 별처럼 \n",
            " 내가 지켜줄게요 \n",
            " 같이 달려 갈래요 서로의 손 잡고서 \n",
            " 너와 나 이렇게 둘이 저 빛나는 하늘을 향해가요 \n",
            " 이 넓은 곳에서 우리 둘의 멋진 미래를 봐요 \n",
            " 함께 달려갈래요 서로 손을 잡고서 \n",
            " 우리 모두 함께 달려갈래요 우리 모두 \n",
            " 별이 뜰 때까지 lets go 함께해요 \n",
            " 별이 뜰 때까지 \n",
            " i love you i need you baby \n",
            " 별이 뜰 때까지 lets go 함께해요 \n",
            " 함께 날아갈래요 \n",
            " ah ah ah ah ah ah ah \n",
            " ah ah ah ah ah ah ah \n",
            " 같은 시간에 같은 시간에 함께라면 \n",
            " lets get a dream come true \n",
            " 함께 즐겨볼래요 hey \n",
            " 함께 날아갈래요 \n",
            " ah a\n",
            "\n",
            "\n"
          ]
        }
      ]
    },
    {
      "cell_type": "code",
      "source": [
        "len('주말마다 강아지랑 산책해요<br> 강아지는 너무 귀엽고 뛰어다녀요 <br> ')"
      ],
      "metadata": {
        "colab": {
          "base_uri": "https://localhost:8080/"
        },
        "id": "oYrlHqh99kib",
        "outputId": "e75ff3ad-d093-421c-b6c8-7c88d6f31bf0"
      },
      "execution_count": null,
      "outputs": [
        {
          "output_type": "execute_result",
          "data": {
            "text/plain": [
              "36"
            ]
          },
          "metadata": {},
          "execution_count": 55
        }
      ]
    },
    {
      "cell_type": "code",
      "source": [
        "lyric_generator('댄스', '주말마다 강아지랑 산책해요<br> 강아지는 너무 귀엽고 뛰어다녀요')"
      ],
      "metadata": {
        "colab": {
          "base_uri": "https://localhost:8080/"
        },
        "id": "gkMOynuvmAnZ",
        "outputId": "14e38264-7e5b-42ea-933d-91b26b2a10dd"
      },
      "execution_count": null,
      "outputs": [
        {
          "output_type": "stream",
          "name": "stderr",
          "text": [
            "Setting `pad_token_id` to `eos_token_id`:3 for open-end generation.\n"
          ]
        },
        {
          "output_type": "stream",
          "name": "stdout",
          "text": [
            "tensor([[42000, 42004, 15263, 14304, 14971,  8202, 16780, 14088, 42005, 39847,\n",
            "         14000, 21752, 16357, 22481,  8055,     3]], device='cuda:0')\n",
            "0: 주말마다 강아지랑 산책해요 \n",
            " 강아지는 너무 귀엽고 뛰어다녀요 \n",
            " 바다로 갈래 어디로 갈지 몰라서 \n",
            " 그 동안 못한 사랑 다시 찾았죠 \n",
            " 이제는 더 이상 기다리기 지겨워지면 \n",
            " 늦기전에 떠나요 멀리 떠나요 \n",
            " 푸른 바다로 신나는 여름 속으로 \n",
            " 푸른 바다로 신나는 여름 속으로 \n",
            " 언제나 함께 있어줘요 \n",
            " 파란 하늘 아래 모두 함께 떠나요 \n",
            " lets go summer \n",
            " 햇살이 부서지는 바닷가에 \n",
            " 우리함께 달려가요 \n",
            " 시원한 파도가 말해주는 시원한 여름 \n",
            " 사랑하는 우리 영원히 사랑해 \n",
            " 별이 쏟아지는 저 바다 위로 \n",
            " 우리 함께 달려가요 \n",
            " 저 푸른 바다로 가는 저 바다를 향해 \n",
            " 손을 잡고 신나는 음악에 맞춰 \n",
            " 행복을 느끼는 이 순간 \n",
            " 저 바다가 보여 멋진 하늘이 보여 \n",
            " 언제나 사랑을 비춰줘 빛나는 바다를 \n",
            " 하얀 모래위에 예쁘게 적어 놓은 \n",
            " 사랑해란 편지와 커다란 선물 \n",
            " 푸른 바다로 신나는 여름 속으로 \n",
            " 푸른 바다로 신나는 여름 속으로 \n",
            " 언제나 함께 있어줘요 \n",
            " 파란 하늘 아래 모두 함께 떠나요 \n",
            " lets go summer \n",
            " 햇살이 부서지는 바닷가에 \n",
            " 우리함께 달려가요 \n",
            " 시원한 파도가 말해주는 시원한 여름 \n",
            " 사랑하는 우리 영원히 사랑해 \n",
            " 별이 쏟아지는 저 바다 위에 \n",
            " 우리함께 달려가요 \n",
            " 저 푸른 바다로 가는 저 바다를 향해 \n",
            " 손을 잡고 신나는 음악에 맞춰 \n",
            " 행복을 느끼는 이 순간 \n",
            " 저 바다가 보여 멋진 하늘이 보여 \n",
            " 언제나 사랑을 비춰줘 빛나는 바다를 \n",
            " 맑은바다를 바라보며 \n",
            " 너와 난 바다를 가르고 싶었어 \n",
            " 너의 마음을 내게줘 tell me baby \n",
            " oh my lover 언제나 함께해 \n",
            " blue lover 언제나 함께있어 \n",
            " oh my lover 언제나 함께해 \n",
            " oh my lover 언제나 함께해\n",
            "\n",
            "\n"
          ]
        }
      ]
    },
    {
      "cell_type": "code",
      "source": [
        "lyric_generator('댄스', '주말마다 강아지랑 산책해요<br> 강아지는 너무 귀엽고 <br> 폴짝 뛰어다녀요<br> 나는 행복해요')"
      ],
      "metadata": {
        "colab": {
          "base_uri": "https://localhost:8080/"
        },
        "id": "4Mb6OGhJ_I8L",
        "outputId": "7077b609-6026-46f8-b47e-4a9933c4b322"
      },
      "execution_count": null,
      "outputs": [
        {
          "output_type": "stream",
          "name": "stderr",
          "text": [
            "Setting `pad_token_id` to `eos_token_id`:3 for open-end generation.\n"
          ]
        },
        {
          "output_type": "stream",
          "name": "stdout",
          "text": [
            "tensor([[42000, 42004, 15263, 14304, 14971,  8202, 16780, 14088, 42005, 39847,\n",
            "         14000, 21752, 42005,  7496,  8437, 16357, 22481,  8055, 42005, 14264,\n",
            "         38380,  8055,     3]], device='cuda:0')\n",
            "0: 주말마다 강아지랑 산책해요 \n",
            " 강아지는 너무 귀엽고 \n",
            " 폴짝 뛰어다녀요 \n",
            " 나는 행복해요 \n",
            " 내 손을 잡아 줄 사람 필요해 \n",
            " 외롭게 하던 그 모든 것들을 \n",
            " 나에 곁으로 와 바꿔준 이 사람 \n",
            " 정말 고마워요 이 사랑을 믿어요 \n",
            " 내 마음속 가득찬 그대를 향해 달려갈게요 \n",
            " 모두 다 같이 떠나보자 하늘위로 \n",
            " 우리 둘이 함께 하늘을 날아 가자 우리 둘이 함께 \n",
            " 푸른 초원위에 그림 같은 집을 지어 살아봐요 \n",
            " 가끔 눈이라도 오면 같이 걸어보고 \n",
            " 멋진 밤에는 누구와 단 둘이 별을 보며 \n",
            " 즐거운 상상을 해요 \n",
            " 우리 모두 모여 하늘을 날아요 \n",
            " 하늘 위로 \n",
            " 파란하늘 아래서 자유롭게 살아봐요 \n",
            " 항상 같은 하늘 아래서 함께해요 \n",
            " \n",
            " 가끔 눈이라도 오면 같이 걸어보고 \n",
            " 멋진 밤에는 누구와 단 둘이 별을 보며 \n",
            " 즐거운 상상을 해요 \n",
            " 우리 모두 모아 하늘을 날아요 \n",
            " 하늘 위로 \n",
            " 파란하늘 아래서 자유롭게 살아봐요 \n",
            " 항상 같은 하늘 아래서 함께해요\n",
            "\n",
            "\n"
          ]
        }
      ]
    },
    {
      "cell_type": "code",
      "source": [
        "lyric_generator('발라드', '주말마다 강아지랑 산책해요<br> 강아지는 너무 귀엽고 <br> 폴짝 뛰어다녀요<br> 나는 행복해요')"
      ],
      "metadata": {
        "colab": {
          "base_uri": "https://localhost:8080/"
        },
        "id": "wQpk00Bc_jOm",
        "outputId": "0ee01725-fa29-426f-cfbe-0b4db5597410"
      },
      "execution_count": null,
      "outputs": [
        {
          "output_type": "stream",
          "name": "stderr",
          "text": [
            "Setting `pad_token_id` to `eos_token_id`:3 for open-end generation.\n"
          ]
        },
        {
          "output_type": "stream",
          "name": "stdout",
          "text": [
            "tensor([[42000, 42003, 15263, 14304, 14971,  8202, 16780, 14088, 42005, 39847,\n",
            "         14000, 21752, 42005,  7496,  8437, 16357, 22481,  8055, 42005, 14264,\n",
            "         38380,  8055,     3]], device='cuda:0')\n",
            "0: 주말마다 강아지랑 산책해요 \n",
            " 강아지는 너무 귀엽고 \n",
            " 폴짝 뛰어다녀요 \n",
            " 나는 행복해요 \n",
            " 어떡하죠 \n",
            " 눈물이나요 너무 미안해져요 \n",
            " 내 맘이 그댈 향한 것만 같아 \n",
            " 너무 고마워요 사랑하게 됐나봐 \n",
            " love you love you love you \n",
            " 안아 주고 싶어요 \n",
            " 시간이 지나도 \n",
            " 영원토록 헤어지지 말아요 \n",
            " love you love you love you \n",
            " 그대만을 원해요 그대의 사랑 \n",
            " 언제까지나 영원히 \n",
            " love you love you love you \n",
            " 기다려요 우리 함께 할거죠 \n",
            " 눈물나는 날에도 \n",
            " 나 항상 그대 곁에 있고 싶어 \n",
            " 사랑해 사랑해 \n",
            " 어떡하죠 눈물이나요 \n",
            " 너무 미안해져요 \n",
            " 내 맘이 그댈 향한 것만 같아 \n",
            " 너무 고마워요 사랑하게 됐나봐 \n",
            " love you love you love you \n",
            " 안아 주고 싶어요 \n",
            " 시간이 지나도 \n",
            " 영원토록 헤어지지 말아요 \n",
            " love you love you love you \n",
            " 그대만을 원해요 그대의 사랑 \n",
            " 언제까지나 영원히 \n",
            " love you love you love you \n",
            " 기다려요 우리 함께 할거죠 \n",
            " 눈물나는 날에도 \n",
            " 나 항상 그대 곁에 있고 싶어 \n",
            " 사랑해 사랑해 \n",
            " 언제까지나 영원히 \n",
            " love you love you love you \n",
            " 기다려요 우리 함께 할거죠 \n",
            " 눈물나는 날에도 \n",
            " 나 항상 그대 곁에 있고 싶어\n",
            "\n",
            "\n"
          ]
        }
      ]
    },
    {
      "cell_type": "code",
      "source": [
        "# 생성된 가사가 거의 영어인 경우\n",
        "lyric_generator('댄스', '토요일 멘토링은 즐거워')"
      ],
      "metadata": {
        "colab": {
          "base_uri": "https://localhost:8080/"
        },
        "id": "PMGorffOIU53",
        "outputId": "ed8437e0-5298-4384-9141-ad31f12abdf6"
      },
      "execution_count": null,
      "outputs": [
        {
          "output_type": "stream",
          "name": "stderr",
          "text": [
            "Setting `pad_token_id` to `eos_token_id`:3 for open-end generation.\n"
          ]
        },
        {
          "output_type": "stream",
          "name": "stdout",
          "text": [
            "tensor([[42000, 42004, 18751, 35709, 30048, 26576,     3]], device='cuda:0')\n",
            "0: 토요일 멘토링은 즐거워 \n",
            " 오 그대와 함께라면 날아갈 수 있어 펼쳐진 넓은 저 우주를 향해서 \n",
            " oh love me tell me why dont you know how come on baby \n",
            " god is your favorite girl so \n",
            " youre just mine baby right now \n",
            " everybody come on come on lets dance \n",
            " right now right now \n",
            " its my shooting star \n",
            " my shooting star now everybody head like headlike headlike now \n",
            " yeah \n",
            " you will never let me fall in \n",
            " until the end of time we holdin together with no hands \n",
            " were back again bring this back \n",
            " you will never let me fall in \n",
            " until the end of time we holdin together with no hands \n",
            " were back again bring this back \n",
            " yo here we go oh man im a party with you boogie to the floor \n",
            " uknow i should feel it hot tarot bust your body rock \n",
            " hit the mic pound it up pump it up \n",
            " we gonna make it now lets dance \n",
            " right now right now \n",
            " its my shooting star \n",
            " my shooting star now everybody head like he\n",
            "\n",
            "\n"
          ]
        }
      ]
    },
    {
      "cell_type": "code",
      "source": [
        "# 훅만 반복되는 경우\n",
        "lyric_generator('발라드', 'I love you')"
      ],
      "metadata": {
        "colab": {
          "base_uri": "https://localhost:8080/"
        },
        "id": "XfsgfphUIfPq",
        "outputId": "ce7bee62-5a5f-4106-fed0-f65125f1735a"
      },
      "execution_count": null,
      "outputs": [
        {
          "output_type": "stream",
          "name": "stderr",
          "text": [
            "Setting `pad_token_id` to `eos_token_id`:3 for open-end generation.\n"
          ]
        },
        {
          "output_type": "stream",
          "name": "stdout",
          "text": [
            "tensor([[42000, 42003,  2049, 29808, 18641,     3]], device='cuda:0')\n",
            "0: i love you \n",
            " \n",
            " oh ah oh ah oh ah \n",
            " \n",
            " wanna be yourself in the battle crazy like space around yeah yeah \n",
            " \n",
            " 파도 치는 바다를 헤엄쳐 \n",
            " 그 속에 함께해 uh uh \n",
            " 파도치는 바다 위를 떠다닌 저 별들 중에 하나 \n",
            " \n",
            " i just hold my hand \n",
            " \n",
            " i just dont know \n",
            " \n",
            " i just see it \n",
            " \n",
            " i just love me to think about you \n",
            " \n",
            " we are all time getting party time \n",
            " \n",
            " 우리의 기쁨을 찾아주는 이 밤하늘에 달빛 \n",
            " \n",
            " i love you baby \n",
            " \n",
            " oh ah oh ah oh ah ah \n",
            " \n",
            " yeah yeah yeah yeah\n",
            "\n",
            "\n"
          ]
        }
      ]
    },
    {
      "cell_type": "code",
      "source": [
        "# 입력한 글은 안나오게 하기\n",
        "lyric_result = lyric_generator('댄스', '주말마다 강아지랑 산책해요<br> 강아지는 너무 귀엽고 뛰어다녀요')"
      ],
      "metadata": {
        "colab": {
          "base_uri": "https://localhost:8080/"
        },
        "id": "fIJ0T1vZ9f1O",
        "outputId": "4ebbc92b-d740-446b-d06b-b9aa1aa8f1b2"
      },
      "execution_count": null,
      "outputs": [
        {
          "output_type": "stream",
          "name": "stderr",
          "text": [
            "Setting `pad_token_id` to `eos_token_id`:3 for open-end generation.\n"
          ]
        },
        {
          "output_type": "stream",
          "name": "stdout",
          "text": [
            "tensor([[42000, 42004, 15263, 14304, 14971,  8202, 16780, 14088, 42005, 39847,\n",
            "         14000, 21752, 16357, 22481,  8055,     3]], device='cuda:0')\n",
            " \n",
            " 이제는 때가 됐죠 \n",
            " i love you love you love you baby \n",
            " love you love you love you baby \n",
            " love you love you love you baby \n",
            " 내 곁에서 더 높이 날아갈래요 \n",
            " 그대 이제 그만 좀 뛰놀까요 \n",
            " baby baby baby 내 맘에 들어와요 \n",
            " baby baby baby 날 안아줘요 \n",
            " 내 눈을 바라봐요 \n",
            " 내 손을 잡아요 내게 맡겨봐요 \n",
            " baby baby baby 내게 와요 \n",
            " baby baby baby 날 사랑해줘요 \n",
            " 언제나 함께 해요 \n",
            " i want your love \n",
            " i need your love \n",
            " i need your love \n",
            " i need your love \n",
            " 내 곁에선 더 높이 날아갈래요 \n",
            " 그대 이제 그만 좀 뛰놀까요 \n",
            " baby baby baby 내 맘에 들어와요 \n",
            " baby baby baby 날 안아줘요 \n",
            " 내 눈을 바라봐요 \n",
            " 내 손을 잡아요 내게 맡겨봐요 \n",
            " baby baby baby 내게 와요 \n",
            " baby baby baby 날 사랑해줘요 \n",
            " 언제나 함께 해요 \n",
            " 가끔은 혼자도 괜찮아 둘이어도 괜찮아 \n",
            " 난 괜찮으니까 날 안아줘요 \n",
            " 내 눈을 바라봐요 \n",
            " 내 손을 잡아요 내게 맡겨봐요 \n",
            " baby baby baby 내게 와요 \n",
            " baby baby baby 날 사랑해줘요 \n",
            " 언제나 함께 해요 \n",
            " baby baby baby 내게 와요 \n",
            " baby baby baby 날 안아줘요 \n",
            " 내 눈을 바라봐요 \n",
            " 내 손을 잡아요 내게 맡겨봐요 \n",
            " baby baby baby 내게 와요 \n",
            " baby baby baby 내 사랑 받아줄래요 \n",
            " 내 눈 속에 너를 담아 보낼게 \n",
            " love forev\n",
            "\n",
            "\n"
          ]
        }
      ]
    },
    {
      "cell_type": "code",
      "source": [
        "lyric_generator('댄스', '토요일 멘토링은 즐거워')"
      ],
      "metadata": {
        "colab": {
          "base_uri": "https://localhost:8080/"
        },
        "id": "5RSmGwYp-HCd",
        "outputId": "8ef1e4b4-8c31-4c31-cd39-e8ea6f6dc210"
      },
      "execution_count": null,
      "outputs": [
        {
          "output_type": "stream",
          "name": "stderr",
          "text": [
            "Setting `pad_token_id` to `eos_token_id`:3 for open-end generation.\n"
          ]
        },
        {
          "output_type": "stream",
          "name": "stdout",
          "text": [
            "tensor([[42000, 42004, 18751, 35709, 30048, 26576,     3]], device='cuda:0')\n",
            "0: 토요일 멘토링은 즐거워 \n",
            " 조금씩 너를 향해 가고 있어 이젠 모든 것을 뒤로한 채 널 향해 달려가고 있어 \n",
            " 어떤 어려운 것도 다 상관없어 그저 사랑하는 너의 손길만 \n",
            " 나를 위해 준비된 오직 단 한사람만을 위한 시간이란걸 느끼며 \n",
            " 자 시작해 볼까 내 자신을 돌아봐봐 너의 모든 사랑이 기다리는 곳에 다가서 봐 오 오 \n",
            " \n",
            " 우리 서로 멀리 있어도 좋아 떠나자 지금 자유로워 이 기분을 느껴봐 \n",
            " \n",
            " 이끌리는 대로 날개를 펴 세상을 날아가도 괜찮아 원하는 곳으로 \n",
            " 꿈을 찾아 떠나보는 거야 baby one two \n",
            " \n",
            " 시원한 바람결에 두 팔을 벌리고\n",
            "\n",
            "\n"
          ]
        }
      ]
    },
    {
      "cell_type": "code",
      "source": [
        "lyric_generator('댄스', '토요일 멘토링은 신나')"
      ],
      "metadata": {
        "colab": {
          "base_uri": "https://localhost:8080/"
        },
        "id": "0585BjT_ocVr",
        "outputId": "411fc01e-8038-4f0e-c0df-290a37137445"
      },
      "execution_count": null,
      "outputs": [
        {
          "output_type": "stream",
          "name": "stderr",
          "text": [
            "Setting `pad_token_id` to `eos_token_id`:3 for open-end generation.\n"
          ]
        },
        {
          "output_type": "stream",
          "name": "stdout",
          "text": [
            "tensor([[42000, 42004, 18751, 35709, 30048, 29863,     3]], device='cuda:0')\n",
            "0: 토요일 멘토링은 신나 \n",
            " \n",
            " \n",
            " \n",
            " hey hey hey lets go \n",
            " \n",
            " 파란 하늘 위엔 멋진 별이 떠 있어요 \n",
            " \n",
            " \n",
            " \n",
            " 우린 높이 날아갈 수 있어 우릴 따라와 줘 \n",
            " \n",
            " \n",
            " lets start this party \n",
            " \n",
            " 우리 모두 신나게 yeah we come on \n",
            " \n",
            " 이제 시작인데 lets bring it right now \n",
            " \n",
            " 소리쳐줘 크게 외쳐봐 \n",
            " \n",
            " \n",
            " \n",
            " 푸른하늘 위를 달려보자 시원한 바람 불어와 \n",
            " \n",
            " \n",
            " hey hey hey lets go \n",
            " \n",
            " 하얀 파도위에 떠오른 태양이 눈부셔 \n",
            " \n",
            " \n",
            " \n",
            " 저기 멀리 빛나는 저 별을 바라봐 \n",
            " \n",
            " \n",
            " \n",
            " 푸른 바다속에 뛰어들어 저 깊은 밤을 날아봐 \n",
            " \n",
            " \n",
            " \n",
            " \n",
            " lets start this party \n",
            " \n",
            " 우리 모두 신나게 yeah we come on \n",
            " \n",
            " 이제 시작인데 lets bring it right now \n",
            " \n",
            " 소리쳐줘 크게 외쳐봐 \n",
            " \n",
            " \n",
            " \n",
            " 푸른하늘 위를 달려보자 시원한 바람 불어와 \n",
            " \n",
            " \n",
            " \n",
            " hey hey hey lets go \n",
            " \n",
            " 하얀 파도위에 떠오른 태양이 눈부셔 \n",
            " \n",
            " \n",
            " \n",
            " 저기 멀리 빛나는 저 별을 바라봐 \n",
            " \n",
            " \n",
            " \n",
            " 푸른 바다속에 뛰어들어 저 깊은 밤을 날아봐 \n",
            " \n",
            " \n",
            " \n",
            " 소리쳐줘 크게 외쳐봐 \n",
            " \n",
            " \n",
            " 푸른 하늘 위를 달려보자 시원한 바람 불어와 \n",
            " \n",
            " \n",
            " \n",
            " 하나 둘 셋 lets go \n",
            " \n",
            " lets start this party \n",
            " \n",
            " 우리 모두 신나게 떠나볼래 \n",
            " \n",
            " \n",
            " \n",
            " 푸른 바다 위로 띄워줄래 \n",
            " \n",
            " \n",
            " \n",
            " our summer fever \n",
            " \n",
            " summer love together\n",
            "\n",
            "\n"
          ]
        }
      ]
    },
    {
      "cell_type": "code",
      "source": [
        "lyric_generator('댄스', '토요일 멘토링은 신나')"
      ],
      "metadata": {
        "colab": {
          "base_uri": "https://localhost:8080/"
        },
        "id": "r6n1UoVTv6vd",
        "outputId": "4e87e991-2121-40f6-deeb-58f675f113ba"
      },
      "execution_count": null,
      "outputs": [
        {
          "output_type": "stream",
          "name": "stderr",
          "text": [
            "Setting `pad_token_id` to `eos_token_id`:3 for open-end generation.\n"
          ]
        },
        {
          "output_type": "stream",
          "name": "stdout",
          "text": [
            "tensor([[42000, 42004, 18751, 35709, 30048, 29863,     3]], device='cuda:0')\n",
            "0: 토요일 멘토링은 신나 \n",
            " 오늘 밤엔 그대와 나만의 battle group star \n",
            " 그대와 단둘이 떠나요 둘이서 우리 단둘이 \n",
            " 푸른 바다 위에 fishbacka bikini \n",
            " 이 밤이 새도록 너와 함께 \n",
            " 뜨거운 태양아래 fishbacka bikini \n",
            " 내 맘을 모두 줄게 yeah \n",
            " i wanna love you boy ooh ooh ooh \n",
            " i wanna love you boy ooh ooh ooh \n",
            " you love me love me boy \n",
            " i love you boy love me boy \n",
            " heartbeat heartbeat boy \n",
            " heartbeat heartbeat boy \n",
            " 나를 한번 봐줘요 heartbeat heartbeat \n",
            " heartbeat heartbeat boy \n",
            " 내 심장은 두근두근 뛰죠 난 매일이 생일인데 \n",
            " 오늘만은 그대와 나뿐인 걸요 oh my lover \n",
            " 그대는 나의 shinee world \n",
            " 파란하늘 아래 sunshine \n",
            " 태양은 우릴 향해 비추고 \n",
            " 달빛은 우릴 향해 비춰 \n",
            " 우리 둘만 있는 그곳으로 oh my lover \n",
            " 우리의 별이 빛나는 이유는 \n",
            " 우리만의 love story \n",
            " 이 밤이 새도록 너와 함께 \n",
            " 뜨거운 태양아래 fishbacka bikini \n",
            " 이 밤이 새도록 너와 함께 \n",
            " 뜨거운 태양아래 fishbacka bikini \n",
            " 내 맘을 모두 줄게 yeah \n",
            " i wanna love you boy ooh ooh ooh \n",
            " i\n",
            "\n",
            "\n"
          ]
        }
      ]
    }
  ]
}