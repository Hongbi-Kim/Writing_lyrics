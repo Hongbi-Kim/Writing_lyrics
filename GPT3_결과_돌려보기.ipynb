{
  "nbformat": 4,
  "nbformat_minor": 0,
  "metadata": {
    "colab": {
      "name": "GPT3 결과 돌려보기.ipynb",
      "provenance": [],
      "collapsed_sections": [],
      "mount_file_id": "1KG1JeEFFt_wN252QYtm-AsSqan0qWjUY",
      "authorship_tag": "ABX9TyNZjhA1OUiUdZ6pEkmEPG0r",
      "include_colab_link": true
    },
    "kernelspec": {
      "name": "python3",
      "display_name": "Python 3"
    },
    "language_info": {
      "name": "python"
    },
    "accelerator": "GPU"
  },
  "cells": [
    {
      "cell_type": "markdown",
      "metadata": {
        "id": "view-in-github",
        "colab_type": "text"
      },
      "source": [
        "<a href=\"https://colab.research.google.com/github/Hongbi-Kim/Writing_lyrics/blob/master/GPT3_%EA%B2%B0%EA%B3%BC_%EB%8F%8C%EB%A0%A4%EB%B3%B4%EA%B8%B0.ipynb\" target=\"_parent\"><img src=\"https://colab.research.google.com/assets/colab-badge.svg\" alt=\"Open In Colab\"/></a>"
      ]
    },
    {
      "cell_type": "code",
      "execution_count": 24,
      "metadata": {
        "colab": {
          "base_uri": "https://localhost:8080/"
        },
        "id": "kWQ5fcNybCQI",
        "outputId": "1daebc91-bca9-4d75-a6a5-f95481b603b4"
      },
      "outputs": [
        {
          "output_type": "stream",
          "name": "stdout",
          "text": [
            "Requirement already satisfied: transformers in /usr/local/lib/python3.7/dist-packages (4.18.0)\n",
            "Requirement already satisfied: regex!=2019.12.17 in /usr/local/lib/python3.7/dist-packages (from transformers) (2019.12.20)\n",
            "Requirement already satisfied: tokenizers!=0.11.3,<0.13,>=0.11.1 in /usr/local/lib/python3.7/dist-packages (from transformers) (0.12.1)\n",
            "Requirement already satisfied: requests in /usr/local/lib/python3.7/dist-packages (from transformers) (2.23.0)\n",
            "Requirement already satisfied: sacremoses in /usr/local/lib/python3.7/dist-packages (from transformers) (0.0.49)\n",
            "Requirement already satisfied: packaging>=20.0 in /usr/local/lib/python3.7/dist-packages (from transformers) (21.3)\n",
            "Requirement already satisfied: tqdm>=4.27 in /usr/local/lib/python3.7/dist-packages (from transformers) (4.64.0)\n",
            "Requirement already satisfied: huggingface-hub<1.0,>=0.1.0 in /usr/local/lib/python3.7/dist-packages (from transformers) (0.5.1)\n",
            "Requirement already satisfied: filelock in /usr/local/lib/python3.7/dist-packages (from transformers) (3.6.0)\n",
            "Requirement already satisfied: pyyaml>=5.1 in /usr/local/lib/python3.7/dist-packages (from transformers) (6.0)\n",
            "Requirement already satisfied: importlib-metadata in /usr/local/lib/python3.7/dist-packages (from transformers) (4.11.3)\n",
            "Requirement already satisfied: numpy>=1.17 in /usr/local/lib/python3.7/dist-packages (from transformers) (1.21.6)\n",
            "Requirement already satisfied: typing-extensions>=3.7.4.3 in /usr/local/lib/python3.7/dist-packages (from huggingface-hub<1.0,>=0.1.0->transformers) (4.1.1)\n",
            "Requirement already satisfied: pyparsing!=3.0.5,>=2.0.2 in /usr/local/lib/python3.7/dist-packages (from packaging>=20.0->transformers) (3.0.8)\n",
            "Requirement already satisfied: zipp>=0.5 in /usr/local/lib/python3.7/dist-packages (from importlib-metadata->transformers) (3.8.0)\n",
            "Requirement already satisfied: idna<3,>=2.5 in /usr/local/lib/python3.7/dist-packages (from requests->transformers) (2.10)\n",
            "Requirement already satisfied: urllib3!=1.25.0,!=1.25.1,<1.26,>=1.21.1 in /usr/local/lib/python3.7/dist-packages (from requests->transformers) (1.24.3)\n",
            "Requirement already satisfied: certifi>=2017.4.17 in /usr/local/lib/python3.7/dist-packages (from requests->transformers) (2021.10.8)\n",
            "Requirement already satisfied: chardet<4,>=3.0.2 in /usr/local/lib/python3.7/dist-packages (from requests->transformers) (3.0.4)\n",
            "Requirement already satisfied: click in /usr/local/lib/python3.7/dist-packages (from sacremoses->transformers) (7.1.2)\n",
            "Requirement already satisfied: six in /usr/local/lib/python3.7/dist-packages (from sacremoses->transformers) (1.15.0)\n",
            "Requirement already satisfied: joblib in /usr/local/lib/python3.7/dist-packages (from sacremoses->transformers) (1.1.0)\n"
          ]
        }
      ],
      "source": [
        "!pip install transformers"
      ]
    },
    {
      "cell_type": "markdown",
      "source": [
        "- gpt3_1 : tokenizer 250, 300으로 학습\n",
        "- gpt3_2 : tokenizer 350으로 학습\n",
        "- gpt3_5000sample : 5000개 데이터, tokenizer 350으로 학습\n",
        "- gpt3_10000개_350_epoch7\n",
        "- gpt3_10000_mx350_ep7"
      ],
      "metadata": {
        "id": "xRF1IlMObeCr"
      }
    },
    {
      "cell_type": "code",
      "source": [
        "# 구글 드라이브에서 모델, 토크나이저 불러오기\n",
        "import os\n",
        "import time\n",
        "import datetime\n",
        "from google.colab import drive\n",
        "\n",
        "import pandas as pd\n",
        "import seaborn as sns\n",
        "import numpy as np\n",
        "import random\n",
        "import re\n",
        "\n",
        "import torch\n",
        "from torch.utils.data import Dataset, DataLoader, random_split, RandomSampler, SequentialSampler\n",
        "torch.manual_seed(42)\n",
        "\n",
        "from transformers import GPT2LMHeadModel,  GPT2Tokenizer, GPT2Config, GPT2LMHeadModel\n",
        "from transformers import AdamW, get_linear_schedule_with_warmup\n",
        "\n",
        "# gpt3-kor-small_based_on_gpt2\n",
        "from transformers import BertTokenizerFast, GPT2LMHeadModel\n",
        "model = GPT2LMHeadModel.from_pretrained('/content/drive/MyDrive/5조_파이널PJT/코드/model_result/gpt3_topic')\n",
        "tokenizer_gpt3 = BertTokenizerFast.from_pretrained('/content/drive/MyDrive/5조_파이널PJT/코드/model_result/gpt3_topic')\n",
        "input_ids = tokenizer_gpt3.encode(\"text to tokenize\")[1:]  # remove cls token"
      ],
      "metadata": {
        "id": "F_325GDag1Jx"
      },
      "execution_count": 25,
      "outputs": []
    },
    {
      "cell_type": "code",
      "source": [
        "device = torch.device(\"cuda\")\n",
        "model.cuda()\n",
        "\n",
        "seed_val = 42\n",
        "\n",
        "random.seed(seed_val)\n",
        "np.random.seed(seed_val)\n",
        "torch.manual_seed(seed_val)\n",
        "torch.cuda.manual_seed_all(seed_val)\n",
        "model = model.to(device)"
      ],
      "metadata": {
        "id": "ztl0AqXJbOoD"
      },
      "execution_count": 26,
      "outputs": []
    },
    {
      "cell_type": "code",
      "source": [
        "model.eval()\n",
        "def lyric_generator(gen, lyric):\n",
        "  prompt = f\"<|startoftext|> <{gen}> {lyric}\"\n",
        "  generated = torch.tensor(tokenizer_gpt3.encode(prompt)[1:]).unsqueeze(0)\n",
        "  generated = generated.to(device)\n",
        "\n",
        "  print(generated)\n",
        "\n",
        "  sample_outputs = model.generate(\n",
        "                                  generated, \n",
        "                                  #bos_token_id=random.randint(1,30000),\n",
        "                                  do_sample=True,   \n",
        "                                  top_k=50, \n",
        "                                  max_length = 350,\n",
        "                                  #max_length = len(lyric) + 350,\n",
        "                                  top_p=0.95, \n",
        "                                  num_return_sequences=1,\n",
        "                                  repetition_penalty=1.1\n",
        "                                  )\n",
        "\n",
        "  for i, sample_output in enumerate(sample_outputs):\n",
        "    # result = \"{}: {}\".format(i, tokenizer_gpt3.decode(sample_output, skip_special_tokens=True))\n",
        "    result = tokenizer_gpt3.decode(sample_output, skip_special_tokens=True)\n",
        "    result = re.sub(r\"<br>\", '\\n', result)\n",
        "    # re.sub(r'[a-z]','',result.split('\\n')[-1])\n",
        "    # result = re.sub(r'[a-z]','',result.split('\\n')[-1])   \n",
        "    # result = result[len(lyric)+1:]\n",
        "    # print(re.sub(r'[a-z]','',result))\n",
        "    #print(result)\n",
        "  return result"
      ],
      "metadata": {
        "id": "AxlSg3EAHIwh"
      },
      "execution_count": 27,
      "outputs": []
    },
    {
      "cell_type": "code",
      "source": [
        "def decide_regen(input):\n",
        "  val = []\n",
        "  for i in input.split('<br>'):\n",
        "  #for i in input.split('\\n'):\n",
        "    val.append(str(bool(re.search(r'[ㄱ-ㅎ|ㅏ-ㅣ|가-힣]',i))))\n",
        "\n",
        "  eng = []\n",
        "  space = []\n",
        "  for char in input:\n",
        "    if re.sub(r'[a-z]','',char) == \"\":\n",
        "      eng += char\n",
        "    elif char == \" \":\n",
        "      space += char\n",
        "  eng_ratio = len(eng)/(len(input)-len(space))\n",
        "\n",
        "  if (len(set(val[1:])) == 1) & ('False' in set(val[1:])) == True:\n",
        "    print((len(set(val[1:])) == 1) & ('False' in set(val[1:])))\n",
        "    print(input)\n",
        "    output = 'regenerate'\n",
        "  elif eng_ratio > 0.7:\n",
        "    print(eng_ratio)\n",
        "    print(input)\n",
        "    output = 'regenerate'\n",
        "  else:\n",
        "    print(eng_ratio)\n",
        "    output = 'pass'\n",
        "  \n",
        "  return output"
      ],
      "metadata": {
        "id": "JT0_lKcJEEYl"
      },
      "execution_count": 28,
      "outputs": []
    },
    {
      "cell_type": "code",
      "source": [
        "def remove_lastEng(a):\n",
        "  # 마지막 줄에 영어만 있다면\n",
        "  if re.sub(r'[a-z\\n]','',a.split('\\n')[-1]).strip() == \"\" :\n",
        "    b = a.split('\\n')[:-1]\n",
        "    c = \"\"\n",
        "    for i in b:\n",
        "      if i == ' ':\n",
        "        i = re.sub(r\" \", \"\\n \\n\", i)\n",
        "      c += i\n",
        "      c = re.sub(r\"  \", \"\\n\", c)\n",
        "      output = c\n",
        "  else:\n",
        "    output = a.replace('<br>','\\n')\n",
        "  print(output)\n",
        "  return "
      ],
      "metadata": {
        "id": "XErG-3SyLtUI"
      },
      "execution_count": 29,
      "outputs": []
    },
    {
      "cell_type": "code",
      "source": [
        "def ai_lyrics(gen, lyric):\n",
        "  result = lyric_generator(gen, lyric)\n",
        "  if decide_regen(result) == 'regenerate':\n",
        "    print('재생성이 필요합니다.')\n",
        "    # output = lyric_generator(gen, lyric)\n",
        "    return ai_lyrics(gen, lyric)\n",
        "  else:\n",
        "    return remove_lastEng(result)\n",
        "  #print(output)\n",
        "  #return"
      ],
      "metadata": {
        "id": "d1Yo7PSbFGmz"
      },
      "execution_count": 30,
      "outputs": []
    },
    {
      "cell_type": "code",
      "source": [
        "ai_lyrics('댄스topic4','똑같이 반복되는 하루 지긋지긋해')"
      ],
      "metadata": {
        "id": "DPaJUiKHHVF0",
        "colab": {
          "base_uri": "https://localhost:8080/"
        },
        "outputId": "01d1deb4-5971-4cbb-ea4c-90fec414cf41"
      },
      "execution_count": 37,
      "outputs": [
        {
          "output_type": "stream",
          "name": "stderr",
          "text": [
            "Setting `pad_token_id` to `eos_token_id`:3 for open-end generation.\n"
          ]
        },
        {
          "output_type": "stream",
          "name": "stdout",
          "text": [
            "tensor([[42000, 42012, 20320, 16366, 14106, 14298,  6266,  9110,  8038,  9110,\n",
            "          8010,     3]], device='cuda:0')\n",
            "0.0\n",
            "똑같이 반복되는 하루 지긋지긋해 \n",
            " 시간 있으면 전화하고 나올 거야 \n",
            " 오늘 하루는 내가 만든 노래를 불러볼래 \n",
            " 해가 지면 톡 해줘요 \n",
            " 오늘은 그냥 나랑 놀자 \n",
            " 나랑 같이 놀자 \n",
            " 내가 만든 노래에 흥얼거려봐 \n",
            " 나와 같이 놀자 \n",
            " 나와 같이 놀자 \n",
            " 내가 만든 노래에 빠져서 춤을 춰요 \n",
            " 노래는 우리가 만든 노래 \n",
            " 이 음악이 돈이 되는 순간 행복할 거야 \n",
            " 내게는 이 노래가 평생 아껴줄 거야 \n",
            " 내가 가진 노래로 흥얼거릴 거야 \n",
            " 함께하면 더 빠르게 맘이 벅차오르고 \n",
            " 너를 보면 벅차오르고 \n",
            " 너도 나를 본다면 이 순간을 잊지 않을 거야 \n",
            " 나처럼 나처럼 리듬을 타볼 거야 \n",
            " 나와 같이 놀자 나랑 같이 놀자 \n",
            " 내가 만든 노래에 흥얼거려봐 \n",
            " 나와 같이 놀자 나랑 같이 놀자 \n",
            " 내가 만든 노래에 빠져서 춤을 춰요 \n",
            " 노래는 우리가 만든 노래 \n",
            " 이 음악이 돈이 되는 순간 행복할 거야 \n",
            " 나와 같이 놀자 나랑 같이 놀자 \n",
            " 나랑 같이 놀자 나랑 같이 놀자 \n",
            " 나랑 같이 놀자 나랑 같이 놀자 \n",
            " 나랑 같이 놀자 나랑 같이 놀자 \n",
            " 나랑 같이 놀자 나랑 같이 놀자 \n",
            " 나랑 같이 놀자 나랑 같이 놀자 \n",
            " 나랑 같이 놀자 나랑 같이 놀자 \n",
            " 나랑 같이 놀자 나랑 같이 놀자\n"
          ]
        }
      ]
    },
    {
      "cell_type": "code",
      "source": [
        "\n",
        "print('똑같이 반복되는 하루하루 저 멀리 들리는\\n작은 음악소릴 따라 걸으면\\n어느새 너와 내가 같은 꿈을 꾼 거 같아\\n왜 이렇게 이 모든 게 꿈만같아\\ni wanna feel\\n지금 우리 둘만의 리듬을 타고\\ngo to the moonlight\\n별빛은 우릴 비추고\\ndont let it go away\\n그 어떤것도 우리 맘을 막을 수는 없어\\n너와 함께 이 세상을\\n더 크게 만들어 볼래\\neveryday everynight\\n너와나 함께해 매일 새롭게\\n우리 함께할 우리의 미래를 펼쳐갈게\\n이 짙은 어둠이 사라지고\\n이젠 함께 하는 거야 always\\n저 파란 하늘 아래 이 노래는\\noh eh oh oh\\n밝은 아침이 되면\\n서로 어깰 두드리며 환하게 웃어줘\\n더 멋진 날을 위해 우린 달려왔어\\nlets get party\\n다함께 시작해볼까\\ncan we stay in the moment\\ncan you be yeah uh oh\\nnananananana\\ncan you be yeah uh oh\\nnow lets bring on back turn it up\\ncome on overdrive and run and drug\\n너와 나 이 선을 넘어\\nwe can stop\\n다 같이 we can rock it on\\n멈추지 않고 fly high\\n저 높은 하늘을 향해서 크게 소리쳐봐\\n우리가 바라는 멋진 미래로\\n꿈이 이뤄질 아름다운 날들\\n우리의 발걸음\\n더 가볍게 더 신나게\\n이 짙은 어둠이 사라져\\n이젠 함께 하는 거야 always\\n저 파란 하늘 아래 이 노래는 ')"
      ],
      "metadata": {
        "colab": {
          "base_uri": "https://localhost:8080/"
        },
        "id": "V3ePQX2rEymf",
        "outputId": "35b03ee7-1409-4ab9-977b-49a0d9571cc0"
      },
      "execution_count": 19,
      "outputs": [
        {
          "output_type": "stream",
          "name": "stdout",
          "text": [
            "똑같이 반복되는 하루하루 저 멀리 들리는\n",
            "작은 음악소릴 따라 걸으면\n",
            "어느새 너와 내가 같은 꿈을 꾼 거 같아\n",
            "왜 이렇게 이 모든 게 꿈만같아\n",
            "i wanna feel\n",
            "지금 우리 둘만의 리듬을 타고\n",
            "go to the moonlight\n",
            "별빛은 우릴 비추고\n",
            "dont let it go away\n",
            "그 어떤것도 우리 맘을 막을 수는 없어\n",
            "너와 함께 이 세상을\n",
            "더 크게 만들어 볼래\n",
            "everyday everynight\n",
            "너와나 함께해 매일 새롭게\n",
            "우리 함께할 우리의 미래를 펼쳐갈게\n",
            "이 짙은 어둠이 사라지고\n",
            "이젠 함께 하는 거야 always\n",
            "저 파란 하늘 아래 이 노래는\n",
            "oh eh oh oh\n",
            "밝은 아침이 되면\n",
            "서로 어깰 두드리며 환하게 웃어줘\n",
            "더 멋진 날을 위해 우린 달려왔어\n",
            "lets get party\n",
            "다함께 시작해볼까\n",
            "can we stay in the moment\n",
            "can you be yeah uh oh\n",
            "nananananana\n",
            "can you be yeah uh oh\n",
            "now lets bring on back turn it up\n",
            "come on overdrive and run and drug\n",
            "너와 나 이 선을 넘어\n",
            "we can stop\n",
            "다 같이 we can rock it on\n",
            "멈추지 않고 fly high\n",
            "저 높은 하늘을 향해서 크게 소리쳐봐\n",
            "우리가 바라는 멋진 미래로\n",
            "꿈이 이뤄질 아름다운 날들\n",
            "우리의 발걸음\n",
            "더 가볍게 더 신나게\n",
            "이 짙은 어둠이 사라져\n",
            "이젠 함께 하는 거야 always\n",
            "저 파란 하늘 아래 이 노래는 \n"
          ]
        }
      ]
    },
    {
      "cell_type": "code",
      "source": [
        "ai_lyrics('댄스topic5', '매일 강아지랑 춤추는')"
      ],
      "metadata": {
        "id": "kkNe3-UccPJy",
        "colab": {
          "base_uri": "https://localhost:8080/"
        },
        "outputId": "f45258bf-90e5-46aa-f503-2f1c3f727109"
      },
      "execution_count": null,
      "outputs": [
        {
          "output_type": "stream",
          "name": "stderr",
          "text": [
            "Setting `pad_token_id` to `eos_token_id`:3 for open-end generation.\n"
          ]
        },
        {
          "output_type": "stream",
          "name": "stdout",
          "text": [
            "tensor([[42000, 42013, 14759, 14971,  8202,  6748, 33408,     3]],\n",
            "       device='cuda:0')\n",
            "매일 강아지랑 춤추는 \n",
            " 모두 잠든 새벽 고요한 강둑에 \n",
            " 수양버들이 아 아 \n",
            " 밤 하늘에 흐르는 별이 빛나는 밤에 \n",
            " 저 별들의 노래 달콤이 전해지네 \n",
            " 자 소원을 들어줘 그리고 춤을 춰봐 \n",
            " 함께 가는 거야 우리 노래 부르자 \n",
            " 함께 보는 거야 영원을 향해 날아보자 \n",
            " 자 이제 약속해 시간이 됐어 \n",
            " 소리 지르고 어서 따라와 \n",
            " 우리는 저멀리로 아 아 \n",
            " 우리의 노래가 시작되면 \n",
            " 모두가 놀라 귀척이나 달려가 \n",
            " 노래 불러라 소리 질러 \n",
            " 자 준비됐음 잘 들었으니 \n",
            " 나와 함께 놀자 \n",
            " 하하하하하 하늘을 날아가는 새처럼 \n",
            " 우리 들판에 물들게 \n",
            " 까치발 들고서 라랄랄라라라 \n",
            " 랄랄라라라라라 라랄라 라랄라 \n",
            " 자 이제는 준비 됐어 \n",
            " 자 마음됨대로 함께뛰어 놀아보자 \n",
            " 자 원 투히기 원 투 쓰리 포 \n",
            " 자 준비됐음 시작해보자 \n",
            " 자 목소리 위 \n",
            " 랄랄라라라라라 라랄랄라라라 \n",
            " 랄랄라라라라라 라랄라 라랄라 \n",
            " 자 준비됐음 시작해보자 \n",
            " 자 이제부터 시작해보자\n"
          ]
        }
      ]
    },
    {
      "cell_type": "code",
      "source": [
        "lyric_generator('발라드', '매일 강아지랑 산책해')"
      ],
      "metadata": {
        "colab": {
          "base_uri": "https://localhost:8080/"
        },
        "id": "POY7zUi2lXZ2",
        "outputId": "523fe9c8-a8b1-4469-8cad-51c8ded4c9ff"
      },
      "execution_count": null,
      "outputs": [
        {
          "output_type": "stream",
          "name": "stderr",
          "text": [
            "Setting `pad_token_id` to `eos_token_id`:3 for open-end generation.\n"
          ]
        },
        {
          "output_type": "stream",
          "name": "stdout",
          "text": [
            "tensor([[42000, 42003, 14759, 14971,  8202, 16780,  8010,     3]],\n",
            "       device='cuda:0')\n",
            "0: 매일 강아지랑 산책해 \n",
            " 용기 내 전불 걸 수 있는 \n",
            " 용길 줘요 함께해요 \n",
            " 이 넓은 곳에서 우리 둘의 멋진 미래를 봐요 \n",
            " 함께 달려갈래요 서로 손을 잡고서 \n",
            " 우리 모두 함께 달려갈래요 우리 모두 \n",
            " 별이 뜰 때까지 lets go 함께해요 \n",
            " 별이 뜰 때까지 \n",
            " i love you i need you baby \n",
            " 별이 뜰 때까지 lets go 함께해요 \n",
            " 너만의 빛나는 별을 찾아갈래 \n",
            " 널 위한 별자리를 만들래 \n",
            " 난 너만의 반짝이는 별이 될래 \n",
            " 너만의 빛으로 밝게 빛나줘 \n",
            " 너만의 환한 빛으로 \n",
            " 밝게 빛나줘 \n",
            " 너만의 빛나는 별을 찾을래 \n",
            " 널 위한 별자리를 만들래 \n",
            " 넌 날 깨워내는 저 빛의 마법사 \n",
            " 저 높은 곳까지 올라 갈 것 같아 \n",
            " 내 손에 잡힐 듯 말 듯이 잡히지가 않아 \n",
            " 너의 주위를 공전하는 저 달이 \n",
            " 이 어두운 밤하늘에 뜨는 별처럼 \n",
            " 내가 지켜줄게요 \n",
            " 같이 달려 갈래요 서로의 손 잡고서 \n",
            " 너와 나 이렇게 둘이 저 빛나는 하늘을 향해가요 \n",
            " 이 넓은 곳에서 우리 둘의 멋진 미래를 봐요 \n",
            " 함께 달려갈래요 서로 손을 잡고서 \n",
            " 우리 모두 함께 달려갈래요 우리 모두 \n",
            " 별이 뜰 때까지 lets go 함께해요 \n",
            " 별이 뜰 때까지 \n",
            " i love you i need you baby \n",
            " 별이 뜰 때까지 lets go 함께해요 \n",
            " 함께 날아갈래요 \n",
            " ah ah ah ah ah ah ah \n",
            " ah ah ah ah ah ah ah \n",
            " 같은 시간에 같은 시간에 함께라면 \n",
            " lets get a dream come true \n",
            " 함께 즐겨볼래요 hey \n",
            " 함께 날아갈래요 \n",
            " ah a\n",
            "\n",
            "\n"
          ]
        }
      ]
    },
    {
      "cell_type": "code",
      "source": [
        "len('주말마다 강아지랑 산책해요<br> 강아지는 너무 귀엽고 뛰어다녀요 <br> ')"
      ],
      "metadata": {
        "colab": {
          "base_uri": "https://localhost:8080/"
        },
        "id": "oYrlHqh99kib",
        "outputId": "e75ff3ad-d093-421c-b6c8-7c88d6f31bf0"
      },
      "execution_count": null,
      "outputs": [
        {
          "output_type": "execute_result",
          "data": {
            "text/plain": [
              "36"
            ]
          },
          "metadata": {},
          "execution_count": 55
        }
      ]
    },
    {
      "cell_type": "code",
      "source": [
        "lyric_generator('댄스', '주말마다 강아지랑 산책해요<br> 강아지는 너무 귀엽고 뛰어다녀요')"
      ],
      "metadata": {
        "colab": {
          "base_uri": "https://localhost:8080/"
        },
        "id": "gkMOynuvmAnZ",
        "outputId": "14e38264-7e5b-42ea-933d-91b26b2a10dd"
      },
      "execution_count": null,
      "outputs": [
        {
          "output_type": "stream",
          "name": "stderr",
          "text": [
            "Setting `pad_token_id` to `eos_token_id`:3 for open-end generation.\n"
          ]
        },
        {
          "output_type": "stream",
          "name": "stdout",
          "text": [
            "tensor([[42000, 42004, 15263, 14304, 14971,  8202, 16780, 14088, 42005, 39847,\n",
            "         14000, 21752, 16357, 22481,  8055,     3]], device='cuda:0')\n",
            "0: 주말마다 강아지랑 산책해요 \n",
            " 강아지는 너무 귀엽고 뛰어다녀요 \n",
            " 바다로 갈래 어디로 갈지 몰라서 \n",
            " 그 동안 못한 사랑 다시 찾았죠 \n",
            " 이제는 더 이상 기다리기 지겨워지면 \n",
            " 늦기전에 떠나요 멀리 떠나요 \n",
            " 푸른 바다로 신나는 여름 속으로 \n",
            " 푸른 바다로 신나는 여름 속으로 \n",
            " 언제나 함께 있어줘요 \n",
            " 파란 하늘 아래 모두 함께 떠나요 \n",
            " lets go summer \n",
            " 햇살이 부서지는 바닷가에 \n",
            " 우리함께 달려가요 \n",
            " 시원한 파도가 말해주는 시원한 여름 \n",
            " 사랑하는 우리 영원히 사랑해 \n",
            " 별이 쏟아지는 저 바다 위로 \n",
            " 우리 함께 달려가요 \n",
            " 저 푸른 바다로 가는 저 바다를 향해 \n",
            " 손을 잡고 신나는 음악에 맞춰 \n",
            " 행복을 느끼는 이 순간 \n",
            " 저 바다가 보여 멋진 하늘이 보여 \n",
            " 언제나 사랑을 비춰줘 빛나는 바다를 \n",
            " 하얀 모래위에 예쁘게 적어 놓은 \n",
            " 사랑해란 편지와 커다란 선물 \n",
            " 푸른 바다로 신나는 여름 속으로 \n",
            " 푸른 바다로 신나는 여름 속으로 \n",
            " 언제나 함께 있어줘요 \n",
            " 파란 하늘 아래 모두 함께 떠나요 \n",
            " lets go summer \n",
            " 햇살이 부서지는 바닷가에 \n",
            " 우리함께 달려가요 \n",
            " 시원한 파도가 말해주는 시원한 여름 \n",
            " 사랑하는 우리 영원히 사랑해 \n",
            " 별이 쏟아지는 저 바다 위에 \n",
            " 우리함께 달려가요 \n",
            " 저 푸른 바다로 가는 저 바다를 향해 \n",
            " 손을 잡고 신나는 음악에 맞춰 \n",
            " 행복을 느끼는 이 순간 \n",
            " 저 바다가 보여 멋진 하늘이 보여 \n",
            " 언제나 사랑을 비춰줘 빛나는 바다를 \n",
            " 맑은바다를 바라보며 \n",
            " 너와 난 바다를 가르고 싶었어 \n",
            " 너의 마음을 내게줘 tell me baby \n",
            " oh my lover 언제나 함께해 \n",
            " blue lover 언제나 함께있어 \n",
            " oh my lover 언제나 함께해 \n",
            " oh my lover 언제나 함께해\n",
            "\n",
            "\n"
          ]
        }
      ]
    },
    {
      "cell_type": "code",
      "source": [
        "lyric_generator('댄스', '주말마다 강아지랑 산책해요<br> 강아지는 너무 귀엽고 <br> 폴짝 뛰어다녀요<br> 나는 행복해요')"
      ],
      "metadata": {
        "colab": {
          "base_uri": "https://localhost:8080/"
        },
        "id": "4Mb6OGhJ_I8L",
        "outputId": "7077b609-6026-46f8-b47e-4a9933c4b322"
      },
      "execution_count": null,
      "outputs": [
        {
          "output_type": "stream",
          "name": "stderr",
          "text": [
            "Setting `pad_token_id` to `eos_token_id`:3 for open-end generation.\n"
          ]
        },
        {
          "output_type": "stream",
          "name": "stdout",
          "text": [
            "tensor([[42000, 42004, 15263, 14304, 14971,  8202, 16780, 14088, 42005, 39847,\n",
            "         14000, 21752, 42005,  7496,  8437, 16357, 22481,  8055, 42005, 14264,\n",
            "         38380,  8055,     3]], device='cuda:0')\n",
            "0: 주말마다 강아지랑 산책해요 \n",
            " 강아지는 너무 귀엽고 \n",
            " 폴짝 뛰어다녀요 \n",
            " 나는 행복해요 \n",
            " 내 손을 잡아 줄 사람 필요해 \n",
            " 외롭게 하던 그 모든 것들을 \n",
            " 나에 곁으로 와 바꿔준 이 사람 \n",
            " 정말 고마워요 이 사랑을 믿어요 \n",
            " 내 마음속 가득찬 그대를 향해 달려갈게요 \n",
            " 모두 다 같이 떠나보자 하늘위로 \n",
            " 우리 둘이 함께 하늘을 날아 가자 우리 둘이 함께 \n",
            " 푸른 초원위에 그림 같은 집을 지어 살아봐요 \n",
            " 가끔 눈이라도 오면 같이 걸어보고 \n",
            " 멋진 밤에는 누구와 단 둘이 별을 보며 \n",
            " 즐거운 상상을 해요 \n",
            " 우리 모두 모여 하늘을 날아요 \n",
            " 하늘 위로 \n",
            " 파란하늘 아래서 자유롭게 살아봐요 \n",
            " 항상 같은 하늘 아래서 함께해요 \n",
            " \n",
            " 가끔 눈이라도 오면 같이 걸어보고 \n",
            " 멋진 밤에는 누구와 단 둘이 별을 보며 \n",
            " 즐거운 상상을 해요 \n",
            " 우리 모두 모아 하늘을 날아요 \n",
            " 하늘 위로 \n",
            " 파란하늘 아래서 자유롭게 살아봐요 \n",
            " 항상 같은 하늘 아래서 함께해요\n",
            "\n",
            "\n"
          ]
        }
      ]
    },
    {
      "cell_type": "code",
      "source": [
        "lyric_generator('발라드', '주말마다 강아지랑 산책해요<br> 강아지는 너무 귀엽고 <br> 폴짝 뛰어다녀요<br> 나는 행복해요')"
      ],
      "metadata": {
        "colab": {
          "base_uri": "https://localhost:8080/"
        },
        "id": "wQpk00Bc_jOm",
        "outputId": "0ee01725-fa29-426f-cfbe-0b4db5597410"
      },
      "execution_count": null,
      "outputs": [
        {
          "output_type": "stream",
          "name": "stderr",
          "text": [
            "Setting `pad_token_id` to `eos_token_id`:3 for open-end generation.\n"
          ]
        },
        {
          "output_type": "stream",
          "name": "stdout",
          "text": [
            "tensor([[42000, 42003, 15263, 14304, 14971,  8202, 16780, 14088, 42005, 39847,\n",
            "         14000, 21752, 42005,  7496,  8437, 16357, 22481,  8055, 42005, 14264,\n",
            "         38380,  8055,     3]], device='cuda:0')\n",
            "0: 주말마다 강아지랑 산책해요 \n",
            " 강아지는 너무 귀엽고 \n",
            " 폴짝 뛰어다녀요 \n",
            " 나는 행복해요 \n",
            " 어떡하죠 \n",
            " 눈물이나요 너무 미안해져요 \n",
            " 내 맘이 그댈 향한 것만 같아 \n",
            " 너무 고마워요 사랑하게 됐나봐 \n",
            " love you love you love you \n",
            " 안아 주고 싶어요 \n",
            " 시간이 지나도 \n",
            " 영원토록 헤어지지 말아요 \n",
            " love you love you love you \n",
            " 그대만을 원해요 그대의 사랑 \n",
            " 언제까지나 영원히 \n",
            " love you love you love you \n",
            " 기다려요 우리 함께 할거죠 \n",
            " 눈물나는 날에도 \n",
            " 나 항상 그대 곁에 있고 싶어 \n",
            " 사랑해 사랑해 \n",
            " 어떡하죠 눈물이나요 \n",
            " 너무 미안해져요 \n",
            " 내 맘이 그댈 향한 것만 같아 \n",
            " 너무 고마워요 사랑하게 됐나봐 \n",
            " love you love you love you \n",
            " 안아 주고 싶어요 \n",
            " 시간이 지나도 \n",
            " 영원토록 헤어지지 말아요 \n",
            " love you love you love you \n",
            " 그대만을 원해요 그대의 사랑 \n",
            " 언제까지나 영원히 \n",
            " love you love you love you \n",
            " 기다려요 우리 함께 할거죠 \n",
            " 눈물나는 날에도 \n",
            " 나 항상 그대 곁에 있고 싶어 \n",
            " 사랑해 사랑해 \n",
            " 언제까지나 영원히 \n",
            " love you love you love you \n",
            " 기다려요 우리 함께 할거죠 \n",
            " 눈물나는 날에도 \n",
            " 나 항상 그대 곁에 있고 싶어\n",
            "\n",
            "\n"
          ]
        }
      ]
    },
    {
      "cell_type": "code",
      "source": [
        "# 생성된 가사가 거의 영어인 경우\n",
        "lyric_generator('댄스', '토요일 멘토링은 즐거워')"
      ],
      "metadata": {
        "colab": {
          "base_uri": "https://localhost:8080/"
        },
        "id": "PMGorffOIU53",
        "outputId": "ed8437e0-5298-4384-9141-ad31f12abdf6"
      },
      "execution_count": null,
      "outputs": [
        {
          "output_type": "stream",
          "name": "stderr",
          "text": [
            "Setting `pad_token_id` to `eos_token_id`:3 for open-end generation.\n"
          ]
        },
        {
          "output_type": "stream",
          "name": "stdout",
          "text": [
            "tensor([[42000, 42004, 18751, 35709, 30048, 26576,     3]], device='cuda:0')\n",
            "0: 토요일 멘토링은 즐거워 \n",
            " 오 그대와 함께라면 날아갈 수 있어 펼쳐진 넓은 저 우주를 향해서 \n",
            " oh love me tell me why dont you know how come on baby \n",
            " god is your favorite girl so \n",
            " youre just mine baby right now \n",
            " everybody come on come on lets dance \n",
            " right now right now \n",
            " its my shooting star \n",
            " my shooting star now everybody head like headlike headlike now \n",
            " yeah \n",
            " you will never let me fall in \n",
            " until the end of time we holdin together with no hands \n",
            " were back again bring this back \n",
            " you will never let me fall in \n",
            " until the end of time we holdin together with no hands \n",
            " were back again bring this back \n",
            " yo here we go oh man im a party with you boogie to the floor \n",
            " uknow i should feel it hot tarot bust your body rock \n",
            " hit the mic pound it up pump it up \n",
            " we gonna make it now lets dance \n",
            " right now right now \n",
            " its my shooting star \n",
            " my shooting star now everybody head like he\n",
            "\n",
            "\n"
          ]
        }
      ]
    },
    {
      "cell_type": "code",
      "source": [
        "# 훅만 반복되는 경우\n",
        "lyric_generator('발라드', 'I love you')"
      ],
      "metadata": {
        "colab": {
          "base_uri": "https://localhost:8080/"
        },
        "id": "XfsgfphUIfPq",
        "outputId": "ce7bee62-5a5f-4106-fed0-f65125f1735a"
      },
      "execution_count": null,
      "outputs": [
        {
          "output_type": "stream",
          "name": "stderr",
          "text": [
            "Setting `pad_token_id` to `eos_token_id`:3 for open-end generation.\n"
          ]
        },
        {
          "output_type": "stream",
          "name": "stdout",
          "text": [
            "tensor([[42000, 42003,  2049, 29808, 18641,     3]], device='cuda:0')\n",
            "0: i love you \n",
            " \n",
            " oh ah oh ah oh ah \n",
            " \n",
            " wanna be yourself in the battle crazy like space around yeah yeah \n",
            " \n",
            " 파도 치는 바다를 헤엄쳐 \n",
            " 그 속에 함께해 uh uh \n",
            " 파도치는 바다 위를 떠다닌 저 별들 중에 하나 \n",
            " \n",
            " i just hold my hand \n",
            " \n",
            " i just dont know \n",
            " \n",
            " i just see it \n",
            " \n",
            " i just love me to think about you \n",
            " \n",
            " we are all time getting party time \n",
            " \n",
            " 우리의 기쁨을 찾아주는 이 밤하늘에 달빛 \n",
            " \n",
            " i love you baby \n",
            " \n",
            " oh ah oh ah oh ah ah \n",
            " \n",
            " yeah yeah yeah yeah\n",
            "\n",
            "\n"
          ]
        }
      ]
    },
    {
      "cell_type": "code",
      "source": [
        "# 입력한 글은 안나오게 하기\n",
        "lyric_generator('댄스', '주말마다 강아지랑 산책해요<br> 강아지는 너무 귀엽고 뛰어다녀요')"
      ],
      "metadata": {
        "colab": {
          "base_uri": "https://localhost:8080/"
        },
        "id": "fIJ0T1vZ9f1O",
        "outputId": "4ebbc92b-d740-446b-d06b-b9aa1aa8f1b2"
      },
      "execution_count": null,
      "outputs": [
        {
          "output_type": "stream",
          "name": "stderr",
          "text": [
            "Setting `pad_token_id` to `eos_token_id`:3 for open-end generation.\n"
          ]
        },
        {
          "output_type": "stream",
          "name": "stdout",
          "text": [
            "tensor([[42000, 42004, 15263, 14304, 14971,  8202, 16780, 14088, 42005, 39847,\n",
            "         14000, 21752, 16357, 22481,  8055,     3]], device='cuda:0')\n",
            " \n",
            " 이제는 때가 됐죠 \n",
            " i love you love you love you baby \n",
            " love you love you love you baby \n",
            " love you love you love you baby \n",
            " 내 곁에서 더 높이 날아갈래요 \n",
            " 그대 이제 그만 좀 뛰놀까요 \n",
            " baby baby baby 내 맘에 들어와요 \n",
            " baby baby baby 날 안아줘요 \n",
            " 내 눈을 바라봐요 \n",
            " 내 손을 잡아요 내게 맡겨봐요 \n",
            " baby baby baby 내게 와요 \n",
            " baby baby baby 날 사랑해줘요 \n",
            " 언제나 함께 해요 \n",
            " i want your love \n",
            " i need your love \n",
            " i need your love \n",
            " i need your love \n",
            " 내 곁에선 더 높이 날아갈래요 \n",
            " 그대 이제 그만 좀 뛰놀까요 \n",
            " baby baby baby 내 맘에 들어와요 \n",
            " baby baby baby 날 안아줘요 \n",
            " 내 눈을 바라봐요 \n",
            " 내 손을 잡아요 내게 맡겨봐요 \n",
            " baby baby baby 내게 와요 \n",
            " baby baby baby 날 사랑해줘요 \n",
            " 언제나 함께 해요 \n",
            " 가끔은 혼자도 괜찮아 둘이어도 괜찮아 \n",
            " 난 괜찮으니까 날 안아줘요 \n",
            " 내 눈을 바라봐요 \n",
            " 내 손을 잡아요 내게 맡겨봐요 \n",
            " baby baby baby 내게 와요 \n",
            " baby baby baby 날 사랑해줘요 \n",
            " 언제나 함께 해요 \n",
            " baby baby baby 내게 와요 \n",
            " baby baby baby 날 안아줘요 \n",
            " 내 눈을 바라봐요 \n",
            " 내 손을 잡아요 내게 맡겨봐요 \n",
            " baby baby baby 내게 와요 \n",
            " baby baby baby 내 사랑 받아줄래요 \n",
            " 내 눈 속에 너를 담아 보낼게 \n",
            " love forev\n",
            "\n",
            "\n"
          ]
        }
      ]
    },
    {
      "cell_type": "code",
      "source": [
        "lyric_generator('댄스', '토요일 멘토링은 즐거워')"
      ],
      "metadata": {
        "colab": {
          "base_uri": "https://localhost:8080/"
        },
        "id": "5RSmGwYp-HCd",
        "outputId": "8ef1e4b4-8c31-4c31-cd39-e8ea6f6dc210"
      },
      "execution_count": null,
      "outputs": [
        {
          "output_type": "stream",
          "name": "stderr",
          "text": [
            "Setting `pad_token_id` to `eos_token_id`:3 for open-end generation.\n"
          ]
        },
        {
          "output_type": "stream",
          "name": "stdout",
          "text": [
            "tensor([[42000, 42004, 18751, 35709, 30048, 26576,     3]], device='cuda:0')\n",
            "0: 토요일 멘토링은 즐거워 \n",
            " 조금씩 너를 향해 가고 있어 이젠 모든 것을 뒤로한 채 널 향해 달려가고 있어 \n",
            " 어떤 어려운 것도 다 상관없어 그저 사랑하는 너의 손길만 \n",
            " 나를 위해 준비된 오직 단 한사람만을 위한 시간이란걸 느끼며 \n",
            " 자 시작해 볼까 내 자신을 돌아봐봐 너의 모든 사랑이 기다리는 곳에 다가서 봐 오 오 \n",
            " \n",
            " 우리 서로 멀리 있어도 좋아 떠나자 지금 자유로워 이 기분을 느껴봐 \n",
            " \n",
            " 이끌리는 대로 날개를 펴 세상을 날아가도 괜찮아 원하는 곳으로 \n",
            " 꿈을 찾아 떠나보는 거야 baby one two \n",
            " \n",
            " 시원한 바람결에 두 팔을 벌리고\n",
            "\n",
            "\n"
          ]
        }
      ]
    },
    {
      "cell_type": "code",
      "source": [
        "lyric_generator('댄스', '토요일 멘토링은 신나')"
      ],
      "metadata": {
        "colab": {
          "base_uri": "https://localhost:8080/"
        },
        "id": "0585BjT_ocVr",
        "outputId": "411fc01e-8038-4f0e-c0df-290a37137445"
      },
      "execution_count": null,
      "outputs": [
        {
          "output_type": "stream",
          "name": "stderr",
          "text": [
            "Setting `pad_token_id` to `eos_token_id`:3 for open-end generation.\n"
          ]
        },
        {
          "output_type": "stream",
          "name": "stdout",
          "text": [
            "tensor([[42000, 42004, 18751, 35709, 30048, 29863,     3]], device='cuda:0')\n",
            "0: 토요일 멘토링은 신나 \n",
            " \n",
            " \n",
            " \n",
            " hey hey hey lets go \n",
            " \n",
            " 파란 하늘 위엔 멋진 별이 떠 있어요 \n",
            " \n",
            " \n",
            " \n",
            " 우린 높이 날아갈 수 있어 우릴 따라와 줘 \n",
            " \n",
            " \n",
            " lets start this party \n",
            " \n",
            " 우리 모두 신나게 yeah we come on \n",
            " \n",
            " 이제 시작인데 lets bring it right now \n",
            " \n",
            " 소리쳐줘 크게 외쳐봐 \n",
            " \n",
            " \n",
            " \n",
            " 푸른하늘 위를 달려보자 시원한 바람 불어와 \n",
            " \n",
            " \n",
            " hey hey hey lets go \n",
            " \n",
            " 하얀 파도위에 떠오른 태양이 눈부셔 \n",
            " \n",
            " \n",
            " \n",
            " 저기 멀리 빛나는 저 별을 바라봐 \n",
            " \n",
            " \n",
            " \n",
            " 푸른 바다속에 뛰어들어 저 깊은 밤을 날아봐 \n",
            " \n",
            " \n",
            " \n",
            " \n",
            " lets start this party \n",
            " \n",
            " 우리 모두 신나게 yeah we come on \n",
            " \n",
            " 이제 시작인데 lets bring it right now \n",
            " \n",
            " 소리쳐줘 크게 외쳐봐 \n",
            " \n",
            " \n",
            " \n",
            " 푸른하늘 위를 달려보자 시원한 바람 불어와 \n",
            " \n",
            " \n",
            " \n",
            " hey hey hey lets go \n",
            " \n",
            " 하얀 파도위에 떠오른 태양이 눈부셔 \n",
            " \n",
            " \n",
            " \n",
            " 저기 멀리 빛나는 저 별을 바라봐 \n",
            " \n",
            " \n",
            " \n",
            " 푸른 바다속에 뛰어들어 저 깊은 밤을 날아봐 \n",
            " \n",
            " \n",
            " \n",
            " 소리쳐줘 크게 외쳐봐 \n",
            " \n",
            " \n",
            " 푸른 하늘 위를 달려보자 시원한 바람 불어와 \n",
            " \n",
            " \n",
            " \n",
            " 하나 둘 셋 lets go \n",
            " \n",
            " lets start this party \n",
            " \n",
            " 우리 모두 신나게 떠나볼래 \n",
            " \n",
            " \n",
            " \n",
            " 푸른 바다 위로 띄워줄래 \n",
            " \n",
            " \n",
            " \n",
            " our summer fever \n",
            " \n",
            " summer love together\n",
            "\n",
            "\n"
          ]
        }
      ]
    },
    {
      "cell_type": "code",
      "source": [
        "lyric_generator('댄스', '토요일 멘토링은 신나')"
      ],
      "metadata": {
        "colab": {
          "base_uri": "https://localhost:8080/"
        },
        "id": "r6n1UoVTv6vd",
        "outputId": "4e87e991-2121-40f6-deeb-58f675f113ba"
      },
      "execution_count": null,
      "outputs": [
        {
          "output_type": "stream",
          "name": "stderr",
          "text": [
            "Setting `pad_token_id` to `eos_token_id`:3 for open-end generation.\n"
          ]
        },
        {
          "output_type": "stream",
          "name": "stdout",
          "text": [
            "tensor([[42000, 42004, 18751, 35709, 30048, 29863,     3]], device='cuda:0')\n",
            "0: 토요일 멘토링은 신나 \n",
            " 오늘 밤엔 그대와 나만의 battle group star \n",
            " 그대와 단둘이 떠나요 둘이서 우리 단둘이 \n",
            " 푸른 바다 위에 fishbacka bikini \n",
            " 이 밤이 새도록 너와 함께 \n",
            " 뜨거운 태양아래 fishbacka bikini \n",
            " 내 맘을 모두 줄게 yeah \n",
            " i wanna love you boy ooh ooh ooh \n",
            " i wanna love you boy ooh ooh ooh \n",
            " you love me love me boy \n",
            " i love you boy love me boy \n",
            " heartbeat heartbeat boy \n",
            " heartbeat heartbeat boy \n",
            " 나를 한번 봐줘요 heartbeat heartbeat \n",
            " heartbeat heartbeat boy \n",
            " 내 심장은 두근두근 뛰죠 난 매일이 생일인데 \n",
            " 오늘만은 그대와 나뿐인 걸요 oh my lover \n",
            " 그대는 나의 shinee world \n",
            " 파란하늘 아래 sunshine \n",
            " 태양은 우릴 향해 비추고 \n",
            " 달빛은 우릴 향해 비춰 \n",
            " 우리 둘만 있는 그곳으로 oh my lover \n",
            " 우리의 별이 빛나는 이유는 \n",
            " 우리만의 love story \n",
            " 이 밤이 새도록 너와 함께 \n",
            " 뜨거운 태양아래 fishbacka bikini \n",
            " 이 밤이 새도록 너와 함께 \n",
            " 뜨거운 태양아래 fishbacka bikini \n",
            " 내 맘을 모두 줄게 yeah \n",
            " i wanna love you boy ooh ooh ooh \n",
            " i\n",
            "\n",
            "\n"
          ]
        }
      ]
    },
    {
      "cell_type": "code",
      "source": [
        "# gpt_2\n",
        "lyric_generator('댄스', '매일 강아지랑 산책해')"
      ],
      "metadata": {
        "colab": {
          "base_uri": "https://localhost:8080/"
        },
        "id": "2M-9D8sPFnD_",
        "outputId": "8736a62f-1eaf-48df-a27c-2866c9f2bd4f"
      },
      "execution_count": null,
      "outputs": [
        {
          "output_type": "stream",
          "name": "stderr",
          "text": [
            "Setting `pad_token_id` to `eos_token_id`:3 for open-end generation.\n"
          ]
        },
        {
          "output_type": "stream",
          "name": "stdout",
          "text": [
            "tensor([[42000, 42004, 14759, 14971,  8202, 16780,  8010,     3]],\n",
            "       device='cuda:0')\n",
            "0: 매일 강아지랑 산책해 \n",
            " ayo \n",
            " youre goin on and on and on and on \n",
            " we going going on and on and on \n",
            " hey baby \n",
            " 너 따위 버릴래 완전히 짜증나 미칠 것 같애 \n",
            " woo 난 너를 못 잊어 정말로 너무 미워 죽겠어 \n",
            " 내 맘은 왜 말을 안 듣는거니 왜 자꾸 넌 왜 계속 왜 \n",
            " 내 맘대로 할 수 없니 now let it go let it go let it go \n",
            " hey now baby now 가지마 ride ride ride yeah \n",
            " 내 앞에선 꼼짝 하지마 woo waha oh baby \n",
            " 너 따윈 버렸어 like a super star star star \n",
            " i got you boy woo waha i got you \n",
            " boy 넌 너 따윈 버렸어 like a super star star star \n",
            " 내 맘대로 할 수 없어 bye bye bye bye \n",
            " youre goin on and on and on and on \n",
            " gonna get a danger danger \n",
            " 네 가슴속에 깊은 상처는 더 깊어 가 \n",
            " woo 난 이제 너 따윈 지겨워졌어 정말 어떡하라고 \n",
            " 널 떠나버려 나 같은 건 필요 없어 woo waha oh baby \n",
            " 너 따윈 버렸어 like a super star star \n",
            " i got you boy waha i got you \n",
            " boy 넌 너 따윈 버렸어 like a super star star star \n",
            " 내 맘대로 할 수 없어 bye bye bye bye \n",
            " youre goin on and on and on and on \n",
            " gonna get a d\n",
            "\n",
            "\n"
          ]
        }
      ]
    },
    {
      "cell_type": "code",
      "source": [
        "lyric_generator('댄스', '너무 피곤해')"
      ],
      "metadata": {
        "colab": {
          "base_uri": "https://localhost:8080/",
          "height": 92
        },
        "id": "kyAGyDbaQV9G",
        "outputId": "8f48bc9b-faaf-4f58-a4db-0c6660d0fd20"
      },
      "execution_count": null,
      "outputs": [
        {
          "output_type": "stream",
          "name": "stderr",
          "text": [
            "Setting `pad_token_id` to `eos_token_id`:3 for open-end generation.\n"
          ]
        },
        {
          "output_type": "stream",
          "name": "stdout",
          "text": [
            "tensor([[42000, 42004, 14000, 18262,  8010,     3]], device='cuda:0')\n",
            "내가 포기\n"
          ]
        },
        {
          "output_type": "execute_result",
          "data": {
            "text/plain": [
              "'내가 포기'"
            ],
            "application/vnd.google.colaboratory.intrinsic+json": {
              "type": "string"
            }
          },
          "metadata": {},
          "execution_count": 92
        }
      ]
    },
    {
      "cell_type": "code",
      "source": [
        "lyric_generator('발라드', '너무 피곤해')"
      ],
      "metadata": {
        "colab": {
          "base_uri": "https://localhost:8080/",
          "height": 92
        },
        "id": "BmvDw7bqQXWb",
        "outputId": "40620f68-a5b1-4064-9139-471b320b462d"
      },
      "execution_count": null,
      "outputs": [
        {
          "output_type": "stream",
          "name": "stderr",
          "text": [
            "Setting `pad_token_id` to `eos_token_id`:3 for open-end generation.\n"
          ]
        },
        {
          "output_type": "stream",
          "name": "stdout",
          "text": [
            "tensor([[42000, 42003, 14000, 18262,  8010,     3]], device='cuda:0')\n",
            "\n"
          ]
        },
        {
          "output_type": "execute_result",
          "data": {
            "text/plain": [
              "''"
            ],
            "application/vnd.google.colaboratory.intrinsic+json": {
              "type": "string"
            }
          },
          "metadata": {},
          "execution_count": 91
        }
      ]
    },
    {
      "cell_type": "code",
      "source": [
        "lyric_generator('발라드', '너무 피곤해')"
      ],
      "metadata": {
        "colab": {
          "base_uri": "https://localhost:8080/",
          "height": 92
        },
        "id": "2Iqd1KPyRw0F",
        "outputId": "18b78911-129c-4bcc-921c-7399047cb803"
      },
      "execution_count": null,
      "outputs": [
        {
          "output_type": "stream",
          "name": "stderr",
          "text": [
            "Setting `pad_token_id` to `eos_token_id`:3 for open-end generation.\n"
          ]
        },
        {
          "output_type": "stream",
          "name": "stdout",
          "text": [
            "tensor([[42000, 42003, 14000, 18262,  8010,     3]], device='cuda:0')\n",
            "부디 행복해\n"
          ]
        },
        {
          "output_type": "execute_result",
          "data": {
            "text/plain": [
              "'부디 행복해'"
            ],
            "application/vnd.google.colaboratory.intrinsic+json": {
              "type": "string"
            }
          },
          "metadata": {},
          "execution_count": 85
        }
      ]
    },
    {
      "cell_type": "code",
      "source": [
        "if re.sub(r'[a-z\\n]','',a.split('<br>')[-1]).strip() == \"\" :\n",
        "  b = a.split('<br>')[:-1]\n",
        "  c = \"\"\n",
        "  for i in b:\n",
        "    if i == ' ':\n",
        "      i = re.sub(r\" \", \"\\n \\n\", i)\n",
        "    c += i\n",
        "    c = re.sub(r\"  \", \"\\n\", c)\n",
        "print(c)"
      ],
      "metadata": {
        "colab": {
          "base_uri": "https://localhost:8080/"
        },
        "id": "O-RhTRzWSd-E",
        "outputId": "6078ecc2-64ac-4d15-d1f0-8953551b731f"
      },
      "execution_count": null,
      "outputs": [
        {
          "output_type": "stream",
          "name": "stdout",
          "text": [
            "0: 매일 강아지랑 산책해 \n",
            " \n",
            " lets go start lets go start lets go start start\n",
            "lets go start lets go start start start\n",
            "hey we are the maestro\n",
            "yeah i like it like that \n",
            " \n",
            " we are the maestro\n",
            "yeah i like it like that ah\n",
            "ohohohoh uh uh uh uh huh ahh uh huh uh uh huh ah huh \n",
            " \n",
            " we are the maestro\n",
            "yeah i like it like that ah\n",
            "ohohohoh uh uh uh huh ah huh ah\n",
            "uh huh huh uh huh ah ah huh ah huh \n",
            " \n",
            " 항상 함께 했었잖아 정말 사랑했었어\n",
            "우리 둘만의 세상에서 행복하게만 지내자고 말했었잖아\n",
            "그렇게 쉽게 떠나갈 거면서\n",
            "그 많은 시간 동안 나는 많이도 다투고 들게 상처 받아 받았어\n",
            "이제는 그만해 다신 울지 않을래 너와 나 함께라면 \n",
            " \n",
            " we are the maestro\n",
            "yeah i like it like that\n",
            "ohohohoh uh uh uh huh ahh uh huh ah huh \n",
            " \n",
            " we are the maestro\n",
            "yeah i like it like that ah \n"
          ]
        }
      ]
    },
    {
      "cell_type": "code",
      "source": [
        "re.sub(r'[a-z\\n]','',a.split('<br>')[-1]).strip()"
      ],
      "metadata": {
        "colab": {
          "base_uri": "https://localhost:8080/",
          "height": 36
        },
        "id": "ECozcVBrhgpf",
        "outputId": "4d56e6b2-b259-41dd-96f4-e807034c34d2"
      },
      "execution_count": null,
      "outputs": [
        {
          "output_type": "execute_result",
          "data": {
            "text/plain": [
              "''"
            ],
            "application/vnd.google.colaboratory.intrinsic+json": {
              "type": "string"
            }
          },
          "metadata": {},
          "execution_count": 114
        }
      ]
    },
    {
      "cell_type": "code",
      "source": [
        "a.find('<br>')"
      ],
      "metadata": {
        "colab": {
          "base_uri": "https://localhost:8080/"
        },
        "id": "0kPNk6dOi1E7",
        "outputId": "3211e408-5044-4813-a97a-fc4f3e758c3a"
      },
      "execution_count": null,
      "outputs": [
        {
          "output_type": "execute_result",
          "data": {
            "text/plain": [
              "15"
            ]
          },
          "metadata": {},
          "execution_count": 122
        }
      ]
    },
    {
      "cell_type": "code",
      "source": [
        "b = a.split('<br>')[:-1]\n",
        "b"
      ],
      "metadata": {
        "colab": {
          "base_uri": "https://localhost:8080/"
        },
        "id": "2kSabMM-d4D_",
        "outputId": "358debf1-3537-4449-ff72-2a6bd0905b44"
      },
      "execution_count": null,
      "outputs": [
        {
          "output_type": "execute_result",
          "data": {
            "text/plain": [
              "['0: 매일 강아지랑 산책해 ',\n",
              " ' ',\n",
              " ' lets go start lets go start lets go start start ',\n",
              " ' lets go start lets go start start start ',\n",
              " ' hey we are the maestro ',\n",
              " ' yeah i like it like that ',\n",
              " ' ',\n",
              " ' we are the maestro ',\n",
              " ' yeah i like it like that ah ',\n",
              " ' ohohohoh uh uh uh uh huh ahh uh huh uh uh huh ah huh ',\n",
              " ' ',\n",
              " ' we are the maestro ',\n",
              " ' yeah i like it like that ah ',\n",
              " ' ohohohoh uh uh uh huh ah huh ah ',\n",
              " ' uh huh huh uh huh ah ah huh ah huh ',\n",
              " ' ',\n",
              " ' 항상 함께 했었잖아 정말 사랑했었어 ',\n",
              " ' 우리 둘만의 세상에서 행복하게만 지내자고 말했었잖아 ',\n",
              " ' 그렇게 쉽게 떠나갈 거면서 ',\n",
              " ' 그 많은 시간 동안 나는 많이도 다투고 들게 상처 받아 받았어 ',\n",
              " ' 이제는 그만해 다신 울지 않을래 너와 나 함께라면 ',\n",
              " ' ',\n",
              " ' we are the maestro ',\n",
              " ' yeah i like it like that ',\n",
              " ' ohohohoh uh uh uh huh ahh uh huh ah huh ',\n",
              " ' ',\n",
              " ' we are the maestro ',\n",
              " ' yeah i like it like that ah ']"
            ]
          },
          "metadata": {},
          "execution_count": 115
        }
      ]
    },
    {
      "cell_type": "code",
      "source": [
        "c = \"\"\n",
        "for i in b:\n",
        "  if i == \" \":\n",
        "    i = re.sub(r\" c\", \"\\n\", i)\n",
        "  c += i\n",
        "  c = re.sub(r\"  \", \"\\n\", c)\n",
        "print(c)"
      ],
      "metadata": {
        "colab": {
          "base_uri": "https://localhost:8080/"
        },
        "id": "9iOnY2BZiE5p",
        "outputId": "3301d550-da22-428d-f841-8a631a274af3"
      },
      "execution_count": null,
      "outputs": [
        {
          "output_type": "stream",
          "name": "stdout",
          "text": [
            "0: 매일 강아지랑 산책해 \n",
            " lets go start lets go start lets go start start\n",
            "lets go start lets go start start start\n",
            "hey we are the maestro\n",
            "yeah i like it like that \n",
            " we are the maestro\n",
            "yeah i like it like that ah\n",
            "ohohohoh uh uh uh uh huh ahh uh huh uh uh huh ah huh \n",
            " we are the maestro\n",
            "yeah i like it like that ah\n",
            "ohohohoh uh uh uh huh ah huh ah\n",
            "uh huh huh uh huh ah ah huh ah huh \n",
            " 항상 함께 했었잖아 정말 사랑했었어\n",
            "우리 둘만의 세상에서 행복하게만 지내자고 말했었잖아\n",
            "그렇게 쉽게 떠나갈 거면서\n",
            "그 많은 시간 동안 나는 많이도 다투고 들게 상처 받아 받았어\n",
            "이제는 그만해 다신 울지 않을래 너와 나 함께라면 \n",
            " we are the maestro\n",
            "yeah i like it like that\n",
            "ohohohoh uh uh uh huh ahh uh huh ah huh \n",
            " we are the maestro\n",
            "yeah i like it like that ah \n"
          ]
        }
      ]
    },
    {
      "cell_type": "code",
      "source": [
        "remove_lastline(lyric_generator('댄스', '매일 강아지랑 산책해'))"
      ],
      "metadata": {
        "colab": {
          "base_uri": "https://localhost:8080/"
        },
        "id": "nmEXjRSsiWLB",
        "outputId": "f9074a46-30ab-47d8-df62-75387b2ca641"
      },
      "execution_count": null,
      "outputs": [
        {
          "output_type": "stream",
          "name": "stderr",
          "text": [
            "Setting `pad_token_id` to `eos_token_id`:3 for open-end generation.\n"
          ]
        },
        {
          "output_type": "stream",
          "name": "stdout",
          "text": [
            "tensor([[42000, 42004, 14759, 14971,  8202, 16780,  8010,     3]],\n",
            "       device='cuda:0')\n",
            "True\n",
            "False\n",
            "0: 매일 강아지랑 산책해 \n",
            " 게임 초대는 안 해줘도 좋아 \n",
            " 하루 종일 니 생각을 할 텐데 \n",
            " 하루 종일 니 생각만 할 텐데 \n",
            " 이런 게 바로 보나 마나 보나마나 보나마나 born to my world \n",
            " when i fall in love with you \n",
            " 내가 너에게 다가가도 \n",
            " 아무 말하지 않을게 \n",
            " 그저 바라보는 것도 바라지도 않을게 \n",
            " its just for you \n",
            " 내가 너를 처음 봤을 때 \n",
            " 네 생각 그대로 다 똑같았었는데 \n",
            " when i fall in love with you \n",
            " 조금 더 가까워지면 괜찮을 것 같아 \n",
            " 매일매일 밤 널 보고 싶어 \n",
            " 매일 너를 생각해 언제나 너의 곁에서 \n",
            " 널 따라다닌 시간들을 생각하면 눈물이 나 \n",
            " 내가 만약 이렇게 \n",
            " 라면 정말 사랑할 수 있을까 \n",
            " love love love oh babe \n",
            " love love love oh babe \n",
            " 매일 사랑해 이 노랠 들으며 함께해 \n",
            " love love love love oh babe \n",
            " love love love love oh babe \n",
            " 하루 종일 니 생각을 할 텐데 \n",
            " 하루 종일 니 생각만 할 텐데 \n",
            " 이런 게 바로 보나 마나 보나마나 보나마나 born to my world \n",
            " when i fall in love with you \n",
            " 내가 너에게 다가가도 아무 말하지 않을게 \n",
            " 그저 바라보는 것도 바라지도 않을게 \n",
            " its just for you \n",
            " 내가 너를 처음 봤을 때 \n",
            " 네 생각 그대로 다 똑같았었는데 \n",
            " when i fall in love with you \n",
            " 조금 더 가까워지면 괜찮을 것 같아 \n",
            " 매일매일 밤 널 보고 싶어 \n",
            " 매일 너를 생각해 언제나 너의 곁에서 \n",
            " 널 따라다닌 시간들을 생각하면 눈물이 나 \n",
            " 내가 만약 이렇게 \n",
            " 라면 정말 사랑할 수 있을까 \n",
            " love love love oh babe \n"
          ]
        }
      ]
    },
    {
      "cell_type": "code",
      "source": [
        "a = lyric_generator('댄스', '매일 강아지랑 산책해')\n",
        "a"
      ],
      "metadata": {
        "colab": {
          "base_uri": "https://localhost:8080/",
          "height": 223
        },
        "id": "yVDs8apfQRPV",
        "outputId": "319c58d1-7c36-4522-b3ae-e9f31133f41f"
      },
      "execution_count": null,
      "outputs": [
        {
          "output_type": "stream",
          "name": "stderr",
          "text": [
            "Setting `pad_token_id` to `eos_token_id`:3 for open-end generation.\n"
          ]
        },
        {
          "output_type": "stream",
          "name": "stdout",
          "text": [
            "tensor([[42000, 42004, 14759, 14971,  8202, 16780,  8010,     3]],\n",
            "       device='cuda:0')\n"
          ]
        },
        {
          "output_type": "execute_result",
          "data": {
            "text/plain": [
              "'0: 매일 강아지랑 산책해 <br> 어려운 얘기 일단 좀 해 둬 볼까 <br> 너한테만 물어봐 <br> 나 지금 몇 달째인지 <br> 우리 엄마 말고 다른 아빠한테 물었어 <br> 아빠도 몰라 그냥 궁금해 <br> 날 좋아하긴 하는 건지 뭔지 <br> 나도 알 수 없지만 난 좋아 <br> 자꾸 나를 귀찮게 만들어 자꾸 너를 <br> 내 곁에만 있게 해 줘 love you girl love you love you <br> love you girl 날 지켜줘 <br> i want you only you girl <br> love you girl love you love you <br> love you girl 날 지켜줘 <br> i want you only you girl <br> love you girl love you love you <br> love you girl <br> 내가 너를 지켜 줄 테니 <br> i gotta have a daddy heart <br> 이젠 나도 너를 지켜 <br> 널 안아줄 거야 oh yeah <br> 내가 좀 더 다가갈게 <br> love you girl love you love you <br> love you girl 날 지켜줘 <br> i want you only you girl <br> love you girl love you love you <br> love you girl 날 지켜줘 <br> i want you only you girl <br> love you girl love you love you <br> love you girl <br> 지금 나는 어디쯤 있는 걸까 <br> 점점 너에게로 가고 있어 <br> 사랑한다고 말해주지만 <br> 내게만 집중해 what you know <br> 왜 넌 나를 헷갈리게 해 계속 나를 <br> 귀찮게 만들어 자꾸 너를 <br> 내게만 있게 해 줘 love you girl <br> love you girl 날 지켜줘 <br> i want you only you gir\\n\\n'"
            ],
            "application/vnd.google.colaboratory.intrinsic+json": {
              "type": "string"
            }
          },
          "metadata": {},
          "execution_count": 69
        }
      ]
    },
    {
      "cell_type": "code",
      "source": [
        "print(a.replace('<br>','\\n'))"
      ],
      "metadata": {
        "colab": {
          "base_uri": "https://localhost:8080/"
        },
        "id": "qNwK1WVQRuAJ",
        "outputId": "56811151-7e29-4c2a-9fe0-7516f1c6198a"
      },
      "execution_count": null,
      "outputs": [
        {
          "output_type": "stream",
          "name": "stdout",
          "text": [
            "0: 매일 강아지랑 산책해 \n",
            " 항상 지켜왔던 우리들의 소중한 만남이 \n",
            " 이젠 조금씩 하나 둘 자리 잡았어 \n",
            " 항상 외롭기만 했던 나를 위해서 \n",
            " 넌 항상 밝은 모습만을 보였지 \n",
            " 나의 곁에 있으면 함께 있는 것처럼 \n",
            " 그 눈빛을 보면 나는 너를 알아봤어 \n",
            " 언제나 너와 함께 있을거라던 나의 믿음은 \n",
            " 나의 마음 속에 영원히 남았는걸 \n",
            " oh baby youre my love \n",
            " 이제 난 더 이상 혼자가 아니야 \n",
            " oh baby youre my love \n",
            " 너의 모든 걸 사랑꺼야 언제나 이대로 내 안에 \n",
            " 너를 영원히 간직해 \n",
            " my love my life \n",
            " 서로 사랑하는걸 잊진 말아줘 \n",
            " love my life \n",
            " 너 하나만 바라보고 널 사랑해 \n",
            " my love my life \n",
            " 영원히 너를 위해 아껴줄께 \n",
            " love my life \n",
            " love my life \n",
            " 언제나 내가 먼저 다가가 지켜 줄 꺼야 \n",
            " 오직 내 사랑은 언제까지나 \n",
            " 나만의 너를 위해 언제까지 아껴줄께 \n",
            " oh baby youre my love \n",
            " 이제 난 더 이상 혼자가 아니야 \n",
            " oh baby youre my love \n",
            " 너의 모든 걸 사랑꺼야 언제나 이대로 내 안에 \n",
            " 너를 영원히 간직해 \n",
            " my love my life \n",
            " 서로 사랑하는걸 잊진 말아줘 \n",
            " love my life \n",
            " 너 하나만 바라보고 널 사랑해 \n",
            " my love my life \n",
            " 영원히 너를 위해 아껴줄게 \n",
            " my love my life \n",
            " 이제는 너를 향한 내 마음 모두다 \n",
            " 사랑하기 때문에 영원히 사랑해 \n",
            " 너의 모든 걸 사랑꺼야 언제나 이대로 내 안에 \n",
            " 너를 영원히 간직해 \n",
            " my love my life \n",
            " 서로 사랑하는걸 잊진 말아줘 \n",
            " love my life \n",
            " 너 하나만 바라보고 널 사랑해 \n",
            " my love my life \n",
            " 영원히 너를 위해 아껴줄께 \n",
            " love my life \n",
            " love my life \n",
            " 너 하나만 바라보고 널\n",
            "\n",
            "\n"
          ]
        }
      ]
    },
    {
      "cell_type": "code",
      "source": [
        "def precessing(a):\n",
        "  # 마지막 줄에 영어만 있다면,\n",
        "  if re.sub(r'[a-z\\n]','',a.split('<br>')[-1]).strip() == \"\" :\n",
        "    b = a.split('<br>')[:-1]\n",
        "    c = \"\"\n",
        "    for i in b:\n",
        "      if i == ' ':\n",
        "        i = re.sub(r\" \", \"\\n \\n\", i)\n",
        "      c += i\n",
        "      c = re.sub(r\"  \", \"\\n\", c)\n",
        "      output = c\n",
        "  else:\n",
        "    output = a.replace('<br>','\\n')\n",
        "  \n",
        "  count = []\n",
        "  count2 = []\n",
        "  for word in output:\n",
        "    if re.sub(r'[a-z]','',word) == \"\":\n",
        "      count += word\n",
        "    elif word == \" \":\n",
        "      count2 += word\n",
        "  if len(count)/(len(output)-len(count2)) > 0.6:\n",
        "    output = \"버튼을 다시 눌러주세요.\"\n",
        "  print(output)\n",
        "  return \n",
        "precessing(a)"
      ],
      "metadata": {
        "id": "7IdVfRhW2Vhm",
        "colab": {
          "base_uri": "https://localhost:8080/"
        },
        "outputId": "99529a76-e956-4b8e-f304-b43772005f44"
      },
      "execution_count": null,
      "outputs": [
        {
          "output_type": "stream",
          "name": "stdout",
          "text": [
            "0: 매일 강아지랑 산책해\n",
            "어려운 얘기 일단 좀 해 둬 볼까\n",
            "너한테만 물어봐\n",
            "나 지금 몇 달째인지\n",
            "우리 엄마 말고 다른 아빠한테 물었어\n",
            "아빠도 몰라 그냥 궁금해\n",
            "날 좋아하긴 하는 건지 뭔지\n",
            "나도 알 수 없지만 난 좋아\n",
            "자꾸 나를 귀찮게 만들어 자꾸 너를\n",
            "내 곁에만 있게 해 줘 love you girl love you love you\n",
            "love you girl 날 지켜줘\n",
            "i want you only you girl\n",
            "love you girl love you love you\n",
            "love you girl 날 지켜줘\n",
            "i want you only you girl\n",
            "love you girl love you love you\n",
            "love you girl\n",
            "내가 너를 지켜 줄 테니\n",
            "i gotta have a daddy heart\n",
            "이젠 나도 너를 지켜\n",
            "널 안아줄 거야 oh yeah\n",
            "내가 좀 더 다가갈게\n",
            "love you girl love you love you\n",
            "love you girl 날 지켜줘\n",
            "i want you only you girl\n",
            "love you girl love you love you\n",
            "love you girl 날 지켜줘\n",
            "i want you only you girl\n",
            "love you girl love you love you\n",
            "love you girl\n",
            "지금 나는 어디쯤 있는 걸까\n",
            "점점 너에게로 가고 있어\n",
            "사랑한다고 말해주지만\n",
            "내게만 집중해 what you know\n",
            "왜 넌 나를 헷갈리게 해 계속 나를\n",
            "귀찮게 만들어 자꾸 너를\n",
            "내게만 있게 해 줘 love you girl\n",
            "love you girl 날 지켜줘 \n"
          ]
        }
      ]
    },
    {
      "cell_type": "code",
      "source": [
        "precessing(lyric_generator('댄스', '매일 강아지랑 산책해'))"
      ],
      "metadata": {
        "colab": {
          "base_uri": "https://localhost:8080/"
        },
        "id": "p8isuw3TQiOn",
        "outputId": "5ae3bb90-68ce-480a-8e24-22a07c821517"
      },
      "execution_count": null,
      "outputs": [
        {
          "output_type": "stream",
          "name": "stderr",
          "text": [
            "Setting `pad_token_id` to `eos_token_id`:3 for open-end generation.\n"
          ]
        },
        {
          "output_type": "stream",
          "name": "stdout",
          "text": [
            "tensor([[42000, 42004, 14759, 14971,  8202, 16780,  8010,     3]],\n",
            "       device='cuda:0')\n",
            "0: 매일 강아지랑 산책해\n",
            "hey hey hey hey hey hey\n",
            "우리 모두 응원해요\n",
            "우리 모두 응원해요\n",
            "함께해요 lets go now\n",
            "자 우리 모두 모여봐요\n",
            "내 손을 잡고 한번 뛰어봐\n",
            "우리 앞에 있는 모든 것들을 이뤄줄게\n",
            "하나 되는 그 날까지 oh oh oh oh\n",
            "푸른 하늘처럼 맑은 눈빛으로\n",
            "푸른 파도처럼 밀려와\n",
            "우리 앞에 있는 모든 것을 이뤄줄게\n",
            "푸른 바다처럼 맑은 눈빛으로\n",
            "푸른 물결처럼 밀려와\n",
            "우리 앞에 있는 모든 것을 이뤄줄게\n",
            "hey hey hey hey hey\n",
            "우리 모두 응원해요\n",
            "우리 모두 응원해요\n",
            "함께해요 lets go now\n",
            "자 우리 모두 모여봐요\n",
            "내 손을 잡고 한번 뛰어봐\n",
            "우리 앞에 있는 모든 것들을 이뤄줄게\n",
            "하나 되는 그 날까지 oh oh oh oh\n",
            "푸른 하늘처럼 맑은 눈빛으로\n",
            "푸른 파도처럼 밀려와\n",
            "우리 앞에 있는 모든 것을 이뤄줄게\n",
            "푸른 바다처럼 맑은 눈빛으로\n",
            "푸른 물결처럼 밀려와\n",
            "우리 앞에 있는 모든 것을 이뤄줄게\n",
            "hey hey hey hey\n",
            "lets go now here we go yeah \n"
          ]
        }
      ]
    },
    {
      "cell_type": "code",
      "source": [
        "count = []\n",
        "count2 = []\n",
        "for word in output:\n",
        "  if re.sub(r'[a-z]','',word) == \"\":\n",
        "    count += word\n",
        "  elif word == \" \":\n",
        "    count2 += word\n",
        "if len(count)/(len(output)-len(count2)) > 0.5:\n",
        "  print(\"버튼을 다시 눌러주세요.\")"
      ],
      "metadata": {
        "colab": {
          "base_uri": "https://localhost:8080/"
        },
        "id": "XOA1EfOrU7gs",
        "outputId": "5b4d14cb-46f6-4c6d-84cd-de3313d7c4d2"
      },
      "execution_count": null,
      "outputs": [
        {
          "output_type": "stream",
          "name": "stdout",
          "text": [
            "버튼을 다시 눌러주세요.\n"
          ]
        }
      ]
    },
    {
      "cell_type": "code",
      "source": [
        "output[17]"
      ],
      "metadata": {
        "colab": {
          "base_uri": "https://localhost:8080/",
          "height": 36
        },
        "id": "8rGPu8cCadfY",
        "outputId": "2f03d119-874b-4a31-a0a4-3a74e772937f"
      },
      "execution_count": null,
      "outputs": [
        {
          "output_type": "execute_result",
          "data": {
            "text/plain": [
              "'o'"
            ],
            "application/vnd.google.colaboratory.intrinsic+json": {
              "type": "string"
            }
          },
          "metadata": {},
          "execution_count": 98
        }
      ]
    },
    {
      "cell_type": "code",
      "source": [
        "len(count), len(output)-len(count2)"
      ],
      "metadata": {
        "colab": {
          "base_uri": "https://localhost:8080/"
        },
        "id": "pbmyrU8Wad30",
        "outputId": "cf28e6a8-c074-47bf-f5eb-3f8d525a81a2"
      },
      "execution_count": null,
      "outputs": [
        {
          "output_type": "execute_result",
          "data": {
            "text/plain": [
              "(245, 525)"
            ]
          },
          "metadata": {},
          "execution_count": 107
        }
      ]
    },
    {
      "cell_type": "code",
      "source": [
        ""
      ],
      "metadata": {
        "id": "kqcVBDCEkSv8"
      },
      "execution_count": null,
      "outputs": []
    }
  ]
}