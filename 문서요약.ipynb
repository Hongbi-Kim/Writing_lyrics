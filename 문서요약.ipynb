{
 "cells": [
  {
   "cell_type": "code",
   "execution_count": 4,
   "id": "7ca76d2e",
   "metadata": {},
   "outputs": [
    {
     "ename": "NameError",
     "evalue": "name 'json' is not defined",
     "output_type": "error",
     "traceback": [
      "\u001b[1;31m---------------------------------------------------------------------------\u001b[0m",
      "\u001b[1;31mNameError\u001b[0m                                 Traceback (most recent call last)",
      "\u001b[1;32m<ipython-input-4-a4338345e91b>\u001b[0m in \u001b[0;36m<module>\u001b[1;34m\u001b[0m\n\u001b[0;32m      7\u001b[0m        옛날 얘기지요? 운전하면서 가끔 듣기는 했지만 오늘 한승윤님이 나온다고 해서 너무 반갑게 mbc 가입도 하게 되었네요. 어릴때 더블루(손지창)을 좋아한 이후 이렇게 좋아서 찾아 듣는 건 처음이네요. 오늘 쉬는 날이어서 이렇게 편하게 승윤님 라이브 들을수 있게 됐네요. 오랜만의 휴일인 듯 합니다. 40세가 넘어서 연예인을 이렇게 응원하고 좋아할 줄은 몰랐네요.승윤님의  너에게로 또 다시 노래를 듣고 반해서 팬이 되었지요.콘서트도 가고 진짜 가까이서 듣고 보았던 마곡사 산사음악회까지 너무 기억에 남아요.. 친정이 공주여서 김장하다가 보러 간 생각이 납니다. 얼마전 쇼케이스까지 너무 즐거운 날이였네요... 요즘 저의 삶의 활력소가 되었어요.저희 아이들은 엄마가 연예인 좋아하는 게 신기하대요.. 아이들보다 제가 더 빠져 있으니깐요. 승윤님 앨범 좋은 성과 있길 바라고요.. 늘 응원하는 팬이 되겠습니다.. 라이브 감사히 들을게요. 두시의 데이트 화이팅\", 'option':option}\n\u001b[0;32m      8\u001b[0m \u001b[1;33m\u001b[0m\u001b[0m\n\u001b[1;32m----> 9\u001b[1;33m \u001b[0mpayload\u001b[0m \u001b[1;33m=\u001b[0m \u001b[0mjson\u001b[0m\u001b[1;33m.\u001b[0m\u001b[0mdumps\u001b[0m\u001b[1;33m(\u001b[0m\u001b[0mmsg\u001b[0m\u001b[1;33m)\u001b[0m\u001b[1;33m\u001b[0m\u001b[1;33m\u001b[0m\u001b[0m\n\u001b[0m\u001b[0;32m     10\u001b[0m \u001b[1;33m\u001b[0m\u001b[0m\n\u001b[0;32m     11\u001b[0m \u001b[1;33m\u001b[0m\u001b[0m\n",
      "\u001b[1;31mNameError\u001b[0m: name 'json' is not defined"
     ]
    }
   ],
   "source": [
    "option =  {\"language\": \"ko\", \n",
    "           \"model\": \"general\",\n",
    "           \"tone\": 2,\n",
    "           \"summaryCount\": 3}\n",
    "\n",
    "msg = {'document':\"2시의 데이트 어릴 적에 많이 듣고 김기덕의 2시의 데이트가 생각나네요.\\\n",
    "       옛날 얘기지요? 운전하면서 가끔 듣기는 했지만 오늘 한승윤님이 나온다고 해서 너무 반갑게 mbc 가입도 하게 되었네요. 어릴때 더블루(손지창)을 좋아한 이후 이렇게 좋아서 찾아 듣는 건 처음이네요. 오늘 쉬는 날이어서 이렇게 편하게 승윤님 라이브 들을수 있게 됐네요. 오랜만의 휴일인 듯 합니다. 40세가 넘어서 연예인을 이렇게 응원하고 좋아할 줄은 몰랐네요.승윤님의  너에게로 또 다시 노래를 듣고 반해서 팬이 되었지요.콘서트도 가고 진짜 가까이서 듣고 보았던 마곡사 산사음악회까지 너무 기억에 남아요.. 친정이 공주여서 김장하다가 보러 간 생각이 납니다. 얼마전 쇼케이스까지 너무 즐거운 날이였네요... 요즘 저의 삶의 활력소가 되었어요.저희 아이들은 엄마가 연예인 좋아하는 게 신기하대요.. 아이들보다 제가 더 빠져 있으니깐요. 승윤님 앨범 좋은 성과 있길 바라고요.. 늘 응원하는 팬이 되겠습니다.. 라이브 감사히 들을게요. 두시의 데이트 화이팅\", 'option':option}\n",
    "\n",
    "payload = json.dumps(msg)\n",
    "\n",
    "\n",
    "headers = {\n",
    "  'X-NCP-APIGW-API-KEY-ID': 'qj40wl5n0t',\n",
    "  'X-NCP-APIGW-API-KEY': '1xzXEYgwlsbv9RQxd1onUSByiyvtBDPFV9NEY1mv',\n",
    "  'Content-Type': 'application/json'\n",
    "}\n",
    "\n",
    "response = requests.request(\"POST\", url, headers=headers, data=payload)\n",
    "\n",
    "print(response.text)\n"
   ]
  },
  {
   "cell_type": "code",
   "execution_count": 5,
   "id": "59d75f9f",
   "metadata": {},
   "outputs": [
    {
     "name": "stdout",
     "output_type": "stream",
     "text": [
      "{\"summary\":\"2시의 데이트 어릴 적에 많이 듣고 김기덕의 2시의 데이트가 생각납니다.\\n오늘 쉬는 날이어서 이렇게 편하게 승윤님 라이브 들을수 있게 됐습니다.\\n승윤님의 너에게로 또 다시 노래를 듣고 반해서 팬이 됐습니다.\"}\n"
     ]
    }
   ],
   "source": [
    "import requests\n",
    "import json\n",
    "\n",
    "url = \"https://naveropenapi.apigw.ntruss.com/text-summary/v1/summarize\"\n",
    "\n",
    "document = {\"title\": \"'하루 2000억' 판 커지는 간편송금 시장\",\n",
    "            \"content\": \"2시의 데이트 어릴 적에 많이 듣고 김기덕의 2시의 데이트가 생각나네요. 옛날 얘기지요? 운전하면서 가끔 듣기는 했지만 오늘 한승윤님이 나온다고 해서 너무 반갑게 mbc 가입도 하게 되었네요. 어릴때 더블루(손지창)을 좋아한 이후 이렇게 좋아서 찾아 듣는 건 처음이네요. 오늘 쉬는 날이어서 이렇게 편하게 승윤님 라이브 들을수 있게 됐네요. 오랜만의 휴일인 듯 합니다. 40세가 넘어서 연예인을 이렇게 응원하고 좋아할 줄은 몰랐네요.\\\n",
    "승윤님의  너에게로 또 다시 노래를 듣고 반해서 팬이 되었지요.\\\n",
    "콘서트도 가고 진짜 가까이서 듣고 보았던 마곡사 산사음악회까지 너무 기억에 남아요.. 친정이 공주여서 김장하다가 보러 간 생각이 납니다. 얼마전 쇼케이스까지 너무 즐거운 날이였네요... 요즘 저의 삶의 활력소가 되었어요.\\\n",
    "저희 아이들은 엄마가 연예인 좋아하는 게 신기하대요.. 아이들보다 제가 더\\\n",
    "빠져 있으니깐요. 승윤님 앨범 좋은 성과 있길 바라고요.. 늘 응원하는 팬이 되겠습니다.. 라이브 감사히 들을게요. 두시의 데이트 화이팅\"}\n",
    "\n",
    "option =  {\"language\": \"ko\", \n",
    "           \"model\": \"general\",\n",
    "           \"tone\": 2,\n",
    "           \"summaryCount\": 3}\n",
    "\n",
    "msg = {'document':document, 'option':option}\n",
    "\n",
    "payload = json.dumps(msg)\n",
    "\n",
    "\n",
    "headers = {\n",
    "  'X-NCP-APIGW-API-KEY-ID': 'qj40wl5n0t',\n",
    "  'X-NCP-APIGW-API-KEY': '1xzXEYgwlsbv9RQxd1onUSByiyvtBDPFV9NEY1mv',\n",
    "  'Content-Type': 'application/json'\n",
    "}\n",
    "\n",
    "response = requests.request(\"POST\", url, headers=headers, data=payload)\n",
    "\n",
    "print(response.text)\n"
   ]
  },
  {
   "cell_type": "code",
   "execution_count": null,
   "id": "887a6d76",
   "metadata": {},
   "outputs": [],
   "source": []
  }
 ],
 "metadata": {
  "kernelspec": {
   "display_name": "Python 3",
   "language": "python",
   "name": "python3"
  },
  "language_info": {
   "codemirror_mode": {
    "name": "ipython",
    "version": 3
   },
   "file_extension": ".py",
   "mimetype": "text/x-python",
   "name": "python",
   "nbconvert_exporter": "python",
   "pygments_lexer": "ipython3",
   "version": "3.8.8"
  }
 },
 "nbformat": 4,
 "nbformat_minor": 5
}
