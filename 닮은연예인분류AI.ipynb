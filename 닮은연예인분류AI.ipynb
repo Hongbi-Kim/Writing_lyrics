{
  "nbformat": 4,
  "nbformat_minor": 0,
  "metadata": {
    "colab": {
      "name": "닮은연예인분류AI.ipynb",
      "provenance": [],
      "authorship_tag": "ABX9TyMgoAB1WUabf/t7GYjEsgOd",
      "include_colab_link": true
    },
    "kernelspec": {
      "name": "python3",
      "display_name": "Python 3"
    },
    "language_info": {
      "name": "python"
    }
  },
  "cells": [
    {
      "cell_type": "markdown",
      "metadata": {
        "id": "view-in-github",
        "colab_type": "text"
      },
      "source": [
        "<a href=\"https://colab.research.google.com/github/Hongbi-Kim/Writing_lyrics/blob/master/%EB%8B%AE%EC%9D%80%EC%97%B0%EC%98%88%EC%9D%B8%EB%B6%84%EB%A5%98AI.ipynb\" target=\"_parent\"><img src=\"https://colab.research.google.com/assets/colab-badge.svg\" alt=\"Open In Colab\"/></a>"
      ]
    },
    {
      "cell_type": "code",
      "execution_count": 2,
      "metadata": {
        "colab": {
          "base_uri": "https://localhost:8080/"
        },
        "id": "xHNsQbxno2v9",
        "outputId": "292a7b0d-b35c-454a-860f-8b2fa1287aae"
      },
      "outputs": [
        {
          "output_type": "stream",
          "name": "stdout",
          "text": [
            "{\"info\":{\"size\":{\"width\":354,\"height\":472},\"faceCount\":1},\"faces\":[{\"celebrity\":{\"value\":\"손예진\",\"confidence\":0.394052}}]}\n"
          ]
        }
      ],
      "source": [
        "import os\n",
        "import sys\n",
        "import requests\n",
        "\n",
        "\n",
        "client_id = \"qj40wl5n0t\"\n",
        "client_secret = \"1xzXEYgwlsbv9RQxd1onUSByiyvtBDPFV9NEY1mv\"\n",
        "url = \"https://naveropenapi.apigw.ntruss.com/vision/v1/celebrity\" # // 유명인 얼굴인식\n",
        "files = {'image': open('', 'rb')}\n",
        "headers = {'X-NCP-APIGW-API-KEY-ID': client_id, 'X-NCP-APIGW-API-KEY': client_secret }\n",
        "response = requests.post(url,  files=files, headers=headers)\n",
        "rescode = response.status_code\n",
        "\n",
        "if(rescode==200):\n",
        "    print(response.text)\n",
        "else:\n",
        "    print(rescode)"
      ]
    },
    {
      "cell_type": "code",
      "source": [
        ""
      ],
      "metadata": {
        "id": "jqzb7yX_qEi9"
      },
      "execution_count": null,
      "outputs": []
    }
  ]
}